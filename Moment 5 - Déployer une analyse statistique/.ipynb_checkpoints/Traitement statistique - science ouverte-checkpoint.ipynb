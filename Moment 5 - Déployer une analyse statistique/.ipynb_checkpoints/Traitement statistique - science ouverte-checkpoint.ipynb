{
 "cells": [
  {
   "cell_type": "markdown",
   "id": "63f18f38",
   "metadata": {},
   "source": [
    "# Enquête sur la science ouverte\n",
    "\n",
    "Mariannig Le Béchec Aline Bouchard Philippe Charrier, Claire Denecker Gabriel Gallezot Stéphanie Rennes\n",
    "\n",
    "Rapport : https://hal.archives-ouvertes.fr/hal-03545512v1\n",
    "\n",
    "Réutilisation de données : https://zenodo.org/record/5827206\n"
   ]
  },
  {
   "cell_type": "markdown",
   "id": "d3c49b87",
   "metadata": {},
   "source": [
    "## Objectifs \n",
    "\n",
    "1. Rendre vivant des données\n",
    "2. Refaire des traitements statistiques\n",
    "3. Produire de nouvelles visualisations\n",
    "\n",
    "\n",
    "Une question d'intérêt : l'usage déclaré de R & Python, analysé dans le rapport"
   ]
  },
  {
   "cell_type": "markdown",
   "id": "c03cff98",
   "metadata": {},
   "source": [
    "## Chargement des données"
   ]
  },
  {
   "cell_type": "markdown",
   "id": "48bb5c48",
   "metadata": {},
   "source": [
    "Utiliser Matplotlib, Pandas et PySHS"
   ]
  },
  {
   "cell_type": "code",
   "execution_count": 19,
   "id": "cc780166",
   "metadata": {},
   "outputs": [],
   "source": [
    "import matplotlib.pyplot as plt\n",
    "import pandas as pd\n",
    "import pyshs"
   ]
  },
  {
   "cell_type": "markdown",
   "id": "270be76d",
   "metadata": {},
   "source": [
    "Charger"
   ]
  },
  {
   "cell_type": "code",
   "execution_count": 10,
   "id": "da394c8c",
   "metadata": {},
   "outputs": [
    {
     "data": {
      "text/html": [
       "<div>\n",
       "<style scoped>\n",
       "    .dataframe tbody tr th:only-of-type {\n",
       "        vertical-align: middle;\n",
       "    }\n",
       "\n",
       "    .dataframe tbody tr th {\n",
       "        vertical-align: top;\n",
       "    }\n",
       "\n",
       "    .dataframe thead th {\n",
       "        text-align: right;\n",
       "    }\n",
       "</style>\n",
       "<table border=\"1\" class=\"dataframe\">\n",
       "  <thead>\n",
       "    <tr style=\"text-align: right;\">\n",
       "      <th></th>\n",
       "      <th>Id</th>\n",
       "      <th>contexte_travail</th>\n",
       "      <th>fonction_recherche</th>\n",
       "      <th>statut_professionnel</th>\n",
       "      <th>statut_professionnel_Autre</th>\n",
       "      <th>annee_premiere_publi</th>\n",
       "      <th>Systeme_exploitation</th>\n",
       "      <th>Usage_telephone_mobile</th>\n",
       "      <th>Outils_gestion_travail_av_confinement_visioconférence</th>\n",
       "      <th>Outils_gestion_travail_av_confinement_planification_RDV</th>\n",
       "      <th>...</th>\n",
       "      <th>Souhait_partage_donnees_produites_discipline</th>\n",
       "      <th>Souhait_partage_donnees_produites_pays_continent</th>\n",
       "      <th>Souhait_partage_donnees_produites_domaine_economique</th>\n",
       "      <th>Souhait_partage_donnees_produites_secteur_associatif</th>\n",
       "      <th>Souhait_partage_donnees_produites_sans_restriction</th>\n",
       "      <th>compatibilite_diffusion_partage</th>\n",
       "      <th>evolutions_pratiques_numeriques</th>\n",
       "      <th>sexe</th>\n",
       "      <th>disciplines_9niv</th>\n",
       "      <th>annee_de_naissance-recod10niv</th>\n",
       "    </tr>\n",
       "  </thead>\n",
       "  <tbody>\n",
       "    <tr>\n",
       "      <th>0</th>\n",
       "      <td>1</td>\n",
       "      <td>nous sommes entre 6 et 10 personnes</td>\n",
       "      <td>professeur / professeure des universités et as...</td>\n",
       "      <td>fonctionnaire ou assimilé</td>\n",
       "      <td>NaN</td>\n",
       "      <td>1995</td>\n",
       "      <td>Windows</td>\n",
       "      <td>rarement</td>\n",
       "      <td>parfois</td>\n",
       "      <td>souvent</td>\n",
       "      <td>...</td>\n",
       "      <td>oui</td>\n",
       "      <td>oui</td>\n",
       "      <td>oui</td>\n",
       "      <td>oui</td>\n",
       "      <td>oui</td>\n",
       "      <td>oui</td>\n",
       "      <td>je ne sais pas</td>\n",
       "      <td>un homme</td>\n",
       "      <td>Sciences humaines</td>\n",
       "      <td>61 à 65 ans</td>\n",
       "    </tr>\n",
       "    <tr>\n",
       "      <th>1</th>\n",
       "      <td>2</td>\n",
       "      <td>nous sommes plus de 50 personnes</td>\n",
       "      <td>ingénieur / ingénieure de recherche</td>\n",
       "      <td>en CDI</td>\n",
       "      <td>NaN</td>\n",
       "      <td>2005</td>\n",
       "      <td>Windows</td>\n",
       "      <td>rarement</td>\n",
       "      <td>parfois</td>\n",
       "      <td>parfois</td>\n",
       "      <td>...</td>\n",
       "      <td>oui</td>\n",
       "      <td>oui</td>\n",
       "      <td>oui</td>\n",
       "      <td>oui</td>\n",
       "      <td>oui</td>\n",
       "      <td>NaN</td>\n",
       "      <td>NaN</td>\n",
       "      <td>un homme</td>\n",
       "      <td>Médecine</td>\n",
       "      <td>46 à 50 ans</td>\n",
       "    </tr>\n",
       "    <tr>\n",
       "      <th>2</th>\n",
       "      <td>3</td>\n",
       "      <td>nous sommes entre 2 et 5 personnes</td>\n",
       "      <td>maître / maîtresse de conférences et assimilés</td>\n",
       "      <td>fonctionnaire ou assimilé</td>\n",
       "      <td>NaN</td>\n",
       "      <td>2006</td>\n",
       "      <td>Windows</td>\n",
       "      <td>parfois</td>\n",
       "      <td>rarement</td>\n",
       "      <td>souvent</td>\n",
       "      <td>...</td>\n",
       "      <td>oui</td>\n",
       "      <td>oui</td>\n",
       "      <td>oui</td>\n",
       "      <td>oui</td>\n",
       "      <td>oui</td>\n",
       "      <td>oui, tout est dans la chronologie</td>\n",
       "      <td>non</td>\n",
       "      <td>un homme</td>\n",
       "      <td>Médecine</td>\n",
       "      <td>36 à 40 ans</td>\n",
       "    </tr>\n",
       "    <tr>\n",
       "      <th>3</th>\n",
       "      <td>4</td>\n",
       "      <td>nous sommes entre 2 et 5 personnes</td>\n",
       "      <td>directeur / directrice de recherche (CNRS, INS...</td>\n",
       "      <td>fonctionnaire ou assimilé</td>\n",
       "      <td>NaN</td>\n",
       "      <td>1989</td>\n",
       "      <td>Windows;autres OS (Android...)</td>\n",
       "      <td>souvent</td>\n",
       "      <td>rarement</td>\n",
       "      <td>souvent</td>\n",
       "      <td>...</td>\n",
       "      <td>oui</td>\n",
       "      <td>oui</td>\n",
       "      <td>non</td>\n",
       "      <td>non</td>\n",
       "      <td>non</td>\n",
       "      <td>Oui</td>\n",
       "      <td>Aucune idée</td>\n",
       "      <td>une femme</td>\n",
       "      <td>Médecine</td>\n",
       "      <td>56 à 60 ans</td>\n",
       "    </tr>\n",
       "    <tr>\n",
       "      <th>4</th>\n",
       "      <td>5</td>\n",
       "      <td>nous sommes entre 2 et 5 personnes</td>\n",
       "      <td>doctorant / doctorante (y compris CIFRE)</td>\n",
       "      <td>en CDD</td>\n",
       "      <td>NaN</td>\n",
       "      <td>2015</td>\n",
       "      <td>MacOS</td>\n",
       "      <td>souvent</td>\n",
       "      <td>rarement</td>\n",
       "      <td>parfois</td>\n",
       "      <td>...</td>\n",
       "      <td>oui</td>\n",
       "      <td>oui</td>\n",
       "      <td>oui</td>\n",
       "      <td>oui</td>\n",
       "      <td>oui</td>\n",
       "      <td>Oui</td>\n",
       "      <td>Oui</td>\n",
       "      <td>une femme</td>\n",
       "      <td>Médecine</td>\n",
       "      <td>31 à 35 ans</td>\n",
       "    </tr>\n",
       "  </tbody>\n",
       "</table>\n",
       "<p>5 rows × 131 columns</p>\n",
       "</div>"
      ],
      "text/plain": [
       "   Id                     contexte_travail  \\\n",
       "0   1  nous sommes entre 6 et 10 personnes   \n",
       "1   2     nous sommes plus de 50 personnes   \n",
       "2   3   nous sommes entre 2 et 5 personnes   \n",
       "3   4   nous sommes entre 2 et 5 personnes   \n",
       "4   5   nous sommes entre 2 et 5 personnes   \n",
       "\n",
       "                                  fonction_recherche  \\\n",
       "0  professeur / professeure des universités et as...   \n",
       "1                ingénieur / ingénieure de recherche   \n",
       "2     maître / maîtresse de conférences et assimilés   \n",
       "3  directeur / directrice de recherche (CNRS, INS...   \n",
       "4           doctorant / doctorante (y compris CIFRE)   \n",
       "\n",
       "        statut_professionnel statut_professionnel_Autre  annee_premiere_publi  \\\n",
       "0  fonctionnaire ou assimilé                        NaN                  1995   \n",
       "1                     en CDI                        NaN                  2005   \n",
       "2  fonctionnaire ou assimilé                        NaN                  2006   \n",
       "3  fonctionnaire ou assimilé                        NaN                  1989   \n",
       "4                     en CDD                        NaN                  2015   \n",
       "\n",
       "             Systeme_exploitation Usage_telephone_mobile  \\\n",
       "0                         Windows               rarement   \n",
       "1                         Windows               rarement   \n",
       "2                         Windows                parfois   \n",
       "3  Windows;autres OS (Android...)                souvent   \n",
       "4                           MacOS                souvent   \n",
       "\n",
       "  Outils_gestion_travail_av_confinement_visioconférence  \\\n",
       "0                                            parfois      \n",
       "1                                            parfois      \n",
       "2                                           rarement      \n",
       "3                                           rarement      \n",
       "4                                           rarement      \n",
       "\n",
       "  Outils_gestion_travail_av_confinement_planification_RDV  ...  \\\n",
       "0                                            souvent       ...   \n",
       "1                                            parfois       ...   \n",
       "2                                            souvent       ...   \n",
       "3                                            souvent       ...   \n",
       "4                                            parfois       ...   \n",
       "\n",
       "  Souhait_partage_donnees_produites_discipline  \\\n",
       "0                                          oui   \n",
       "1                                          oui   \n",
       "2                                          oui   \n",
       "3                                          oui   \n",
       "4                                          oui   \n",
       "\n",
       "  Souhait_partage_donnees_produites_pays_continent  \\\n",
       "0                                              oui   \n",
       "1                                              oui   \n",
       "2                                              oui   \n",
       "3                                              oui   \n",
       "4                                              oui   \n",
       "\n",
       "  Souhait_partage_donnees_produites_domaine_economique  \\\n",
       "0                                                oui     \n",
       "1                                                oui     \n",
       "2                                                oui     \n",
       "3                                                non     \n",
       "4                                                oui     \n",
       "\n",
       "  Souhait_partage_donnees_produites_secteur_associatif  \\\n",
       "0                                                oui     \n",
       "1                                                oui     \n",
       "2                                                oui     \n",
       "3                                                non     \n",
       "4                                                oui     \n",
       "\n",
       "  Souhait_partage_donnees_produites_sans_restriction  \\\n",
       "0                                                oui   \n",
       "1                                                oui   \n",
       "2                                                oui   \n",
       "3                                                non   \n",
       "4                                                oui   \n",
       "\n",
       "     compatibilite_diffusion_partage evolutions_pratiques_numeriques  \\\n",
       "0                                oui                  je ne sais pas   \n",
       "1                                NaN                             NaN   \n",
       "2  oui, tout est dans la chronologie                             non   \n",
       "3                                Oui                     Aucune idée   \n",
       "4                                Oui                             Oui   \n",
       "\n",
       "        sexe   disciplines_9niv annee_de_naissance-recod10niv  \n",
       "0   un homme  Sciences humaines                   61 à 65 ans  \n",
       "1   un homme           Médecine                   46 à 50 ans  \n",
       "2   un homme           Médecine                   36 à 40 ans  \n",
       "3  une femme           Médecine                   56 à 60 ans  \n",
       "4  une femme           Médecine                   31 à 35 ans  \n",
       "\n",
       "[5 rows x 131 columns]"
      ]
     },
     "execution_count": 10,
     "metadata": {},
     "output_type": "execute_result"
    }
   ],
   "source": [
    "data = pd.read_csv(\"../Data/SOSP_Export_base de données diffusable.csv\")\n",
    "data.head()"
   ]
  },
  {
   "cell_type": "markdown",
   "id": "74416648",
   "metadata": {},
   "source": [
    "Création d'un dictionnaire de questions"
   ]
  },
  {
   "cell_type": "code",
   "execution_count": 11,
   "id": "21d51816",
   "metadata": {},
   "outputs": [],
   "source": [
    "questions = pd.read_csv(\"../Data/SOSP_metadonnees_variables.csv\")\n",
    "questions = questions[31:]\n",
    "dic_questions = dict(questions.set_index(\"Titre\")[\"Listes des variables avec les questions et modalités associées\"])"
   ]
  },
  {
   "cell_type": "markdown",
   "id": "6e37ed15",
   "metadata": {},
   "source": [
    "### Une fois qu'on a tout ça, on peut commencer à farfouiller dans les données"
   ]
  },
  {
   "cell_type": "code",
   "execution_count": 8,
   "id": "c80e5453",
   "metadata": {},
   "outputs": [
    {
     "data": {
      "text/plain": [
       "fonctionnaire ou assimilé         711\n",
       "en CDI                            109\n",
       "contrat doctoral                   99\n",
       "en CDD                             95\n",
       "post-doc                           30\n",
       "travailleur indépendant            20\n",
       "doctorant non financé               7\n",
       "chômage                             6\n",
       "retraité                            5\n",
       "professeur / chercheur émérite      3\n",
       "autre                               2\n",
       "vacataire                           2\n",
       "Name: statut_professionnel, dtype: int64"
      ]
     },
     "execution_count": 8,
     "metadata": {},
     "output_type": "execute_result"
    }
   ],
   "source": [
    "data[\"statut_professionnel\"].value_counts()"
   ]
  },
  {
   "cell_type": "markdown",
   "id": "4cdc4e44",
   "metadata": {},
   "source": [
    "Avec l'identification de questions, de réflexions, etc."
   ]
  },
  {
   "cell_type": "markdown",
   "id": "a51639db",
   "metadata": {},
   "source": [
    "Se concentrer sur un sous-ensembles de questions\n",
    "\n",
    "- fonction_recherche\n",
    "- statut_professionnel / statut_professionnel_Autre\n",
    "- annee_premiere_publi\n",
    "- Systeme_exploitation\n",
    "- 'sexe'\n",
    "- 'disciplines_9niv',\n",
    "- 'annee_de_naissance-recod10niv'"
   ]
  },
  {
   "cell_type": "markdown",
   "id": "35e2c82b",
   "metadata": {},
   "source": [
    "-> Formuler une question de recherche : est-ce qu'il y a une dépendance disciplinaire au système d'exploitation ? Est-ce qu'il y a un usage différencié de R et de Python ?"
   ]
  },
  {
   "cell_type": "markdown",
   "id": "7bcf1824",
   "metadata": {},
   "source": [
    "### Usage de R & de Python"
   ]
  },
  {
   "cell_type": "markdown",
   "id": "69f28311",
   "metadata": {},
   "source": [
    "Se concentrer sur les champs explicites d'un logiciel :\n",
    "\n",
    "- logiciel_production_donnees\n",
    "- outils_nettoyage\n",
    "- Outils_analyses\n",
    "- Outils_visualisation\n",
    "\n",
    "Faire une analyse des principales réponses et construire une heuristique de détection : facile pour Python ou Excel, difficile pour R...\n",
    "\n",
    "(remarque en passant -> le nom des variables pourrait être mieux normalisé)"
   ]
  },
  {
   "cell_type": "markdown",
   "id": "4bba3c67",
   "metadata": {},
   "source": [
    "Opérations \n",
    "\n",
    "1. Regrouper les champs\n",
    "2. Détecter la présence\n"
   ]
  },
  {
   "cell_type": "code",
   "execution_count": 12,
   "id": "eb95cd0d",
   "metadata": {},
   "outputs": [],
   "source": [
    "# Définir les colonnes concernées\n",
    "var = [\"logiciel_production_donnees\",\"outils_nettoyage\",\"Outils_analyses\",\"Outils_visualisation\"]\n",
    "\n",
    "#Regrouper toutes les informations dans un seul champ\n",
    "data[\"outils\"] = data.apply(lambda x : \" \".join([x[i] for i in var if pd.notnull(x[i])]),axis=1)\n",
    "data[\"outils\"] = data[\"outils\"].apply(lambda x : x if x!=\"\" else None)"
   ]
  },
  {
   "cell_type": "markdown",
   "id": "a2611ad5",
   "metadata": {},
   "source": [
    "Définition d'heuristiques de détection (à améliorer potentiellement) pour détecter la présence : c'est la cuisine..."
   ]
  },
  {
   "cell_type": "code",
   "execution_count": 13,
   "id": "75b3f59e",
   "metadata": {},
   "outputs": [],
   "source": [
    "data[\"outils_R\"] = data[\"outils\"].str.contains(\"R,| R|R |\\nR|R | r | r,|,r \")\n",
    "data[\"outils_Python\"] = data[\"outils\"].str.lower().str.contains(\"python\")\n",
    "data[\"outils_Excel\"] = data[\"outils\"].str.lower().str.contains(\"excel|exel\")\n",
    "data[\"outils_Word\"] = data[\"outils\"].str.lower().str.contains(\"word\")\n",
    "data[\"outils_Matlab\"] = data[\"outils\"].str.lower().str.contains(\"matlab\")"
   ]
  },
  {
   "cell_type": "markdown",
   "id": "cdc99375",
   "metadata": {},
   "source": [
    "Création d'un tableau exploratoire"
   ]
  },
  {
   "cell_type": "code",
   "execution_count": 14,
   "id": "ef9a15ff",
   "metadata": {
    "scrolled": true
   },
   "outputs": [
    {
     "data": {
      "text/html": [
       "<div>\n",
       "<style scoped>\n",
       "    .dataframe tbody tr th:only-of-type {\n",
       "        vertical-align: middle;\n",
       "    }\n",
       "\n",
       "    .dataframe tbody tr th {\n",
       "        vertical-align: top;\n",
       "    }\n",
       "\n",
       "    .dataframe thead tr th {\n",
       "        text-align: left;\n",
       "    }\n",
       "</style>\n",
       "<table border=\"1\" class=\"dataframe\">\n",
       "  <thead>\n",
       "    <tr>\n",
       "      <th></th>\n",
       "      <th colspan=\"2\" halign=\"left\">Excel</th>\n",
       "      <th colspan=\"2\" halign=\"left\">R</th>\n",
       "      <th colspan=\"2\" halign=\"left\">Python</th>\n",
       "      <th colspan=\"2\" halign=\"left\">Matlab</th>\n",
       "    </tr>\n",
       "    <tr>\n",
       "      <th></th>\n",
       "      <th>Effectif</th>\n",
       "      <th>Pourcentage (%)</th>\n",
       "      <th>Effectif</th>\n",
       "      <th>Pourcentage (%)</th>\n",
       "      <th>Effectif</th>\n",
       "      <th>Pourcentage (%)</th>\n",
       "      <th>Effectif</th>\n",
       "      <th>Pourcentage (%)</th>\n",
       "    </tr>\n",
       "  </thead>\n",
       "  <tbody>\n",
       "    <tr>\n",
       "      <th>False</th>\n",
       "      <td>730.0</td>\n",
       "      <td>67.2</td>\n",
       "      <td>815.0</td>\n",
       "      <td>75.0</td>\n",
       "      <td>919.0</td>\n",
       "      <td>84.5</td>\n",
       "      <td>973.0</td>\n",
       "      <td>89.5</td>\n",
       "    </tr>\n",
       "    <tr>\n",
       "      <th>True</th>\n",
       "      <td>357.0</td>\n",
       "      <td>32.8</td>\n",
       "      <td>272.0</td>\n",
       "      <td>25.0</td>\n",
       "      <td>168.0</td>\n",
       "      <td>15.5</td>\n",
       "      <td>114.0</td>\n",
       "      <td>10.5</td>\n",
       "    </tr>\n",
       "    <tr>\n",
       "      <th>Total</th>\n",
       "      <td>1087.0</td>\n",
       "      <td>100.0</td>\n",
       "      <td>1087.0</td>\n",
       "      <td>100.0</td>\n",
       "      <td>1087.0</td>\n",
       "      <td>100.0</td>\n",
       "      <td>1087.0</td>\n",
       "      <td>100.0</td>\n",
       "    </tr>\n",
       "  </tbody>\n",
       "</table>\n",
       "</div>"
      ],
      "text/plain": [
       "         Excel                        R                   Python  \\\n",
       "      Effectif Pourcentage (%) Effectif Pourcentage (%) Effectif   \n",
       "False    730.0            67.2    815.0            75.0    919.0   \n",
       "True     357.0            32.8    272.0            25.0    168.0   \n",
       "Total   1087.0           100.0   1087.0           100.0   1087.0   \n",
       "\n",
       "                        Matlab                  \n",
       "      Pourcentage (%) Effectif Pourcentage (%)  \n",
       "False            84.5    973.0            89.5  \n",
       "True             15.5    114.0            10.5  \n",
       "Total           100.0   1087.0           100.0  "
      ]
     },
     "execution_count": 14,
     "metadata": {},
     "output_type": "execute_result"
    }
   ],
   "source": [
    "outils = {\n",
    "\"Excel\":pyshs.tri_a_plat(data,\"outils_Excel\"),\n",
    "\"R\":pyshs.tri_a_plat(data,\"outils_R\"),\n",
    "\"Python\":pyshs.tri_a_plat(data,\"outils_Python\"),\n",
    "\"Matlab\":pyshs.tri_a_plat(data,\"outils_Matlab\"), \n",
    "         }\n",
    "tab = pd.concat(outils,axis=1)\n",
    "tab"
   ]
  },
  {
   "cell_type": "markdown",
   "id": "cb7ad768",
   "metadata": {},
   "source": [
    "Visualisation intermédiaire"
   ]
  },
  {
   "cell_type": "code",
   "execution_count": 18,
   "id": "d2e5848e",
   "metadata": {},
   "outputs": [
    {
     "data": {
      "text/plain": [
       "<AxesSubplot:title={'center':'Usage Excel'}>"
      ]
     },
     "execution_count": 18,
     "metadata": {},
     "output_type": "execute_result"
    },
    {
     "data": {
      "image/png": "[encoded data removed]",
      "text/plain": [
       "<Figure size 432x288 with 1 Axes>"
      ]
     },
     "metadata": {
      "needs_background": "light"
     },
     "output_type": "display_data"
    }
   ],
   "source": [
    "pyshs.tri_a_plat(data,\"outils_Excel\")[\"Pourcentage (%)\"].drop(\"Total\").plot(kind=\"bar\",title=\"Usage Excel\")"
   ]
  },
  {
   "cell_type": "markdown",
   "id": "f741fd0e",
   "metadata": {},
   "source": [
    "Tableau croisé"
   ]
  },
  {
   "cell_type": "code",
   "execution_count": 197,
   "id": "2452ff6b",
   "metadata": {},
   "outputs": [
    {
     "data": {
      "text/html": [
       "<div>\n",
       "<style scoped>\n",
       "    .dataframe tbody tr th:only-of-type {\n",
       "        vertical-align: middle;\n",
       "    }\n",
       "\n",
       "    .dataframe tbody tr th {\n",
       "        vertical-align: top;\n",
       "    }\n",
       "\n",
       "    .dataframe thead th {\n",
       "        text-align: right;\n",
       "    }\n",
       "</style>\n",
       "<table border=\"1\" class=\"dataframe\">\n",
       "  <thead>\n",
       "    <tr style=\"text-align: right;\">\n",
       "      <th>disciplines_9niv</th>\n",
       "      <th>Chimie, Matériaux</th>\n",
       "      <th>Lettres et Arts</th>\n",
       "      <th>Mathématiques, Informatiques</th>\n",
       "      <th>Médecine</th>\n",
       "      <th>Physique, Sciences de la terre et de l'Univers</th>\n",
       "      <th>Science de l'ingénieur</th>\n",
       "      <th>Sciences du vivant</th>\n",
       "      <th>Sciences humaines</th>\n",
       "      <th>Sciences sociales</th>\n",
       "      <th>All</th>\n",
       "    </tr>\n",
       "    <tr>\n",
       "      <th>outils_Python</th>\n",
       "      <th></th>\n",
       "      <th></th>\n",
       "      <th></th>\n",
       "      <th></th>\n",
       "      <th></th>\n",
       "      <th></th>\n",
       "      <th></th>\n",
       "      <th></th>\n",
       "      <th></th>\n",
       "      <th></th>\n",
       "    </tr>\n",
       "  </thead>\n",
       "  <tbody>\n",
       "    <tr>\n",
       "      <th>False</th>\n",
       "      <td>0.932203</td>\n",
       "      <td>0.931034</td>\n",
       "      <td>0.681159</td>\n",
       "      <td>0.888889</td>\n",
       "      <td>0.582524</td>\n",
       "      <td>0.648352</td>\n",
       "      <td>0.905797</td>\n",
       "      <td>0.948905</td>\n",
       "      <td>0.95</td>\n",
       "      <td>0.843721</td>\n",
       "    </tr>\n",
       "    <tr>\n",
       "      <th>True</th>\n",
       "      <td>0.067797</td>\n",
       "      <td>0.068966</td>\n",
       "      <td>0.318841</td>\n",
       "      <td>0.111111</td>\n",
       "      <td>0.417476</td>\n",
       "      <td>0.351648</td>\n",
       "      <td>0.094203</td>\n",
       "      <td>0.051095</td>\n",
       "      <td>0.05</td>\n",
       "      <td>0.156279</td>\n",
       "    </tr>\n",
       "  </tbody>\n",
       "</table>\n",
       "</div>"
      ],
      "text/plain": [
       "disciplines_9niv  Chimie, Matériaux  Lettres et Arts  \\\n",
       "outils_Python                                          \n",
       "False                      0.932203         0.931034   \n",
       "True                       0.067797         0.068966   \n",
       "\n",
       "disciplines_9niv  Mathématiques, Informatiques  Médecine  \\\n",
       "outils_Python                                              \n",
       "False                                 0.681159  0.888889   \n",
       "True                                  0.318841  0.111111   \n",
       "\n",
       "disciplines_9niv  Physique, Sciences de la terre et de l'Univers  \\\n",
       "outils_Python                                                      \n",
       "False                                                   0.582524   \n",
       "True                                                    0.417476   \n",
       "\n",
       "disciplines_9niv  Science de l'ingénieur  Sciences du vivant  \\\n",
       "outils_Python                                                  \n",
       "False                           0.648352            0.905797   \n",
       "True                            0.351648            0.094203   \n",
       "\n",
       "disciplines_9niv  Sciences humaines  Sciences sociales       All  \n",
       "outils_Python                                                     \n",
       "False                      0.948905               0.95  0.843721  \n",
       "True                       0.051095               0.05  0.156279  "
      ]
     },
     "execution_count": 197,
     "metadata": {},
     "output_type": "execute_result"
    }
   ],
   "source": [
    "pd.crosstab(data[\"outils_Python\"],data[\"disciplines_9niv\"],normalize=\"columns\",margins=True)"
   ]
  },
  {
   "cell_type": "markdown",
   "id": "0e70ef83",
   "metadata": {},
   "source": [
    "Création d'une visualisation"
   ]
  },
  {
   "cell_type": "code",
   "execution_count": 23,
   "id": "3f2e5464",
   "metadata": {},
   "outputs": [
    {
     "data": {
      "image/png": "[encoded data removed]",
      "text/plain": [
       "<Figure size 720x288 with 1 Axes>"
      ]
     },
     "metadata": {
      "needs_background": "light"
     },
     "output_type": "display_data"
    }
   ],
   "source": [
    "pd.crosstab(data[\"outils_Python\"],data[\"disciplines_9niv\"],normalize=\"columns\").T.plot(kind=\"barh\",figsize=(10,4))\n",
    "\n",
    "# compléter et sauvegarder la figure\n",
    "plt.ylabel(\"\")\n",
    "plt.xlabel(\"Fréquence\")\n",
    "plt.tight_layout()\n",
    "plt.savefig(\"fig.png\",dpi=300)"
   ]
  },
  {
   "cell_type": "markdown",
   "id": "c8d2f6e2",
   "metadata": {},
   "source": [
    "## Visualisation juxtaposée (un peu) finalisée"
   ]
  },
  {
   "cell_type": "code",
   "execution_count": 57,
   "id": "9b3e867c",
   "metadata": {},
   "outputs": [
    {
     "data": {
      "image/png": "[encoded data removed]",
      "text/plain": [
       "<Figure size 720x360 with 2 Axes>"
      ]
     },
     "metadata": {
      "needs_background": "light"
     },
     "output_type": "display_data"
    }
   ],
   "source": [
    "# Définition de la figure\n",
    "fig,ax = plt.subplots(1,2,figsize=(10,5),sharey=True,sharex=True)\n",
    "\n",
    "# Ajout des deux figures\n",
    "(100*pd.crosstab(data[\"outils_Python\"],data[\"disciplines_9niv\"],normalize=\"columns\")).T.plot(kind=\"barh\",ax=ax[0],\n",
    "                                                                                      legend=False,color=[\"#005073\",\"#71c7ec\"])\n",
    "(100*pd.crosstab(data[\"outils_R\"],data[\"disciplines_9niv\"],normalize=\"columns\")).T.plot(kind=\"barh\",ax=ax[1],\n",
    "                                                                                legend=False,color=[\"#005073\",\"#71c7ec\"])\n",
    "# Diverses configurations de paramètres\n",
    "plt.suptitle(\"Usage de langages pour le traitement numérique de données\")\n",
    "ax[0].set_ylabel(\"\")\n",
    "ax[0].set_xlabel(\"% répondants\")\n",
    "ax[1].set_xlabel(\"% répondants\")\n",
    "ax[0].set_title(\"Python\")\n",
    "ax[1].set_title(\"R\")\n",
    "plt.legend(title='Légende',labels=[\"Faux\",\"Vrai\"], bbox_to_anchor=(1.1, 1), loc='upper left')\n",
    "\n",
    "# Sauvegarde\n",
    "plt.savefig(\"fig.png\",dpi=300,bbox_inches='tight')"
   ]
  },
  {
   "cell_type": "markdown",
   "id": "14bc512c",
   "metadata": {},
   "source": [
    "### Modèle : régression logistique\n",
    "\n",
    "Les facteurs qui pèsent sur l'usage de Python"
   ]
  },
  {
   "cell_type": "code",
   "execution_count": 25,
   "id": "be2e9295",
   "metadata": {},
   "outputs": [],
   "source": [
    "# Création d'une variable indicatrice 0/1\n",
    "data[\"outils_Python_B\"] = data[\"outils_Python\"].replace({True:1,False:0}).fillna(0)"
   ]
  },
  {
   "cell_type": "code",
   "execution_count": 204,
   "id": "bc484f43",
   "metadata": {},
   "outputs": [
    {
     "data": {
      "text/html": [
       "<div>\n",
       "<style scoped>\n",
       "    .dataframe tbody tr th:only-of-type {\n",
       "        vertical-align: middle;\n",
       "    }\n",
       "\n",
       "    .dataframe tbody tr th {\n",
       "        vertical-align: top;\n",
       "    }\n",
       "\n",
       "    .dataframe thead th {\n",
       "        text-align: right;\n",
       "    }\n",
       "</style>\n",
       "<table border=\"1\" class=\"dataframe\">\n",
       "  <thead>\n",
       "    <tr style=\"text-align: right;\">\n",
       "      <th></th>\n",
       "      <th></th>\n",
       "      <th>Odds Ratio</th>\n",
       "      <th>p</th>\n",
       "      <th>IC 95%</th>\n",
       "    </tr>\n",
       "    <tr>\n",
       "      <th>Variable</th>\n",
       "      <th>Modalité</th>\n",
       "      <th></th>\n",
       "      <th></th>\n",
       "      <th></th>\n",
       "    </tr>\n",
       "  </thead>\n",
       "  <tbody>\n",
       "    <tr>\n",
       "      <th>.Intercept</th>\n",
       "      <th></th>\n",
       "      <td>0.09</td>\n",
       "      <td>0.001**</td>\n",
       "      <td>0.09 [0.02-0.36]</td>\n",
       "    </tr>\n",
       "    <tr>\n",
       "      <th rowspan=\"10\" valign=\"top\">Age</th>\n",
       "      <th>25 à 30 ans</th>\n",
       "      <td>ref</td>\n",
       "      <td></td>\n",
       "      <td></td>\n",
       "    </tr>\n",
       "    <tr>\n",
       "      <th>31 à 35 ans</th>\n",
       "      <td>0.87</td>\n",
       "      <td>0.717</td>\n",
       "      <td>0.87 [0.42-1.81]</td>\n",
       "    </tr>\n",
       "    <tr>\n",
       "      <th>36 à 40 ans</th>\n",
       "      <td>1.19</td>\n",
       "      <td>0.6</td>\n",
       "      <td>1.19 [0.62-2.30]</td>\n",
       "    </tr>\n",
       "    <tr>\n",
       "      <th>41 à 45 ans</th>\n",
       "      <td>0.67</td>\n",
       "      <td>0.249</td>\n",
       "      <td>0.67 [0.34-1.32]</td>\n",
       "    </tr>\n",
       "    <tr>\n",
       "      <th>46 à 50 ans</th>\n",
       "      <td>0.59</td>\n",
       "      <td>0.131</td>\n",
       "      <td>0.59 [0.30-1.17]</td>\n",
       "    </tr>\n",
       "    <tr>\n",
       "      <th>51 à 55 ans</th>\n",
       "      <td>0.46</td>\n",
       "      <td>0.051</td>\n",
       "      <td>0.46 [0.21-1.00]</td>\n",
       "    </tr>\n",
       "    <tr>\n",
       "      <th>56 à 60 ans</th>\n",
       "      <td>0.48</td>\n",
       "      <td>0.076</td>\n",
       "      <td>0.48 [0.21-1.08]</td>\n",
       "    </tr>\n",
       "    <tr>\n",
       "      <th>61 à 65 ans</th>\n",
       "      <td>0.14</td>\n",
       "      <td>0.004**</td>\n",
       "      <td>0.14 [0.04-0.54]</td>\n",
       "    </tr>\n",
       "    <tr>\n",
       "      <th>66 ans et plus</th>\n",
       "      <td>0.24</td>\n",
       "      <td>0.083</td>\n",
       "      <td>0.24 [0.05-1.20]</td>\n",
       "    </tr>\n",
       "    <tr>\n",
       "      <th>moins de 25 ans</th>\n",
       "      <td>1.01</td>\n",
       "      <td>0.986</td>\n",
       "      <td>1.01 [0.36-2.81]</td>\n",
       "    </tr>\n",
       "    <tr>\n",
       "      <th rowspan=\"9\" valign=\"top\">Discipline</th>\n",
       "      <th>Chimie, Matériaux</th>\n",
       "      <td>ref</td>\n",
       "      <td></td>\n",
       "      <td></td>\n",
       "    </tr>\n",
       "    <tr>\n",
       "      <th>Lettres et Arts</th>\n",
       "      <td>1.14</td>\n",
       "      <td>0.857</td>\n",
       "      <td>1.14 [0.27-4.88]</td>\n",
       "    </tr>\n",
       "    <tr>\n",
       "      <th>Mathématiques, Informatiques</th>\n",
       "      <td>7.17</td>\n",
       "      <td>0.0***</td>\n",
       "      <td>7.17 [2.41-21.34]</td>\n",
       "    </tr>\n",
       "    <tr>\n",
       "      <th>Médecine</th>\n",
       "      <td>1.73</td>\n",
       "      <td>0.424</td>\n",
       "      <td>1.73 [0.45-6.60]</td>\n",
       "    </tr>\n",
       "    <tr>\n",
       "      <th>Physique, Sciences de la terre et de l'Univers</th>\n",
       "      <td>12.39</td>\n",
       "      <td>0.0***</td>\n",
       "      <td>12.39 [4.09-37.55]</td>\n",
       "    </tr>\n",
       "    <tr>\n",
       "      <th>Science de l'ingénieur</th>\n",
       "      <td>7.7</td>\n",
       "      <td>0.0***</td>\n",
       "      <td>7.70 [2.52-23.51]</td>\n",
       "    </tr>\n",
       "    <tr>\n",
       "      <th>Sciences du vivant</th>\n",
       "      <td>1.66</td>\n",
       "      <td>0.402</td>\n",
       "      <td>1.66 [0.51-5.37]</td>\n",
       "    </tr>\n",
       "    <tr>\n",
       "      <th>Sciences humaines</th>\n",
       "      <td>0.79</td>\n",
       "      <td>0.686</td>\n",
       "      <td>0.79 [0.25-2.51]</td>\n",
       "    </tr>\n",
       "    <tr>\n",
       "      <th>Sciences sociales</th>\n",
       "      <td>0.71</td>\n",
       "      <td>0.589</td>\n",
       "      <td>0.71 [0.20-2.47]</td>\n",
       "    </tr>\n",
       "    <tr>\n",
       "      <th rowspan=\"3\" valign=\"top\">Genre</th>\n",
       "      <th>je ne souhaite pas répondre</th>\n",
       "      <td>ref</td>\n",
       "      <td></td>\n",
       "      <td></td>\n",
       "    </tr>\n",
       "    <tr>\n",
       "      <th>un homme</th>\n",
       "      <td>1.01</td>\n",
       "      <td>0.988</td>\n",
       "      <td>1.01 [0.37-2.71]</td>\n",
       "    </tr>\n",
       "    <tr>\n",
       "      <th>une femme</th>\n",
       "      <td>1.28</td>\n",
       "      <td>0.627</td>\n",
       "      <td>1.28 [0.48-3.43]</td>\n",
       "    </tr>\n",
       "  </tbody>\n",
       "</table>\n",
       "</div>"
      ],
      "text/plain": [
       "                                                          Odds Ratio        p  \\\n",
       "Variable   Modalité                                                             \n",
       ".Intercept                                                      0.09  0.001**   \n",
       "Age        25 à 30 ans                                           ref            \n",
       "           31 à 35 ans                                          0.87    0.717   \n",
       "           36 à 40 ans                                          1.19      0.6   \n",
       "           41 à 45 ans                                          0.67    0.249   \n",
       "           46 à 50 ans                                          0.59    0.131   \n",
       "           51 à 55 ans                                          0.46    0.051   \n",
       "           56 à 60 ans                                          0.48    0.076   \n",
       "           61 à 65 ans                                          0.14  0.004**   \n",
       "           66 ans et plus                                       0.24    0.083   \n",
       "           moins de 25 ans                                      1.01    0.986   \n",
       "Discipline Chimie, Matériaux                                     ref            \n",
       "           Lettres et Arts                                      1.14    0.857   \n",
       "           Mathématiques, Informatiques                         7.17   0.0***   \n",
       "           Médecine                                             1.73    0.424   \n",
       "           Physique, Sciences de la terre et de l'Univers      12.39   0.0***   \n",
       "           Science de l'ingénieur                                7.7   0.0***   \n",
       "           Sciences du vivant                                   1.66    0.402   \n",
       "           Sciences humaines                                    0.79    0.686   \n",
       "           Sciences sociales                                    0.71    0.589   \n",
       "Genre      je ne souhaite pas répondre                           ref            \n",
       "           un homme                                             1.01    0.988   \n",
       "           une femme                                            1.28    0.627   \n",
       "\n",
       "                                                                       IC 95%  \n",
       "Variable   Modalité                                                            \n",
       ".Intercept                                                   0.09 [0.02-0.36]  \n",
       "Age        25 à 30 ans                                                         \n",
       "           31 à 35 ans                                       0.87 [0.42-1.81]  \n",
       "           36 à 40 ans                                       1.19 [0.62-2.30]  \n",
       "           41 à 45 ans                                       0.67 [0.34-1.32]  \n",
       "           46 à 50 ans                                       0.59 [0.30-1.17]  \n",
       "           51 à 55 ans                                       0.46 [0.21-1.00]  \n",
       "           56 à 60 ans                                       0.48 [0.21-1.08]  \n",
       "           61 à 65 ans                                       0.14 [0.04-0.54]  \n",
       "           66 ans et plus                                    0.24 [0.05-1.20]  \n",
       "           moins de 25 ans                                   1.01 [0.36-2.81]  \n",
       "Discipline Chimie, Matériaux                                                   \n",
       "           Lettres et Arts                                   1.14 [0.27-4.88]  \n",
       "           Mathématiques, Informatiques                     7.17 [2.41-21.34]  \n",
       "           Médecine                                          1.73 [0.45-6.60]  \n",
       "           Physique, Sciences de la terre et de l'Univers  12.39 [4.09-37.55]  \n",
       "           Science de l'ingénieur                           7.70 [2.52-23.51]  \n",
       "           Sciences du vivant                                1.66 [0.51-5.37]  \n",
       "           Sciences humaines                                 0.79 [0.25-2.51]  \n",
       "           Sciences sociales                                 0.71 [0.20-2.47]  \n",
       "Genre      je ne souhaite pas répondre                                         \n",
       "           un homme                                          1.01 [0.37-2.71]  \n",
       "           une femme                                         1.28 [0.48-3.43]  "
      ]
     },
     "execution_count": 204,
     "metadata": {},
     "output_type": "execute_result"
    }
   ],
   "source": [
    "# Mettre en forme les données\n",
    "data[\"annee\"] = data[\"annee_de_naissance-recod10niv\"]\n",
    "\n",
    "var_ind = {\"sexe\":\"Genre\",\"disciplines_9niv\":\"Discipline\",\"annee\":\"Age\"}\n",
    "\n",
    "# Calculer le modèle\n",
    "pyshs.regression_logistique(data,\"outils_Python_B\",var_ind)"
   ]
  },
  {
   "cell_type": "markdown",
   "id": "4f2547ae",
   "metadata": {},
   "source": [
    "### Réaliser une analyse en composantes principales (ACM)"
   ]
  },
  {
   "cell_type": "markdown",
   "id": "93332315",
   "metadata": {},
   "source": [
    "Création du tableau"
   ]
  },
  {
   "cell_type": "code",
   "execution_count": 183,
   "id": "d9ac0685",
   "metadata": {},
   "outputs": [],
   "source": [
    "X = data[[\"outils_R\",\"outils_Excel\",\"outils_Word\",\"outils_Matlab\",\"outils_Python\"]]\n",
    "X = X.replace({True:\"Oui\",False:\"Non\"}).fillna(\"Non\")"
   ]
  },
  {
   "cell_type": "markdown",
   "id": "98eddefc",
   "metadata": {},
   "source": [
    "Calcul de la MCA"
   ]
  },
  {
   "cell_type": "code",
   "execution_count": 184,
   "id": "f825d12a",
   "metadata": {},
   "outputs": [],
   "source": [
    "import prince\n",
    "mca = prince.MCA(n_components=2)\n",
    "mca = mca.fit(X)"
   ]
  },
  {
   "cell_type": "markdown",
   "id": "bb4f6b96",
   "metadata": {},
   "source": [
    "Calcul des coordonnées de variables supplémentaires"
   ]
  },
  {
   "cell_type": "code",
   "execution_count": 185,
   "id": "bff96008",
   "metadata": {},
   "outputs": [
    {
     "data": {
      "text/html": [
       "<div>\n",
       "<style scoped>\n",
       "    .dataframe tbody tr th:only-of-type {\n",
       "        vertical-align: middle;\n",
       "    }\n",
       "\n",
       "    .dataframe tbody tr th {\n",
       "        vertical-align: top;\n",
       "    }\n",
       "\n",
       "    .dataframe thead th {\n",
       "        text-align: right;\n",
       "    }\n",
       "</style>\n",
       "<table border=\"1\" class=\"dataframe\">\n",
       "  <thead>\n",
       "    <tr style=\"text-align: right;\">\n",
       "      <th></th>\n",
       "      <th>X</th>\n",
       "      <th>Y</th>\n",
       "    </tr>\n",
       "    <tr>\n",
       "      <th>dis</th>\n",
       "      <th></th>\n",
       "      <th></th>\n",
       "    </tr>\n",
       "  </thead>\n",
       "  <tbody>\n",
       "    <tr>\n",
       "      <th>Chimie, Matériaux</th>\n",
       "      <td>-0.169824</td>\n",
       "      <td>0.011457</td>\n",
       "    </tr>\n",
       "    <tr>\n",
       "      <th>Lettres et Arts</th>\n",
       "      <td>-0.329660</td>\n",
       "      <td>-0.323810</td>\n",
       "    </tr>\n",
       "    <tr>\n",
       "      <th>Mathématiques, Informatiques</th>\n",
       "      <td>0.305690</td>\n",
       "      <td>-0.111518</td>\n",
       "    </tr>\n",
       "    <tr>\n",
       "      <th>Médecine</th>\n",
       "      <td>0.019997</td>\n",
       "      <td>0.154328</td>\n",
       "    </tr>\n",
       "    <tr>\n",
       "      <th>Physique, Sciences de la terre et de l'Univers</th>\n",
       "      <td>0.409072</td>\n",
       "      <td>-0.067208</td>\n",
       "    </tr>\n",
       "    <tr>\n",
       "      <th>Science de l'ingénieur</th>\n",
       "      <td>0.342121</td>\n",
       "      <td>0.024880</td>\n",
       "    </tr>\n",
       "    <tr>\n",
       "      <th>Sciences du vivant</th>\n",
       "      <td>-0.036041</td>\n",
       "      <td>0.271009</td>\n",
       "    </tr>\n",
       "    <tr>\n",
       "      <th>Sciences humaines</th>\n",
       "      <td>-0.191772</td>\n",
       "      <td>-0.021172</td>\n",
       "    </tr>\n",
       "    <tr>\n",
       "      <th>Sciences sociales</th>\n",
       "      <td>-0.176206</td>\n",
       "      <td>-0.009412</td>\n",
       "    </tr>\n",
       "  </tbody>\n",
       "</table>\n",
       "</div>"
      ],
      "text/plain": [
       "                                                       X         Y\n",
       "dis                                                               \n",
       "Chimie, Matériaux                              -0.169824  0.011457\n",
       "Lettres et Arts                                -0.329660 -0.323810\n",
       "Mathématiques, Informatiques                    0.305690 -0.111518\n",
       "Médecine                                        0.019997  0.154328\n",
       "Physique, Sciences de la terre et de l'Univers  0.409072 -0.067208\n",
       "Science de l'ingénieur                          0.342121  0.024880\n",
       "Sciences du vivant                             -0.036041  0.271009\n",
       "Sciences humaines                              -0.191772 -0.021172\n",
       "Sciences sociales                              -0.176206 -0.009412"
      ]
     },
     "execution_count": 185,
     "metadata": {},
     "output_type": "execute_result"
    }
   ],
   "source": [
    "t = mca.row_coordinates(X)\n",
    "t[\"dis\"] = data[\"disciplines_9niv\"]\n",
    "disciplines = pd.concat({\"X\":t.groupby(\"dis\")[0].mean(),\"Y\":t.groupby(\"dis\")[1].mean()},axis=1)\n",
    "disciplines"
   ]
  },
  {
   "cell_type": "markdown",
   "id": "ef1fc132",
   "metadata": {},
   "source": [
    "Représentation"
   ]
  },
  {
   "cell_type": "code",
   "execution_count": 207,
   "id": "37f7aa3b",
   "metadata": {},
   "outputs": [
    {
     "data": {
      "text/plain": [
       "Text(0.5, 1.0, 'ACM usage des outils R/Python/Excel/Matlab/Word dans le workflow')"
      ]
     },
     "execution_count": 207,
     "metadata": {},
     "output_type": "execute_result"
    },
    {
     "data": {
      "image/png": "[encoded data removed]",
      "text/plain": [
       "<Figure size 576x576 with 1 Axes>"
      ]
     },
     "metadata": {
      "needs_background": "light"
     },
     "output_type": "display_data"
    }
   ],
   "source": [
    "import matplotlib.pyplot as plt\n",
    "\n",
    "#Fonction de Prince\n",
    "ax = mca.plot_coordinates(X=X,figsize=(8, 8),\n",
    "                             show_row_points=True,\n",
    "                             row_points_size=10,\n",
    "                             show_row_labels=False,\n",
    "                             show_column_points=True,\n",
    "                             column_points_size=30,\n",
    "                             show_column_labels=True,\n",
    "                             legend_n_cols=1)\n",
    "\n",
    "# Ajout d'éléments\n",
    "for i,j in disciplines.iterrows():\n",
    "    ax.text(j[\"X\"],j[\"Y\"],i, fontsize=7, bbox={\"facecolor\":'red', \"alpha\":0.5})\n",
    "    \n",
    "plt.title(\"ACM usage des outils R/Python/Excel/Matlab/Word dans le workflow\")"
   ]
  }
 ],
 "metadata": {
  "kernelspec": {
   "display_name": "Python 3 (ipykernel)",
   "language": "python",
   "name": "python3"
  },
  "language_info": {
   "codemirror_mode": {
    "name": "ipython",
    "version": 3
   },
   "file_extension": ".py",
   "mimetype": "text/x-python",
   "name": "python",
   "nbconvert_exporter": "python",
   "pygments_lexer": "ipython3",
   "version": "3.8.12"
  }
 },
 "nbformat": 4,
 "nbformat_minor": 5
}
