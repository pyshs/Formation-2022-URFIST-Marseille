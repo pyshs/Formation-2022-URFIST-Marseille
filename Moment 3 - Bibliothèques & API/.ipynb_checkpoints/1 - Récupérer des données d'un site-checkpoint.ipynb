{
 "cells": [
  {
   "cell_type": "markdown",
   "id": "d288c32f",
   "metadata": {},
   "source": [
    "# Récupérer les données d'un site\n",
    "\n",
    "\n",
    "## 1. Identifier les tâches\n",
    "\n",
    "- récupérer le contenu d'un  site\n",
    "- enregistrer sur le disque dur\n",
    "- analyser le contenu\n",
    "\n",
    "## 2. Faire ses recherches\n",
    "\n",
    "\n",
    "### 2.1 Collecter une URL\n",
    "\n",
    "- \"python get url\" sur Google ?\n",
    "- plusieurs options, regarder un peu et prendre celle qui est la plus facile à aborder\n",
    "- lire la page, comprendre la philosophie\n",
    "- faire les exemples : installer, tester\n",
    "- faire une opération simple\n",
    "- construire ses briques de base\n",
    "\n",
    "### 2.2 Stocker le fichier\n",
    "\n",
    "- notion de base suffisent\n",
    "\n",
    "### 2.3 Analyser le contenu\n",
    "\n",
    "- trouver le bon niveau efficacité/finesse"
   ]
  }
 ],
 "metadata": {
  "kernelspec": {
   "display_name": "Python 3 (ipykernel)",
   "language": "python",
   "name": "python3"
  },
  "language_info": {
   "codemirror_mode": {
    "name": "ipython",
    "version": 3
   },
   "file_extension": ".py",
   "mimetype": "text/x-python",
   "name": "python",
   "nbconvert_exporter": "python",
   "pygments_lexer": "ipython3",
   "version": "3.8.12"
  }
 },
 "nbformat": 4,
 "nbformat_minor": 5
}
