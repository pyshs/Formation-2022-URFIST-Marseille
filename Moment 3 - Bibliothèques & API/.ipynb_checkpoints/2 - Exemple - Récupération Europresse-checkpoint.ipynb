{
 "cells": [
  {
   "cell_type": "markdown",
   "metadata": {},
   "source": [
    "# Traitement des données Europresse\n",
    "\n",
    "Présence du terme \"science ouverte\""
   ]
  },
  {
   "cell_type": "markdown",
   "metadata": {},
   "source": [
    "## Moment 1 - Récupérer sur Europresse\n",
    "\n",
    "Moment \"man in the loop\"\n",
    "\n",
    "Fichier europresse_science_ouverte_presse_nationale.html"
   ]
  },
  {
   "cell_type": "markdown",
   "metadata": {},
   "source": [
    "## Moment 2 - Traiter les données"
   ]
  },
  {
   "cell_type": "code",
   "execution_count": 3,
   "metadata": {},
   "outputs": [],
   "source": [
    "import bs4 # Bibliothèque données html\n",
    "import pandas as pd # Bibliothèque tableaux\n",
    "import matplotlib.pyplot as plt # Bibliothèque visualisations\n",
    "import europresse #Script fait à part de nettoyage"
   ]
  },
  {
   "cell_type": "markdown",
   "metadata": {},
   "source": [
    "Chargement des données et création d'un CSV"
   ]
  },
  {
   "cell_type": "code",
   "execution_count": 5,
   "metadata": {},
   "outputs": [
    {
     "data": {
      "text/html": [
       "<div>\n",
       "<style scoped>\n",
       "    .dataframe tbody tr th:only-of-type {\n",
       "        vertical-align: middle;\n",
       "    }\n",
       "\n",
       "    .dataframe tbody tr th {\n",
       "        vertical-align: top;\n",
       "    }\n",
       "\n",
       "    .dataframe thead th {\n",
       "        text-align: right;\n",
       "    }\n",
       "</style>\n",
       "<table border=\"1\" class=\"dataframe\">\n",
       "  <thead>\n",
       "    <tr style=\"text-align: right;\">\n",
       "      <th></th>\n",
       "      <th>Date</th>\n",
       "      <th>Titre</th>\n",
       "      <th>Journal</th>\n",
       "      <th>Contenu</th>\n",
       "      <th>Auteur</th>\n",
       "    </tr>\n",
       "    <tr>\n",
       "      <th>Date_reco</th>\n",
       "      <th></th>\n",
       "      <th></th>\n",
       "      <th></th>\n",
       "      <th></th>\n",
       "      <th></th>\n",
       "    </tr>\n",
       "  </thead>\n",
       "  <tbody>\n",
       "    <tr>\n",
       "      <th>2021-07-15</th>\n",
       "      <td>Science &amp; Médecine,  jeudi 15 juillet 2021 72...</td>\n",
       "      <td>Des résultats scientifiques plus accessibles ...</td>\n",
       "      <td>Le Monde</td>\n",
       "      <td>Les budgets qui augmentent dans le monde de ...</td>\n",
       "      <td>David Larousserie</td>\n",
       "    </tr>\n",
       "    <tr>\n",
       "      <th>2021-12-11</th>\n",
       "      <td>Régions,  samedi 11 décembre 2021 597 mots</td>\n",
       "      <td>In&amp;Sight, la plateforme bordelaise résolue à ...</td>\n",
       "      <td>La Tribune (France), no. 7287</td>\n",
       "      <td>LA TRIBUNE - Vous avez co-fondé In&amp;Sight (1)...</td>\n",
       "      <td>Propos recueillis par Anne Farthouat</td>\n",
       "    </tr>\n",
       "    <tr>\n",
       "      <th>2020-06-16</th>\n",
       "      <td>mardi 16 juin 2020 1026 mots, p. 8,9</td>\n",
       "      <td>Coronavirus : les grandes revues scientifique...</td>\n",
       "      <td>Libération</td>\n",
       "      <td>Al'image du Lancet, les revues scientifiques...</td>\n",
       "      <td>Olivier Monod</td>\n",
       "    </tr>\n",
       "    <tr>\n",
       "      <th>2020-01-10</th>\n",
       "      <td>Horizons,  vendredi 10 janvier 2020 1873 mots...</td>\n",
       "      <td>Paul Allen, bienfaiteur de Seattle La philant...</td>\n",
       "      <td>Le Monde</td>\n",
       "      <td>Seattle (États-Unis) envoyé spécial - Le cél...</td>\n",
       "      <td>Arnaud Leparmentier</td>\n",
       "    </tr>\n",
       "    <tr>\n",
       "      <th>2017-09-20</th>\n",
       "      <td>Science &amp; Médecine,  mercredi 20 septembre 20...</td>\n",
       "      <td>La recherche académique a tout à gagner à se ...</td>\n",
       "      <td>Le Monde</td>\n",
       "      <td>Progressivement, le concept d'Open Science t...</td>\n",
       "      <td>None</td>\n",
       "    </tr>\n",
       "    <tr>\n",
       "      <th>...</th>\n",
       "      <td>...</td>\n",
       "      <td>...</td>\n",
       "      <td>...</td>\n",
       "      <td>...</td>\n",
       "      <td>...</td>\n",
       "    </tr>\n",
       "    <tr>\n",
       "      <th>2019-07-08</th>\n",
       "      <td>Idées &amp; Débats,  lundi 8 juillet 2019 212 mot...</td>\n",
       "      <td>L'imagerie cérébrale au service des grottes p...</td>\n",
       "      <td>Les Echos, no. 22984</td>\n",
       "      <td>Les peintures ornant la grotte de Lascaux da...</td>\n",
       "      <td>YANN VERDO</td>\n",
       "    </tr>\n",
       "    <tr>\n",
       "      <th>2019-09-12</th>\n",
       "      <td>Débats&amp;Controverses,  jeudi 12 septembre 2019...</td>\n",
       "      <td>Les usages du numérique Nos données personnel...</td>\n",
       "      <td>l'Humanité</td>\n",
       "      <td>rappel des faits Face à la marche imposée pa...</td>\n",
       "      <td>None</td>\n",
       "    </tr>\n",
       "    <tr>\n",
       "      <th>2017-07-08</th>\n",
       "      <td>Territoires,  samedi 8 juillet 2017 944 mots,...</td>\n",
       "      <td>Sécurité, économie et écologie : les atouts d...</td>\n",
       "      <td>La Tribune (France), no. 6251</td>\n",
       "      <td>Acteurs de l'économie - La Tribune. Qu'est-c...</td>\n",
       "      <td>Elsa Ferreira</td>\n",
       "    </tr>\n",
       "    <tr>\n",
       "      <th>2017-04-08</th>\n",
       "      <td>Le Figaro,  samedi 8 avril 2017 680 mots, p. 11</td>\n",
       "      <td>La prudence des oiseaux réside dans leur tête...</td>\n",
       "      <td>Le Figaro, no. 22601</td>\n",
       "      <td>ORNITHOLOGIE  Il avait 13 ans en 1947 quand ...</td>\n",
       "      <td>Nothias, Jean-Luc</td>\n",
       "    </tr>\n",
       "    <tr>\n",
       "      <th>2017-06-13</th>\n",
       "      <td>Le Figaro,  mardi 13 juin 2017 596 mots, p. 19</td>\n",
       "      <td>Des coraux résistants pour les mers trop chau...</td>\n",
       "      <td>Le Figaro, no. 22656</td>\n",
       "      <td>OCÉANS  La fragilité des récifs coralliens s...</td>\n",
       "      <td>Court, Marielle</td>\n",
       "    </tr>\n",
       "  </tbody>\n",
       "</table>\n",
       "<p>196 rows × 5 columns</p>\n",
       "</div>"
      ],
      "text/plain": [
       "                                                         Date  \\\n",
       "Date_reco                                                       \n",
       "2021-07-15   Science & Médecine,  jeudi 15 juillet 2021 72...   \n",
       "2021-12-11        Régions,  samedi 11 décembre 2021 597 mots    \n",
       "2020-06-16              mardi 16 juin 2020 1026 mots, p. 8,9    \n",
       "2020-01-10   Horizons,  vendredi 10 janvier 2020 1873 mots...   \n",
       "2017-09-20   Science & Médecine,  mercredi 20 septembre 20...   \n",
       "...                                                       ...   \n",
       "2019-07-08   Idées & Débats,  lundi 8 juillet 2019 212 mot...   \n",
       "2019-09-12   Débats&Controverses,  jeudi 12 septembre 2019...   \n",
       "2017-07-08   Territoires,  samedi 8 juillet 2017 944 mots,...   \n",
       "2017-04-08   Le Figaro,  samedi 8 avril 2017 680 mots, p. 11    \n",
       "2017-06-13    Le Figaro,  mardi 13 juin 2017 596 mots, p. 19    \n",
       "\n",
       "                                                        Titre  \\\n",
       "Date_reco                                                       \n",
       "2021-07-15   Des résultats scientifiques plus accessibles ...   \n",
       "2021-12-11   In&Sight, la plateforme bordelaise résolue à ...   \n",
       "2020-06-16   Coronavirus : les grandes revues scientifique...   \n",
       "2020-01-10   Paul Allen, bienfaiteur de Seattle La philant...   \n",
       "2017-09-20   La recherche académique a tout à gagner à se ...   \n",
       "...                                                       ...   \n",
       "2019-07-08   L'imagerie cérébrale au service des grottes p...   \n",
       "2019-09-12   Les usages du numérique Nos données personnel...   \n",
       "2017-07-08   Sécurité, économie et écologie : les atouts d...   \n",
       "2017-04-08   La prudence des oiseaux réside dans leur tête...   \n",
       "2017-06-13   Des coraux résistants pour les mers trop chau...   \n",
       "\n",
       "                                      Journal  \\\n",
       "Date_reco                                       \n",
       "2021-07-15                        Le Monde      \n",
       "2021-12-11   La Tribune (France), no. 7287      \n",
       "2020-06-16                      Libération      \n",
       "2020-01-10                        Le Monde      \n",
       "2017-09-20                        Le Monde      \n",
       "...                                       ...   \n",
       "2019-07-08            Les Echos, no. 22984      \n",
       "2019-09-12                      l'Humanité      \n",
       "2017-07-08   La Tribune (France), no. 6251      \n",
       "2017-04-08            Le Figaro, no. 22601      \n",
       "2017-06-13            Le Figaro, no. 22656      \n",
       "\n",
       "                                                      Contenu  \\\n",
       "Date_reco                                                       \n",
       "2021-07-15    Les budgets qui augmentent dans le monde de ...   \n",
       "2021-12-11    LA TRIBUNE - Vous avez co-fondé In&Sight (1)...   \n",
       "2020-06-16    Al'image du Lancet, les revues scientifiques...   \n",
       "2020-01-10    Seattle (États-Unis) envoyé spécial - Le cél...   \n",
       "2017-09-20    Progressivement, le concept d'Open Science t...   \n",
       "...                                                       ...   \n",
       "2019-07-08    Les peintures ornant la grotte de Lascaux da...   \n",
       "2019-09-12    rappel des faits Face à la marche imposée pa...   \n",
       "2017-07-08    Acteurs de l'économie - La Tribune. Qu'est-c...   \n",
       "2017-04-08    ORNITHOLOGIE  Il avait 13 ans en 1947 quand ...   \n",
       "2017-06-13    OCÉANS  La fragilité des récifs coralliens s...   \n",
       "\n",
       "                                          Auteur  \n",
       "Date_reco                                         \n",
       "2021-07-15                     David Larousserie  \n",
       "2021-12-11  Propos recueillis par Anne Farthouat  \n",
       "2020-06-16                         Olivier Monod  \n",
       "2020-01-10                   Arnaud Leparmentier  \n",
       "2017-09-20                                  None  \n",
       "...                                          ...  \n",
       "2019-07-08                            YANN VERDO  \n",
       "2019-09-12                                  None  \n",
       "2017-07-08                         Elsa Ferreira  \n",
       "2017-04-08                     Nothias, Jean-Luc  \n",
       "2017-06-13                       Court, Marielle  \n",
       "\n",
       "[196 rows x 5 columns]"
      ]
     },
     "execution_count": 5,
     "metadata": {},
     "output_type": "execute_result"
    }
   ],
   "source": [
    "# Extraire les données de la page\n",
    "corpus = europresse.extract(\"../Data/europresse_science_ouverte_presse_nationale.html\")\n",
    "\n",
    "# Passage dans un tableau\n",
    "corpus = pd.DataFrame(corpus)\n",
    "\n",
    "# Mise en forme\n",
    "corpus.columns = [\"Date\",\"Titre\",\"Journal\",\"Contenu\",\"Auteur\"]\n",
    "corpus[\"Date_reco\"] = corpus[\"Date\"].apply(europresse.reco_date)\n",
    "corpus[\"Date_reco\"] = pd.to_datetime(corpus[\"Date_reco\"])\n",
    "corpus = corpus.set_index(\"Date_reco\")\n",
    "corpus.to_csv(\"../Data/europresse_science_ouverte_presse_nationale.csv\")\n",
    "corpus"
   ]
  },
  {
   "cell_type": "markdown",
   "metadata": {},
   "source": [
    "## Moment 3 - Produire une information"
   ]
  },
  {
   "cell_type": "code",
   "execution_count": 6,
   "metadata": {},
   "outputs": [
    {
     "data": {
      "text/plain": [
       "Text(0, 0.5, \"Nombre d'articles\")"
      ]
     },
     "execution_count": 6,
     "metadata": {},
     "output_type": "execute_result"
    },
    {
     "data": {
      "image/png": "[encoded data removed]",
      "text/plain": [
       "<Figure size 720x360 with 1 Axes>"
      ]
     },
     "metadata": {
      "needs_background": "light"
     },
     "output_type": "display_data"
    }
   ],
   "source": [
    "ax = corpus[\"Titre\"].resample(\"y\").count().plot(figsize=(10,5),style=\"o-\")\n",
    "ax.set_title(\"Nombre d'articles presse nationale avec 'science ouverte'\")\n",
    "ax.set_xlabel(\"Agrégation par année\")\n",
    "ax.set_ylabel(\"Nombre d'articles\")"
   ]
  },
  {
   "cell_type": "markdown",
   "metadata": {},
   "source": [
    "## Moment ... sky is the limit\n",
    "\n",
    "- Recoder les journaux\n",
    "- Nombre d'occurence du terme\n",
    "- Analyse thématique ?"
   ]
  }
 ],
 "metadata": {
  "kernelspec": {
   "display_name": "Python 3 (ipykernel)",
   "language": "python",
   "name": "python3"
  },
  "language_info": {
   "codemirror_mode": {
    "name": "ipython",
    "version": 3
   },
   "file_extension": ".py",
   "mimetype": "text/x-python",
   "name": "python",
   "nbconvert_exporter": "python",
   "pygments_lexer": "ipython3",
   "version": "3.8.12"
  }
 },
 "nbformat": 4,
 "nbformat_minor": 4
}
