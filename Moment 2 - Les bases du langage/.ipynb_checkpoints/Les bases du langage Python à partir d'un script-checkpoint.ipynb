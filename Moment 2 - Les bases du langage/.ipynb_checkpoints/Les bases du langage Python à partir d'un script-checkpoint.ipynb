{
 "cells": [
  {
   "cell_type": "markdown",
   "metadata": {},
   "source": [
    "# Les bases du langage Python\n",
    "\n",
    "- Prendre un script\n",
    "- L'exécuter (Console, Jupyter, etc.)\n",
    "- Le décortiquer"
   ]
  },
  {
   "cell_type": "markdown",
   "metadata": {},
   "source": [
    "## Notions à aborder\n",
    "\n",
    "- définir, nom : les entités\n",
    "- des mots clés définis : https://docs.python.org/2/reference/lexical_analysis.html?highlight=keywords#keywords -> un petit nombre d'éléments à mémoriser...\n",
    "- les erreurs\n",
    "- espaces, saut de ligne, parenthèse, etc.\n",
    "- manipuler\n",
    "- différents types (built in types : https://docs.python.org/3/library/stdtypes.html)\n",
    " - chaînes de caractères\n",
    " - listes\n",
    " - dictionnaires\n",
    " - tuples\n",
    " - booléens\n",
    " \n",
    "- variable et objet : des propriétés et des méthodes\n",
    "- les commentaires\n",
    "- les fonctions prédéfinies (len, type, print, str, etc.) + des modules déjà chargés\n",
    "- utiliser l'aide\n",
    "- les blocs qui organisent le script :\n",
    " - condition et if (mot clé in, opérateurs and, etc.)\n",
    " - boucles\n",
    "- écrire dans un fichier : bloc with\n",
    " - écrire le résultat du script\n",
    " \n",
    "\n",
    "- définir une fonction qui s'applique sur une liste\n"
   ]
  }
 ],
 "metadata": {
  "kernelspec": {
   "display_name": "Python 3 (ipykernel)",
   "language": "python",
   "name": "python3"
  },
  "language_info": {
   "codemirror_mode": {
    "name": "ipython",
    "version": 3
   },
   "file_extension": ".py",
   "mimetype": "text/x-python",
   "name": "python",
   "nbconvert_exporter": "python",
   "pygments_lexer": "ipython3",
   "version": "3.8.12"
  }
 },
 "nbformat": 4,
 "nbformat_minor": 4
}
