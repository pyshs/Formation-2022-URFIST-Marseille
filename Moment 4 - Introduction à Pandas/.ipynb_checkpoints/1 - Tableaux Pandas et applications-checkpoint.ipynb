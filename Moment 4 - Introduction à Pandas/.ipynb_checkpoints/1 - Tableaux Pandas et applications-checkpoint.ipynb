{
 "cells": [
  {
   "cell_type": "markdown",
   "metadata": {},
   "source": [
    "# Utiliser Pandas\n",
    "\n",
    "Un monde  à part entière. Comme pour Excel, des personnes se spécialisent dans Pandas"
   ]
  },
  {
   "cell_type": "markdown",
   "metadata": {},
   "source": [
    "## Importer Pandas"
   ]
  },
  {
   "cell_type": "code",
   "execution_count": 1,
   "metadata": {},
   "outputs": [],
   "source": [
    "import pandas as pd"
   ]
  },
  {
   "cell_type": "markdown",
   "metadata": {},
   "source": [
    "Créer un tableau"
   ]
  },
  {
   "cell_type": "code",
   "execution_count": 2,
   "metadata": {},
   "outputs": [
    {
     "data": {
      "text/html": [
       "<div>\n",
       "<style scoped>\n",
       "    .dataframe tbody tr th:only-of-type {\n",
       "        vertical-align: middle;\n",
       "    }\n",
       "\n",
       "    .dataframe tbody tr th {\n",
       "        vertical-align: top;\n",
       "    }\n",
       "\n",
       "    .dataframe thead th {\n",
       "        text-align: right;\n",
       "    }\n",
       "</style>\n",
       "<table border=\"1\" class=\"dataframe\">\n",
       "  <thead>\n",
       "    <tr style=\"text-align: right;\">\n",
       "      <th></th>\n",
       "      <th>Colonne 1</th>\n",
       "      <th>Colonne 2</th>\n",
       "    </tr>\n",
       "  </thead>\n",
       "  <tbody>\n",
       "    <tr>\n",
       "      <th>0</th>\n",
       "      <td>A</td>\n",
       "      <td>1</td>\n",
       "    </tr>\n",
       "    <tr>\n",
       "      <th>1</th>\n",
       "      <td>B</td>\n",
       "      <td>2</td>\n",
       "    </tr>\n",
       "    <tr>\n",
       "      <th>2</th>\n",
       "      <td>C</td>\n",
       "      <td>3</td>\n",
       "    </tr>\n",
       "  </tbody>\n",
       "</table>\n",
       "</div>"
      ],
      "text/plain": [
       "  Colonne 1  Colonne 2\n",
       "0         A          1\n",
       "1         B          2\n",
       "2         C          3"
      ]
     },
     "execution_count": 2,
     "metadata": {},
     "output_type": "execute_result"
    }
   ],
   "source": [
    "pd.DataFrame({\"Colonne 1\":[\"A\",\"B\",\"C\"],\n",
    " \"Colonne 2\" : [1,2,3]})"
   ]
  },
  {
   "cell_type": "markdown",
   "metadata": {},
   "source": [
    "<p style=\"margin-bottom:15cm;\"></p>"
   ]
  },
  {
   "cell_type": "markdown",
   "metadata": {},
   "source": [
    "## Localiser un fichier\n",
    "\n",
    "Se déplacer dans l'ordinateur pour ouvrir un fichier"
   ]
  },
  {
   "cell_type": "code",
   "execution_count": 3,
   "metadata": {},
   "outputs": [
    {
     "name": "stdout",
     "output_type": "stream",
     "text": [
      "C:\\Users\\eschultz\\Dropbox\\Python pour les SHS\\Formations\\2022-03-23 URFIST Marseille\\Moment 4 - Introduction à Pandas\n"
     ]
    }
   ],
   "source": [
    "cd ."
   ]
  },
  {
   "cell_type": "code",
   "execution_count": 4,
   "metadata": {},
   "outputs": [
    {
     "name": "stdout",
     "output_type": "stream",
     "text": [
      " Le volume dans le lecteur C s’appelle OS\n",
      " Le numéro de série du volume est 9081-DA08\n",
      "\n",
      " Répertoire de C:\\Users\\eschultz\\Dropbox\\Python pour les SHS\\Formations\\2022-03-23 URFIST Marseille\\Moment 4 - Introduction à Pandas\n",
      "\n",
      "21/03/2022  09:48    <DIR>          .\n",
      "21/03/2022  09:48    <DIR>          ..\n",
      "21/03/2022  09:48    <DIR>          .ipynb_checkpoints\n",
      "21/03/2022  09:46    <DIR>          slides\n",
      "08/12/2021  18:02            15 009 Temps 1 - Manipuler des données avec Pandas.ipynb\n",
      "08/12/2021  18:03               718 Temps 2 - Exercice.ipynb\n",
      "               2 fichier(s)           15 727 octets\n",
      "               4 Rép(s)  144 897 175 552 octets libres\n"
     ]
    }
   ],
   "source": [
    "ls ."
   ]
  },
  {
   "cell_type": "markdown",
   "metadata": {},
   "source": [
    "## Charger un fichier\n",
    "\n",
    "Pandas facilite les opérations d'ouverte/écriture"
   ]
  },
  {
   "cell_type": "code",
   "execution_count": 5,
   "metadata": {},
   "outputs": [],
   "source": [
    "corpus = pd.read_csv(\"../Data/europresse_science_ouverte_presse_nationale.csv\")"
   ]
  },
  {
   "cell_type": "markdown",
   "metadata": {},
   "source": [
    "Visualiser"
   ]
  },
  {
   "cell_type": "code",
   "execution_count": 6,
   "metadata": {},
   "outputs": [
    {
     "data": {
      "text/html": [
       "<div>\n",
       "<style scoped>\n",
       "    .dataframe tbody tr th:only-of-type {\n",
       "        vertical-align: middle;\n",
       "    }\n",
       "\n",
       "    .dataframe tbody tr th {\n",
       "        vertical-align: top;\n",
       "    }\n",
       "\n",
       "    .dataframe thead th {\n",
       "        text-align: right;\n",
       "    }\n",
       "</style>\n",
       "<table border=\"1\" class=\"dataframe\">\n",
       "  <thead>\n",
       "    <tr style=\"text-align: right;\">\n",
       "      <th></th>\n",
       "      <th>Date_reco</th>\n",
       "      <th>Date</th>\n",
       "      <th>Titre</th>\n",
       "      <th>Journal</th>\n",
       "      <th>Contenu</th>\n",
       "      <th>Auteur</th>\n",
       "    </tr>\n",
       "  </thead>\n",
       "  <tbody>\n",
       "    <tr>\n",
       "      <th>0</th>\n",
       "      <td>2021-07-15</td>\n",
       "      <td>Science &amp; Médecine,  jeudi 15 juillet 2021 72...</td>\n",
       "      <td>Des résultats scientifiques plus accessibles ...</td>\n",
       "      <td>Le Monde</td>\n",
       "      <td>Les budgets qui augmentent dans le monde de ...</td>\n",
       "      <td>David Larousserie</td>\n",
       "    </tr>\n",
       "    <tr>\n",
       "      <th>1</th>\n",
       "      <td>2021-12-11</td>\n",
       "      <td>Régions,  samedi 11 décembre 2021 597 mots</td>\n",
       "      <td>In&amp;Sight, la plateforme bordelaise résolue à ...</td>\n",
       "      <td>La Tribune (France), no. 7287</td>\n",
       "      <td>LA TRIBUNE - Vous avez co-fondé In&amp;Sight (1)...</td>\n",
       "      <td>Propos recueillis par Anne Farthouat</td>\n",
       "    </tr>\n",
       "    <tr>\n",
       "      <th>2</th>\n",
       "      <td>2020-06-16</td>\n",
       "      <td>mardi 16 juin 2020 1026 mots, p. 8,9</td>\n",
       "      <td>Coronavirus : les grandes revues scientifique...</td>\n",
       "      <td>Libération</td>\n",
       "      <td>Al'image du Lancet, les revues scientifiques...</td>\n",
       "      <td>Olivier Monod</td>\n",
       "    </tr>\n",
       "    <tr>\n",
       "      <th>3</th>\n",
       "      <td>2020-01-10</td>\n",
       "      <td>Horizons,  vendredi 10 janvier 2020 1873 mots...</td>\n",
       "      <td>Paul Allen, bienfaiteur de Seattle La philant...</td>\n",
       "      <td>Le Monde</td>\n",
       "      <td>Seattle (États-Unis) envoyé spécial - Le cél...</td>\n",
       "      <td>Arnaud Leparmentier</td>\n",
       "    </tr>\n",
       "    <tr>\n",
       "      <th>4</th>\n",
       "      <td>2017-09-20</td>\n",
       "      <td>Science &amp; Médecine,  mercredi 20 septembre 20...</td>\n",
       "      <td>La recherche académique a tout à gagner à se ...</td>\n",
       "      <td>Le Monde</td>\n",
       "      <td>Progressivement, le concept d'Open Science t...</td>\n",
       "      <td>NaN</td>\n",
       "    </tr>\n",
       "    <tr>\n",
       "      <th>...</th>\n",
       "      <td>...</td>\n",
       "      <td>...</td>\n",
       "      <td>...</td>\n",
       "      <td>...</td>\n",
       "      <td>...</td>\n",
       "      <td>...</td>\n",
       "    </tr>\n",
       "    <tr>\n",
       "      <th>191</th>\n",
       "      <td>2019-07-08</td>\n",
       "      <td>Idées &amp; Débats,  lundi 8 juillet 2019 212 mot...</td>\n",
       "      <td>L'imagerie cérébrale au service des grottes p...</td>\n",
       "      <td>Les Echos, no. 22984</td>\n",
       "      <td>Les peintures ornant la grotte de Lascaux da...</td>\n",
       "      <td>YANN VERDO</td>\n",
       "    </tr>\n",
       "    <tr>\n",
       "      <th>192</th>\n",
       "      <td>2019-09-12</td>\n",
       "      <td>Débats&amp;Controverses,  jeudi 12 septembre 2019...</td>\n",
       "      <td>Les usages du numérique Nos données personnel...</td>\n",
       "      <td>l'Humanité</td>\n",
       "      <td>rappel des faits Face à la marche imposée pa...</td>\n",
       "      <td>NaN</td>\n",
       "    </tr>\n",
       "    <tr>\n",
       "      <th>193</th>\n",
       "      <td>2017-07-08</td>\n",
       "      <td>Territoires,  samedi 8 juillet 2017 944 mots,...</td>\n",
       "      <td>Sécurité, économie et écologie : les atouts d...</td>\n",
       "      <td>La Tribune (France), no. 6251</td>\n",
       "      <td>Acteurs de l'économie - La Tribune. Qu'est-c...</td>\n",
       "      <td>Elsa Ferreira</td>\n",
       "    </tr>\n",
       "    <tr>\n",
       "      <th>194</th>\n",
       "      <td>2017-04-08</td>\n",
       "      <td>Le Figaro,  samedi 8 avril 2017 680 mots, p. 11</td>\n",
       "      <td>La prudence des oiseaux réside dans leur tête...</td>\n",
       "      <td>Le Figaro, no. 22601</td>\n",
       "      <td>ORNITHOLOGIE  Il avait 13 ans en 1947 quand ...</td>\n",
       "      <td>Nothias, Jean-Luc</td>\n",
       "    </tr>\n",
       "    <tr>\n",
       "      <th>195</th>\n",
       "      <td>2017-06-13</td>\n",
       "      <td>Le Figaro,  mardi 13 juin 2017 596 mots, p. 19</td>\n",
       "      <td>Des coraux résistants pour les mers trop chau...</td>\n",
       "      <td>Le Figaro, no. 22656</td>\n",
       "      <td>OCÉANS  La fragilité des récifs coralliens s...</td>\n",
       "      <td>Court, Marielle</td>\n",
       "    </tr>\n",
       "  </tbody>\n",
       "</table>\n",
       "<p>196 rows × 6 columns</p>\n",
       "</div>"
      ],
      "text/plain": [
       "      Date_reco                                               Date  \\\n",
       "0    2021-07-15   Science & Médecine,  jeudi 15 juillet 2021 72...   \n",
       "1    2021-12-11        Régions,  samedi 11 décembre 2021 597 mots    \n",
       "2    2020-06-16              mardi 16 juin 2020 1026 mots, p. 8,9    \n",
       "3    2020-01-10   Horizons,  vendredi 10 janvier 2020 1873 mots...   \n",
       "4    2017-09-20   Science & Médecine,  mercredi 20 septembre 20...   \n",
       "..          ...                                                ...   \n",
       "191  2019-07-08   Idées & Débats,  lundi 8 juillet 2019 212 mot...   \n",
       "192  2019-09-12   Débats&Controverses,  jeudi 12 septembre 2019...   \n",
       "193  2017-07-08   Territoires,  samedi 8 juillet 2017 944 mots,...   \n",
       "194  2017-04-08   Le Figaro,  samedi 8 avril 2017 680 mots, p. 11    \n",
       "195  2017-06-13    Le Figaro,  mardi 13 juin 2017 596 mots, p. 19    \n",
       "\n",
       "                                                 Titre  \\\n",
       "0     Des résultats scientifiques plus accessibles ...   \n",
       "1     In&Sight, la plateforme bordelaise résolue à ...   \n",
       "2     Coronavirus : les grandes revues scientifique...   \n",
       "3     Paul Allen, bienfaiteur de Seattle La philant...   \n",
       "4     La recherche académique a tout à gagner à se ...   \n",
       "..                                                 ...   \n",
       "191   L'imagerie cérébrale au service des grottes p...   \n",
       "192   Les usages du numérique Nos données personnel...   \n",
       "193   Sécurité, économie et écologie : les atouts d...   \n",
       "194   La prudence des oiseaux réside dans leur tête...   \n",
       "195   Des coraux résistants pour les mers trop chau...   \n",
       "\n",
       "                               Journal  \\\n",
       "0                          Le Monde      \n",
       "1     La Tribune (France), no. 7287      \n",
       "2                        Libération      \n",
       "3                          Le Monde      \n",
       "4                          Le Monde      \n",
       "..                                 ...   \n",
       "191            Les Echos, no. 22984      \n",
       "192                      l'Humanité      \n",
       "193   La Tribune (France), no. 6251      \n",
       "194            Le Figaro, no. 22601      \n",
       "195            Le Figaro, no. 22656      \n",
       "\n",
       "                                               Contenu  \\\n",
       "0      Les budgets qui augmentent dans le monde de ...   \n",
       "1      LA TRIBUNE - Vous avez co-fondé In&Sight (1)...   \n",
       "2      Al'image du Lancet, les revues scientifiques...   \n",
       "3      Seattle (États-Unis) envoyé spécial - Le cél...   \n",
       "4      Progressivement, le concept d'Open Science t...   \n",
       "..                                                 ...   \n",
       "191    Les peintures ornant la grotte de Lascaux da...   \n",
       "192    rappel des faits Face à la marche imposée pa...   \n",
       "193    Acteurs de l'économie - La Tribune. Qu'est-c...   \n",
       "194    ORNITHOLOGIE  Il avait 13 ans en 1947 quand ...   \n",
       "195    OCÉANS  La fragilité des récifs coralliens s...   \n",
       "\n",
       "                                   Auteur  \n",
       "0                       David Larousserie  \n",
       "1    Propos recueillis par Anne Farthouat  \n",
       "2                           Olivier Monod  \n",
       "3                     Arnaud Leparmentier  \n",
       "4                                     NaN  \n",
       "..                                    ...  \n",
       "191                            YANN VERDO  \n",
       "192                                   NaN  \n",
       "193                         Elsa Ferreira  \n",
       "194                     Nothias, Jean-Luc  \n",
       "195                       Court, Marielle  \n",
       "\n",
       "[196 rows x 6 columns]"
      ]
     },
     "execution_count": 6,
     "metadata": {},
     "output_type": "execute_result"
    }
   ],
   "source": [
    "corpus"
   ]
  },
  {
   "cell_type": "markdown",
   "metadata": {},
   "source": [
    "- Structure de la matrice\n",
    "- Accéder à un élément : colonne, ligne ; type des données avec dtypes\n",
    "- Sélectionner : loc, iloc\n",
    "- Filtrer : définition d'un filtrage, créer une conditions sur une colonne\n",
    "- Différentes méthodes de Pandas : str, stats\n",
    "- Différentes fonctions de Pandas bien utile : isnull, notnull"
   ]
  },
  {
   "cell_type": "markdown",
   "metadata": {},
   "source": [
    "## Manipuler les données - ajout de features\n",
    "\n",
    "- créer une nouvelle colonne (présence/absence d'un mot)\n",
    "- appliquer une fonction sur toute la colonne - méthode apply\n",
    " - recoder le nom du journal\n",
    "- sauvegarder le tableau"
   ]
  },
  {
   "cell_type": "markdown",
   "metadata": {},
   "source": [
    "## Statistiques de base\n",
    "\n",
    "- faire un dénombrement\n",
    "- Tout est tableau : faire des tableaux plus complexes\n",
    "- Calculer différents indicateurs\n",
    "- Faire un tableau croisé\n",
    "- Faire une visualisation \"out of the box\""
   ]
  }
 ],
 "metadata": {
  "kernelspec": {
   "display_name": "Python 3 (ipykernel)",
   "language": "python",
   "name": "python3"
  },
  "language_info": {
   "codemirror_mode": {
    "name": "ipython",
    "version": 3
   },
   "file_extension": ".py",
   "mimetype": "text/x-python",
   "name": "python",
   "nbconvert_exporter": "python",
   "pygments_lexer": "ipython3",
   "version": "3.8.12"
  }
 },
 "nbformat": 4,
 "nbformat_minor": 4
}
