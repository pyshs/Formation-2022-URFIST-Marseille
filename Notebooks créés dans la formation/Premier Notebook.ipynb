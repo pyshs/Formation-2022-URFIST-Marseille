{
 "cells": [
  {
   "cell_type": "markdown",
   "id": "7068f852",
   "metadata": {},
   "source": [
    "# Mon premier script\n",
    "\n",
    "Autopsie d'un script"
   ]
  },
  {
   "cell_type": "code",
   "execution_count": 133,
   "id": "77b75215",
   "metadata": {},
   "outputs": [
    {
     "name": "stdout",
     "output_type": "stream",
     "text": [
      "Écrivez une phrase: qdqsd sqd dsq dqd dq\n",
      "Proportion de mots avec 4 lettres ou plus : 20.0\n"
     ]
    }
   ],
   "source": [
    "# Définir une variable à 0\n",
    "nombre_mots = 0\n",
    "\n",
    "# Définir une variable à vraie\n",
    "sortie_fichier = True\n",
    "\n",
    "# Récupération d'une phrase de l'utilisateur avec la fonction input\n",
    "phrase = input(\"Écrivez une phrase: \")\n",
    "\n",
    "# Découpe la phrase rentrée au niveau des espaces avec la méthode split\n",
    "liste_mots = phrase.split(\" \")\n",
    "\n",
    "# Stock la valeur du nombre d'éléments de la liste dans nombre_mots\n",
    "nombre_mots = len(liste_mots)\n",
    "\n",
    "# Définir la variable du seuil à utiliser\n",
    "nombre_min_lettres = 4\n",
    "\n",
    "# Condition si la liste n'est pas nulle\n",
    "if nombre_mots <= 1:\n",
    "    print(\"La liste est vide\")\n",
    "    \n",
    "# Si c'est le cas\n",
    "else:\n",
    "    # Crée une variable compteur valant 0\n",
    "    compteur = 0\n",
    "    \n",
    "    # Boucle sur l'ensemble des mots\n",
    "    for i in liste_mots:\n",
    "        \n",
    "        # Si la taille du mot est plus grande que le seuil défini\n",
    "        if len(i) >= nombre_min_lettres:\n",
    "            # Augmenter le compteur de 1\n",
    "            compteur = compteur + 1\n",
    "            \n",
    "    # Faire un calcul de proportion      \n",
    "    proportion = round(100*compteur/nombre_mots,2)\n",
    "    \n",
    "    # Met en forme une chaine de caractère\n",
    "    sortie = f\"Proportion de mots avec {nombre_min_lettres} lettres ou plus : {proportion}\"\n",
    "    \n",
    "    # Affiche\n",
    "    print(sortie)\n",
    "    \n",
    "    # Dictionnaire de toutes les informations produites\n",
    "    informations = {\"Total\":compteur,\"Proportion\":proportion,\n",
    "                   \"Phrase\":phrase,\"Seuil\":nombre_min_lettres}\n",
    "    \n",
    "    # Si on veut une formation\n",
    "    if sortie_fichier:\n",
    "        with open(\"resultat.txt\",\"a\") as f:\n",
    "            f.write(str(informations))\n",
    "            f.write(\"\\n\")\n"
   ]
  },
  {
   "cell_type": "markdown",
   "id": "5d210a17",
   "metadata": {},
   "source": [
    "## Lecture du script étape par étape"
   ]
  },
  {
   "cell_type": "code",
   "execution_count": 4,
   "id": "66b579ea",
   "metadata": {},
   "outputs": [],
   "source": [
    "nombre_mots = 0 #Création d'une variable"
   ]
  },
  {
   "cell_type": "code",
   "execution_count": 5,
   "id": "d89a8bd2",
   "metadata": {},
   "outputs": [
    {
     "data": {
      "text/plain": [
       "0"
      ]
     },
     "execution_count": 5,
     "metadata": {},
     "output_type": "execute_result"
    }
   ],
   "source": [
    "nombre_mots"
   ]
  },
  {
   "cell_type": "code",
   "execution_count": 13,
   "id": "6d9903ca",
   "metadata": {},
   "outputs": [],
   "source": [
    "Variablé1=0"
   ]
  },
  {
   "cell_type": "markdown",
   "id": "276ef0a5",
   "metadata": {},
   "source": [
    "Type d'une variable"
   ]
  },
  {
   "cell_type": "code",
   "execution_count": 15,
   "id": "d69e0457",
   "metadata": {},
   "outputs": [
    {
     "data": {
      "text/plain": [
       "int"
      ]
     },
     "execution_count": 15,
     "metadata": {},
     "output_type": "execute_result"
    }
   ],
   "source": [
    "type(nombre_mots)"
   ]
  },
  {
   "cell_type": "code",
   "execution_count": 16,
   "id": "6d559acb",
   "metadata": {},
   "outputs": [],
   "source": [
    "?type"
   ]
  },
  {
   "cell_type": "code",
   "execution_count": 20,
   "id": "7fe5eb5c",
   "metadata": {},
   "outputs": [
    {
     "data": {
      "text/plain": [
       "10"
      ]
     },
     "execution_count": 20,
     "metadata": {},
     "output_type": "execute_result"
    }
   ],
   "source": [
    "nombre_mots + 10"
   ]
  },
  {
   "cell_type": "code",
   "execution_count": 21,
   "id": "f1d5ee4c",
   "metadata": {},
   "outputs": [],
   "source": [
    "nombre_mots = 1000"
   ]
  },
  {
   "cell_type": "code",
   "execution_count": 22,
   "id": "a4673af5",
   "metadata": {},
   "outputs": [
    {
     "data": {
      "text/plain": [
       "1000"
      ]
     },
     "execution_count": 22,
     "metadata": {},
     "output_type": "execute_result"
    }
   ],
   "source": [
    "nombre_mots"
   ]
  },
  {
   "cell_type": "markdown",
   "id": "d44bafd2",
   "metadata": {},
   "source": [
    "## Deuxième ligne"
   ]
  },
  {
   "cell_type": "code",
   "execution_count": 17,
   "id": "b85dbd54",
   "metadata": {},
   "outputs": [],
   "source": [
    "sortie_fichier = True"
   ]
  },
  {
   "cell_type": "code",
   "execution_count": 18,
   "id": "95d9a80f",
   "metadata": {},
   "outputs": [
    {
     "data": {
      "text/plain": [
       "bool"
      ]
     },
     "execution_count": 18,
     "metadata": {},
     "output_type": "execute_result"
    }
   ],
   "source": [
    "type(sortie_fichier)"
   ]
  },
  {
   "cell_type": "markdown",
   "id": "4a101a56",
   "metadata": {},
   "source": [
    "### Troisième ligne"
   ]
  },
  {
   "cell_type": "code",
   "execution_count": null,
   "id": "49572814",
   "metadata": {},
   "outputs": [],
   "source": [
    "phrase = input(\"Écrivez une phrase: \")"
   ]
  },
  {
   "cell_type": "code",
   "execution_count": 28,
   "id": "5d042ec2",
   "metadata": {},
   "outputs": [
    {
     "name": "stdout",
     "output_type": "stream",
     "text": [
      "Blablablasdsdds\n"
     ]
    },
    {
     "data": {
      "text/plain": [
       "str"
      ]
     },
     "execution_count": 28,
     "metadata": {},
     "output_type": "execute_result"
    }
   ],
   "source": [
    "type(input(\"Blablabla\"))"
   ]
  },
  {
   "cell_type": "code",
   "execution_count": 24,
   "id": "33d3e852",
   "metadata": {},
   "outputs": [],
   "source": [
    "?input"
   ]
  },
  {
   "cell_type": "markdown",
   "id": "6c6d3574",
   "metadata": {},
   "source": [
    "## Les chaines de caractères"
   ]
  },
  {
   "cell_type": "code",
   "execution_count": 31,
   "id": "c343c695",
   "metadata": {},
   "outputs": [],
   "source": [
    "mon_texte = \"Ceci est une chaîne de caractères\""
   ]
  },
  {
   "cell_type": "code",
   "execution_count": 32,
   "id": "944ab5b1",
   "metadata": {},
   "outputs": [
    {
     "data": {
      "text/plain": [
       "str"
      ]
     },
     "execution_count": 32,
     "metadata": {},
     "output_type": "execute_result"
    }
   ],
   "source": [
    "type(mon_texte)"
   ]
  },
  {
   "cell_type": "code",
   "execution_count": 35,
   "id": "3b2c8162",
   "metadata": {},
   "outputs": [
    {
     "data": {
      "text/plain": [
       "33"
      ]
     },
     "execution_count": 35,
     "metadata": {},
     "output_type": "execute_result"
    }
   ],
   "source": [
    "len(mon_texte)"
   ]
  },
  {
   "cell_type": "code",
   "execution_count": 36,
   "id": "82b014df",
   "metadata": {},
   "outputs": [
    {
     "data": {
      "text/plain": [
       "'CECI EST UNE CHAÎNE DE CARACTÈRES'"
      ]
     },
     "execution_count": 36,
     "metadata": {},
     "output_type": "execute_result"
    }
   ],
   "source": [
    "mon_texte.upper()"
   ]
  },
  {
   "cell_type": "code",
   "execution_count": 40,
   "id": "215ae5c8",
   "metadata": {},
   "outputs": [
    {
     "data": {
      "text/plain": [
       "'Ceci est une chaîne de caractères'"
      ]
     },
     "execution_count": 40,
     "metadata": {},
     "output_type": "execute_result"
    }
   ],
   "source": [
    "dir(mon_texte)"
   ]
  },
  {
   "cell_type": "markdown",
   "id": "7bcb8e38",
   "metadata": {},
   "source": [
    "## Quatrième ligne"
   ]
  },
  {
   "cell_type": "code",
   "execution_count": 44,
   "id": "88ac028f",
   "metadata": {},
   "outputs": [
    {
     "data": {
      "text/plain": [
       "'Ceci est ma phrase'"
      ]
     },
     "execution_count": 44,
     "metadata": {},
     "output_type": "execute_result"
    }
   ],
   "source": [
    "phrase"
   ]
  },
  {
   "cell_type": "code",
   "execution_count": 48,
   "id": "770f6841",
   "metadata": {},
   "outputs": [
    {
     "data": {
      "text/plain": [
       "['Ceci', 'est', 'ma', 'phrase']"
      ]
     },
     "execution_count": 48,
     "metadata": {},
     "output_type": "execute_result"
    }
   ],
   "source": [
    "phrase = \"Ceci est ma phrase\"\n",
    "liste_mots = phrase.split(\" \")\n",
    "liste_mots"
   ]
  },
  {
   "cell_type": "code",
   "execution_count": 49,
   "id": "6891df32",
   "metadata": {},
   "outputs": [
    {
     "data": {
      "text/plain": [
       "list"
      ]
     },
     "execution_count": 49,
     "metadata": {},
     "output_type": "execute_result"
    }
   ],
   "source": [
    "type(liste_mots)"
   ]
  },
  {
   "cell_type": "code",
   "execution_count": 52,
   "id": "03b9cfbd",
   "metadata": {},
   "outputs": [
    {
     "data": {
      "text/plain": [
       "4"
      ]
     },
     "execution_count": 52,
     "metadata": {},
     "output_type": "execute_result"
    }
   ],
   "source": [
    "len(liste_mots)"
   ]
  },
  {
   "cell_type": "code",
   "execution_count": 53,
   "id": "d4fc99c8",
   "metadata": {},
   "outputs": [
    {
     "data": {
      "text/plain": [
       "'Ceci'"
      ]
     },
     "execution_count": 53,
     "metadata": {},
     "output_type": "execute_result"
    }
   ],
   "source": [
    "liste_mots[0]"
   ]
  },
  {
   "cell_type": "code",
   "execution_count": 54,
   "id": "17f7f3ed",
   "metadata": {},
   "outputs": [
    {
     "data": {
      "text/plain": [
       "'ceci'"
      ]
     },
     "execution_count": 54,
     "metadata": {},
     "output_type": "execute_result"
    }
   ],
   "source": [
    "liste_mots[0].lower()"
   ]
  },
  {
   "cell_type": "code",
   "execution_count": 58,
   "id": "0e6547b7",
   "metadata": {},
   "outputs": [
    {
     "data": {
      "text/plain": [
       "['Ceci', 'est', 'ma']"
      ]
     },
     "execution_count": 58,
     "metadata": {},
     "output_type": "execute_result"
    }
   ],
   "source": [
    "liste_mots[0:3]"
   ]
  },
  {
   "cell_type": "markdown",
   "id": "16af3080",
   "metadata": {},
   "source": [
    "Les listes commencentà 0 !!!!!!!"
   ]
  },
  {
   "cell_type": "markdown",
   "id": "a22631b4",
   "metadata": {},
   "source": [
    "## Ligne 7 et 8\n",
    "\n",
    "- = c'est l'attribution\n",
    "- == c'est la vérification de l'identité"
   ]
  },
  {
   "cell_type": "code",
   "execution_count": 64,
   "id": "9b72905a",
   "metadata": {},
   "outputs": [],
   "source": [
    "nombre_mots = 0"
   ]
  },
  {
   "cell_type": "code",
   "execution_count": 65,
   "id": "97b03594",
   "metadata": {},
   "outputs": [
    {
     "data": {
      "text/plain": [
       "True"
      ]
     },
     "execution_count": 65,
     "metadata": {},
     "output_type": "execute_result"
    }
   ],
   "source": [
    "nombre_mots == 0"
   ]
  },
  {
   "cell_type": "code",
   "execution_count": 67,
   "id": "e9b3c197",
   "metadata": {},
   "outputs": [
    {
     "name": "stdout",
     "output_type": "stream",
     "text": [
      "La liste est vide\n",
      "Vraiment vide\n"
     ]
    }
   ],
   "source": [
    "if nombre_mots < 1:\n",
    "    print(\"La liste est vide\")\n",
    "    print(\"Vraiment vide\")"
   ]
  },
  {
   "cell_type": "code",
   "execution_count": 60,
   "id": "37dd2f2c",
   "metadata": {},
   "outputs": [
    {
     "name": "stdout",
     "output_type": "stream",
     "text": [
      "La liste est vide\n"
     ]
    }
   ],
   "source": [
    "print(\"La liste est vide\")"
   ]
  },
  {
   "cell_type": "code",
   "execution_count": 61,
   "id": "9c12086e",
   "metadata": {},
   "outputs": [
    {
     "data": {
      "text/plain": [
       "False"
      ]
     },
     "execution_count": 61,
     "metadata": {},
     "output_type": "execute_result"
    }
   ],
   "source": [
    "nombre_mots == 0"
   ]
  },
  {
   "cell_type": "code",
   "execution_count": 73,
   "id": "01550c59",
   "metadata": {},
   "outputs": [
    {
     "data": {
      "text/plain": [
       "1"
      ]
     },
     "execution_count": 73,
     "metadata": {},
     "output_type": "execute_result"
    }
   ],
   "source": [
    "len(\"\\n\".split(\" \"))"
   ]
  },
  {
   "cell_type": "markdown",
   "id": "3a634c51",
   "metadata": {},
   "source": [
    "## boucle for en Python"
   ]
  },
  {
   "cell_type": "code",
   "execution_count": 77,
   "id": "6a49d008",
   "metadata": {},
   "outputs": [],
   "source": [
    "ensemble = [\"un\",\"deux\",\"trois\"]"
   ]
  },
  {
   "cell_type": "code",
   "execution_count": 78,
   "id": "70b41d0f",
   "metadata": {},
   "outputs": [
    {
     "data": {
      "text/plain": [
       "list"
      ]
     },
     "execution_count": 78,
     "metadata": {},
     "output_type": "execute_result"
    }
   ],
   "source": [
    "type(ensemble)"
   ]
  },
  {
   "cell_type": "code",
   "execution_count": 79,
   "id": "34302dda",
   "metadata": {},
   "outputs": [
    {
     "name": "stdout",
     "output_type": "stream",
     "text": [
      "UN\n",
      "DEUX\n",
      "TROIS\n"
     ]
    }
   ],
   "source": [
    "for e in ensemble:\n",
    "    print(e.upper())"
   ]
  },
  {
   "cell_type": "code",
   "execution_count": 82,
   "id": "c6d94b58",
   "metadata": {},
   "outputs": [
    {
     "data": {
      "text/plain": [
       "set"
      ]
     },
     "execution_count": 82,
     "metadata": {},
     "output_type": "execute_result"
    }
   ],
   "source": [
    "type({1,4,5})"
   ]
  },
  {
   "cell_type": "code",
   "execution_count": 80,
   "id": "985cf8c3",
   "metadata": {},
   "outputs": [
    {
     "name": "stdout",
     "output_type": "stream",
     "text": [
      "UN\n",
      "DEUX\n",
      "TROIS\n"
     ]
    }
   ],
   "source": [
    "for i in range(0,len(ensemble)):\n",
    "    print(ensemble[i].upper())"
   ]
  },
  {
   "cell_type": "markdown",
   "id": "7e22a24e",
   "metadata": {},
   "source": [
    "### Formattage de chaînes de caractères"
   ]
  },
  {
   "cell_type": "code",
   "execution_count": 86,
   "id": "b366768a",
   "metadata": {},
   "outputs": [],
   "source": [
    "nom = \"Emilien\""
   ]
  },
  {
   "cell_type": "code",
   "execution_count": 90,
   "id": "14518681",
   "metadata": {},
   "outputs": [
    {
     "data": {
      "text/plain": [
       "\"Aujourd'hui Emilien donne le cours\""
      ]
     },
     "execution_count": 90,
     "metadata": {},
     "output_type": "execute_result"
    }
   ],
   "source": [
    "\"Aujourd'hui \" + nom + \" donne le cours\""
   ]
  },
  {
   "cell_type": "code",
   "execution_count": 94,
   "id": "ac23e54c",
   "metadata": {},
   "outputs": [
    {
     "data": {
      "text/plain": [
       "'Emilien donne le cours à Marseille'"
      ]
     },
     "execution_count": 94,
     "metadata": {},
     "output_type": "execute_result"
    }
   ],
   "source": [
    "\"%s donne le cours à %s\"% (nom,\"Marseille\")"
   ]
  },
  {
   "cell_type": "code",
   "execution_count": 91,
   "id": "510fb1bc",
   "metadata": {},
   "outputs": [
    {
     "data": {
      "text/plain": [
       "str"
      ]
     },
     "execution_count": 91,
     "metadata": {},
     "output_type": "execute_result"
    }
   ],
   "source": [
    "f\"{nom} donne le cours\""
   ]
  },
  {
   "cell_type": "markdown",
   "id": "25cd65c8",
   "metadata": {},
   "source": [
    "## Notion de dictionnaire"
   ]
  },
  {
   "cell_type": "code",
   "execution_count": 102,
   "id": "842f3b08",
   "metadata": {},
   "outputs": [],
   "source": [
    "informations = {\"Total\":2,\"Proportion\":10,\n",
    "                \"Phrase\":\"Blablabla\",\"Seuil\":4}"
   ]
  },
  {
   "cell_type": "code",
   "execution_count": 99,
   "id": "0bcd382d",
   "metadata": {},
   "outputs": [
    {
     "data": {
      "text/plain": [
       "4"
      ]
     },
     "execution_count": 99,
     "metadata": {},
     "output_type": "execute_result"
    }
   ],
   "source": [
    "len(informations)"
   ]
  },
  {
   "cell_type": "code",
   "execution_count": 103,
   "id": "9840c600",
   "metadata": {},
   "outputs": [
    {
     "data": {
      "text/plain": [
       "10"
      ]
     },
     "execution_count": 103,
     "metadata": {},
     "output_type": "execute_result"
    }
   ],
   "source": [
    "informations[\"Proportion\"]"
   ]
  },
  {
   "cell_type": "code",
   "execution_count": 104,
   "id": "6fece78b",
   "metadata": {},
   "outputs": [
    {
     "data": {
      "text/plain": [
       "dict"
      ]
     },
     "execution_count": 104,
     "metadata": {},
     "output_type": "execute_result"
    }
   ],
   "source": [
    "type(informations)"
   ]
  },
  {
   "cell_type": "code",
   "execution_count": 108,
   "id": "255dedf6",
   "metadata": {},
   "outputs": [
    {
     "data": {
      "text/plain": [
       "dict_keys(['Total', 'Proportion', 'Phrase', 'Seuil'])"
      ]
     },
     "execution_count": 108,
     "metadata": {},
     "output_type": "execute_result"
    }
   ],
   "source": [
    "informations.keys()"
   ]
  },
  {
   "cell_type": "code",
   "execution_count": 109,
   "id": "30a16da0",
   "metadata": {
    "scrolled": true
   },
   "outputs": [
    {
     "data": {
      "text/plain": [
       "dict_values([2, 10, 'Blablabla', 4])"
      ]
     },
     "execution_count": 109,
     "metadata": {},
     "output_type": "execute_result"
    }
   ],
   "source": [
    "informations.values()"
   ]
  },
  {
   "cell_type": "code",
   "execution_count": 110,
   "id": "92053176",
   "metadata": {},
   "outputs": [
    {
     "name": "stdout",
     "output_type": "stream",
     "text": [
      "Total\n",
      "Proportion\n",
      "Phrase\n",
      "Seuil\n"
     ]
    }
   ],
   "source": [
    "for v in informations:\n",
    "    print(v)"
   ]
  },
  {
   "cell_type": "markdown",
   "id": "0f972ae4",
   "metadata": {},
   "source": [
    "clé:valeur"
   ]
  },
  {
   "cell_type": "markdown",
   "id": "19118479",
   "metadata": {},
   "source": [
    "## Entrées/sorties avec open"
   ]
  },
  {
   "cell_type": "code",
   "execution_count": 120,
   "id": "d34c7510",
   "metadata": {},
   "outputs": [],
   "source": [
    "with open(\"nom_du_fichier.txt\",\"w\") as f:\n",
    "    # Écriture dans le fichier\n",
    "    f.write(\"J'ai écrit un fichier\")"
   ]
  },
  {
   "cell_type": "code",
   "execution_count": 114,
   "id": "71749004",
   "metadata": {},
   "outputs": [
    {
     "name": "stdout",
     "output_type": "stream",
     "text": [
      "<class '_io.TextIOWrapper'>\n"
     ]
    }
   ],
   "source": [
    "f = open(\"nom_du_fichier.txt\",\"w\")\n",
    "f.write(\"blblbla\")\n",
    "print(type(f))\n",
    "f.close()"
   ]
  },
  {
   "cell_type": "code",
   "execution_count": 118,
   "id": "82ec5e12",
   "metadata": {},
   "outputs": [],
   "source": [
    "with open(\"SOSP_metadonnees_variables.csv\",\"r\") as f:\n",
    "    contenu = f.read()"
   ]
  },
  {
   "cell_type": "code",
   "execution_count": 119,
   "id": "8aa78c91",
   "metadata": {},
   "outputs": [
    {
     "data": {
      "text/plain": [
       "'\"Titre\",\"Listes des variables avec les questions et modalités associées\",,,\\n\"Objet\\xa0\",\"Enquête SOSP-FR _ Enquête sur les usages relatifs aux outils numériques et aux données de la recherche dans les communautés scientifiques françaises\",,,\\n\"Auteurs\\xa0\",\"Le Béchec M. Bouchard A. Denecker C. Charrier P. Gallezot G. Rennes S.\",,,\\n\"Résumé\",\"L’enquête State of Open Science Practices in France (SOSP-FR) a été conduite entre juin 2020 et septembre 2020. Elle a pour but d’interroger les pratiques des outils numériques et autour des données de la recherche dans les communautés scientifiques françaises. Le questionnaire se compose de 38 questions réparties en 9 thématiques. Les questions portent sur des pratiques déjà établies et des pratiques ou usages émergents comme l’open peer review ou les articles de données dits data paper. Le nombre de répondants est de 1 089, permettant d’interroger une répartition disciplinaire, genrée et statutaire assez représentative de l’état de l’emploi dans l’enseignement supérieur et de recherche en France.\",,,\\n\"Discipline\",\"Sciences de l’information et de la communication\",,,\\n\"Mots-clés\",\"Open science\\xa0; open data\\xa0; digital practices\\xa0; open access\",,,\\n\"Nombre de répondants\",\"1089\",,,\\n\"Date de passation du questionnaire_début\",\"17/01/20\",,,\\n\"Date de passation du questionnaire_fin\",\"30/09/20\",,,\\n\"Langues\",\"FR_EN\",,,\\n\"Zone géographique\",\"France\",,,\\n\"Population enquêtée\",\"Communauté scientifique en France dans les secteurs public et privé\",,,\\n\"Modes de collecte\",\"Questionnaire auto-administré\",,,\\n\"Diffusion du questionnaire\",\"sites web et Forum Comité pour La Science Ouverte\\xa0; ANRT\\xa0; Comptes réseaux sociaux CoSo, URFIST et membres associés comme Twitter et LinkedIn\",,,\\n\"Caractéristique de la collecte\",\"pic de contributions quand relance par les comptes institutionnels\",,,\\n\"DOI_questionnaire _FR\",\"https://zenodo.org/record/3935958 \",,,\\n\"DOI_questionnaire _EN\",\"https://zenodo.org/record/3935971 \",,,\\n\"Rapport\",\"Le Béchec M., Bouchard A., Denecker C., Charrier P., Gallezot G., Rennes S., Enquête sur les usages relatifs aux outils numériques et aux données de la recherche dans les communautés scientifiques françaises, 2022\",,,\\n\"DOI_Rapport\",\"https://doi.org/10.52949/5\",,,\\n\"Description\\xa0des données\",\"Données de reproduction pour une analyse statistique des pratiques numériques des communautés de recherche françaises. \",,,\\n\"Instrument de collecte\",\"logiciel Sphinx mis à disposition par la TGIR Huma-Num\",,,\\n\"Type de données\",\"Données d’enquête\",,,\\n\"Format\",\"texte\",,,\\n\"Variables\",\"130\",,,\\n\"Données recodées\",\"Des variables potentiellement identifiantes sont recodées comme la discipline en 9 niveaux. Se référer à la colonne E29. \",,,\\n\"Données agrégées\",\"La question ouverte numérique portant sur l’année de naissance du répondant n’est pas disponible. En revanche, la variable recalculée et recodée à partir des réponses à cette variable est présente (annee_naissance-recod10niv, colonne EA). Nous avons procédé de la même manière pour la variable «\\xa0discipline\\xa0» qui n’est disponible que sous sa forme agrégée en 9 catégories (discipline_9niv, colonne DZ), certaines spécialités pouvant être extrêmement précises au point d’être associé qu’à quelques personnes. \",,,\\n\"Données anonymisées_pseudonymisées\",\"Nous avons également partiellement anonymisé les deux dernières questions proposées dans ce questionnaire, des questions ouvertes où les répondants ont laissé des éléments qui, pris individuellement ou combinés avec d’autres variables, pouvaient conduire à une fragilisation de l’anonymat. Par exemple, certains répondants ont argumenté à partir de leur position professionnelle, citant leur structure de rattachement, leur institution, une opération de recherche, de publication ou de diffusion de données de recherche.\",,,\\n\"Recommandations\\xa0pour la réutilisation \",\"Ces données doivent donc être traitées par vous réutilisateurs ou réutilisatrices selon des positions éthiques dont un engagement au traitement anonyme des résultats.\",,,\\n,,,,\\n\"Tableau de description des variables\",,,,\\n,,,,\\n\"Nom variable\",\"Question\",\"Modalités de réponse proposées\",\"Colonne\",\"Observations _Commentaires\"\\n\"ID\",,,\"A\",\"Identifiant de l’observé\"\\n\"contexte_travail \",\"Habituellement, pour une opération de recherche, avec combien de personnes travaillez-vous (chercheurs, techniciens, ingénieurs compris)\\xa0?\",\"je travaille seul\\xa0  nous sommes entre 2 et 5\\xa0personnes\\xa0  nous sommes entre 6 et 10 personnes\\xa0  nous sommes entre 11 et 20 personnes\\xa0  nous sommes entre 21 et 50 personnes\\xa0  nous sommes plus de 50 personnes\",\"B\",\\n\"fonction_recherche\",\"Quelle est votre fonction dans la recherche\\xa0?\",\"doctorant / doctorante (y compris CIFRE)   maître / maîtresse de conférences et assimilés\\xa0 professeur / professeure des universités et assimilés directeur / directrice de recherche chargé / chargée de recherche ingénieur / ingénieure de recherche\\xa0  ingénieur / ingénieure d\\'études\\xa0chercheur / chercheure dans le secteur privé\\xa0responsable de service R&D dans le secteur privé\",\"C\",\\n\"statut_professionnel\",\"Quel est votre statut professionnel\\xa0?\",\"Fonctionnaire ou assimilé en CDD\\xa0  en CDI\\xa0  post-doc\\xa0 contrat doctoral\\xa0  travailleur indépendant\\xa0 doctorant non financé\\xa0 professeur / chercheur émérite retraité\\xa0 chômage\\xa0 vacataire\\xa0 chercheur associé non rémunéré autre \",\"D\",\\n\"statut_professionnel_autre\",\"Si, autre pouvez-vous préciser\\xa0?\",\"Question ouverte\",\"E\",\\n\"annee_premiere_publi\",\"En quelle année avez-vous publié ou co-publié pour la première fois vos résultats de recherche (ouvrage, article, poster…)\\xa0?\",\"Question ouverte numérique\",\"F\",\\n\"Systeme_exploitation\",\"Quel(s) système(s) d’exploitation informatiques (OS) utilisez-vous\\xa0?\",\"Windows\\xa0; MacOS\\xa0; Linux\\xa0; autres Unix\\xa0; autres OS (Android...)\",\"G\",\"Plusieurs réponses possibles mais 5 max\"\\n\"Usage_telephone_mobile\",\"Utilisez-vous votre téléphone mobile à des fins de recherche (hors appel téléphoniques)\\xa0?\",\"Jamais\\xa0rarement parfois souvent\\xa0toujours\\n\",\"H\",\\n\"Outils_gestion_travail_av_confinement_visioconférence\",\"AVANT LE CONFINEMENT, quels types d’outils de gestion de travail individuel et collectif utilisiez-vous ?\",\"Jamais\\xa0rarement parfois souvent\\xa0toujours\\n\",\"I\",\\n\"Outils_gestion_travail_av_confinement_planification_RDV\",\"AVANT LE CONFINEMENT, quels types d’outils de gestion de travail individuel et collectif utilisiez-vous\\xa0? \",\"Jamais\\xa0rarement parfois souvent\\xa0toujours\\n\",\"J\",\\n\"Outils_gestion_travail_av_confinement_gestion_temps\",\"AVANT LE CONFINEMENT, quels types d’outils de gestion de travail individuel et collectif utilisiez-vous ?\",\"Jamais\\xa0rarement parfois souvent\\xa0toujours\\n\",\"K\",\\n\"Outils_gestion_travail_av_confinement_métier_interne_entreprise\",\"AVANT LE CONFINEMENT, quels types d’outils de gestion de travail individuel et collectif utilisiez-vous\\xa0? \",\"Jamais\\xa0rarement parfois souvent\\xa0toujours\\n\",\"L\",\\n\"Outils_gestion_travail_av_confinement_planification_suivi_taches_gestion_projet\",\"AVANT LE CONFINEMENT, quels types d’outils de gestion de travail individuel et collectif utilisiez-vous\\xa0? \",\"Jamais\\xa0rarement parfois souvent\\xa0toujours\\n\",\"M\",\\n\"Outils_gestion_travail_av_confinement_services_ligne\",\"AVANT LE CONFINEMENT, quels types d’outils de gestion de travail individuel et collectif utilisiez-vous\\xa0? \",\"Jamais\\xa0rarement parfois souvent\\xa0toujours\\n\",\"N\",\\n\"Outils_gestion_travail_av_confinement_redaction_collectif\",\"AVANT LE CONFINEMENT, quels types d’outils de gestion de travail individuel et collectif utilisiez-vous\\xa0? \",\"Jamais\\xa0rarement parfois souvent\\xa0toujours\\n\",\"O\",\\n\"Outils_gestion_travail_av_confinement_gestion_references\",\"AVANT LE CONFINEMENT, quels types d’outils de gestion de travail individuel et collectif utilisiez-vous\\xa0? \",\"Jamais\\xa0rarement parfois souvent\\xa0toujours\\n\",\"P\",\\n\"Outils_gestion_travail_suite_confinement_visioconference\",\"SUITE AU CONFINEMENT, quels types d’outils de gestion de travail individuel et collectif utilisez-vous\\xa0? \",\"Jamais\\xa0rarement parfois souvent\\xa0toujours\\n\",\"Q\",\\n\"Outils_gestion_travail_suite_confinement_planification_RDV\",\"SUITE AU CONFINEMENT, quels types d’outils de gestion de travail individuel et collectif utilisez-vous\\xa0?\",\"Jamais\\xa0rarement parfois souvent\\xa0toujours\\n\",\"R\",\\n\"Outils_gestion_travail_suite_confinement_gestion_temps\",\"SUITE AU CONFINEMENT, quels types d’outils de gestion de travail individuel et collectif utilisez-vous\\xa0? \",\"Jamais\\xa0rarement parfois souvent\\xa0toujours\\n\",\"S\",\\n\"Outils_gestion_travail_suite_confinement_metier_interne_entreprise\",\"SUITE AU CONFINEMENT, quels types d’outils de gestion de travail individuel et collectif utilisez-vous\\xa0?\",\"Jamais\\xa0rarement parfois souvent\\xa0toujours\\n\",\"T\",\\n\"Outils_gestion_travail_suite_confinement_planification_suivi_taches_gestion_projet\",\"SUITE AU CONFINEMENT, quels types d’outils de gestion de travail individuel et collectif utilisez-vous\\xa0?\",\"Jamais\\xa0rarement parfois souvent\\xa0toujours\\n\",\"U\",\\n\"Outils_gestion_travail_suite_confinement_services_ligne\",\"SUITE AU CONFINEMENT, quels types d’outils de gestion de travail individuel et collectif utilisez-vous\\xa0?\",\"Jamais\\xa0rarement parfois souvent\\xa0toujours\\n\",\"V\",\\n\"Outils_gestion_travail_suite_confinement_redaction_collectifs\",\"SUITE AU CONFINEMENT, quels types d’outils de gestion de travail individuel et collectif utilisez-vous\\xa0? \",\"Jamais\\xa0rarement parfois souvent\\xa0toujours\\n\",\"W\",\\n\"Outils_gestion_travail_suite_confinement_gestion_references\",\"SUITE AU CONFINEMENT, quels types d’outils de gestion de travail individuel et collectif utilisez-vous\\xa0? \",\"Jamais\\xa0rarement parfois souvent\\xa0toujours\\n\",\"X\",\\n\"Acces_informations_recherches_instititionnel\",\"Comment accédez-vous aux informations utiles à vos recherches\\xa0? \",\"Jamais\\xa0rarement parfois souvent\\xa0toujours\\n\",\"Y\",\\n\"Acces_informations_recherches_moteur_recherche_generalistes\",\"Comment accédez-vous aux informations utiles à vos recherches\\xa0? \",\"Jamais\\xa0rarement parfois souvent\\xa0toujours\\n\",\"Z\",\\n\"Acces_informations_recherches_moteur_recherche_scientifiques\",\"Comment accédez-vous aux informations utiles à vos recherches\\xa0? \",\"Jamais\\xa0rarement parfois souvent\\xa0toujours\\n\",\"AA\",\\n\"Acces_informations_recherches_pay_per_view\",\"Comment accédez-vous aux informations utiles à vos recherches\\xa0?\",\"Jamais\\xa0rarement parfois souvent\\xa0toujours\\n\",\"AB\",\\n\"Acces_informations_recherches_entrepot_donnees\",\"Comment accédez-vous aux informations utiles à vos recherches\\xa0? \",\"Jamais\\xa0rarement parfois souvent\\xa0toujours\\n\",\"AC\",\\n\"Acces_informations_recherches_reseaux_numeriques_academiques\",\"Comment accédez-vous aux informations utiles à vos recherches\\xa0? \",\"Jamais\\xa0rarement parfois souvent\\xa0toujours\\n\",\"AD\",\\n\"Acces_informations_recherches_archives_ouvertes\",\"Comment accédez-vous aux informations utiles à vos recherches\\xa0?\",\"Jamais\\xa0rarement parfois souvent\\xa0toujours\\n\",\"AE\",\\n\"Acces_informations_recherches_bibliotheques_numeriques\",\"Comment accédez-vous aux informations utiles à vos recherches\\xa0?\",\"Jamais\\xa0rarement parfois souvent\\xa0toujours\\n\",\"AF\",\\n\"Acces_informations_recherches_demandes_web\",\"Comment accédez-vous aux informations utiles à vos recherches\\xa0? \",\"Jamais\\xa0rarement parfois souvent\\xa0toujours\\n\",\"AG\",\\n\"Acces_informations_recherches_extensions_navigateur\",\"Comment accédez-vous aux informations utiles à vos recherches\\xa0? \",\"Jamais\\xa0rarement parfois souvent\\xa0toujours\\n\",\"AH\",\\n\"Acces_informations_recherches_bibliotheques_clandestines\",\"Comment accédez-vous aux informations utiles à vos recherches\\xa0? \",\"Jamais\\xa0rarement parfois souvent\\xa0toujours\\n\",\"AI\",\\n\"Acces_informations_recherches_demande_auteurs\",\"Comment accédez-vous aux informations utiles à vos recherches\\xa0? \",\"Jamais\\xa0rarement parfois souvent\\xa0toujours\\n\",\"AJ\",\\n\"decouverte_outils_num_travail\",\"Comment avez-vous découvert vos outils numériques de travail actuels\\xa0?\",\"Jamais\\xa0rarement parfois souvent\\xa0toujours\\n\",\"AK\",\\n\"Type_donnees_nombres_valeurs_numeriques\",\"Sur quel type de données travaillez-vous\\xa0?\",\"Jamais\\xa0rarement parfois souvent\\xa0toujours\\n\",\"AL\",\\n\"Type_donnees_textes\",\"Sur quel type de données travaillez-vous\\xa0?\",\"Jamais\\xa0rarement parfois souvent\\xa0toujours\\n\",\"AM\",\\n\"Type_donnees_images\",\"Sur quel type de données travaillez-vous\\xa0?\",\"Jamais\\xa0rarement parfois souvent\\xa0toujours\\n\",\"AN\",\\n\"Type_donnees_videos\",\"Sur quel type de données travaillez-vous\\xa0?\",\"Jamais\\xa0rarement parfois souvent\\xa0toujours\\n\",\"AO\",\\n\"Type_donnees_3D\",\"Sur quel type de données travaillez-vous\\xa0?\",\"Jamais\\xa0rarement parfois souvent\\xa0toujours\\n\",\"AP\",\\n\"Type_donnees_sons\",\"Sur quel type de données travaillez-vous\\xa0?\",\"Jamais\\xa0rarement parfois souvent\\xa0toujours\\n\",\"AQ\",\\n\"volumetrie_donnees\",\"Quelle est la quantité estimée de ces données pour une de vos recherches\\xa0?\",\"Question ouverte\",\"AR\",\\n\"Reutilisation_donnees\",\"Réutilisez-vous des données déjà produites ou publiées\\xa0?\",\"Jamais\\xa0rarement parfois souvent\\xa0toujours\\n\",\"AS\",\\n\"archivage_long_terme\",\"Archivez-vous (conservation à long terme) ces données\\xa0?\",\"Oui\\xa0Non\",\"AT\",\\n\"Tiers_archivage\",\"Si oui, à quels tiers les confiez-vous\\xa0?\",\"Question ouverte\",\"AU\",\\n\"Tiers_archivage_recod\",\"Si oui, à quels tiers les confiez-vous\\xa0?\",\"Question ouverte\",\"AV\",\"Recodage des réponses de la variable précédente\"\\n\"crowdsourcing\",\"Avez-vous recours au crowdsourcing\\xa0?\",\"Oui\\xa0Non\",\"AW\",\\n\"Outils_sauvegarde_carnets_papier\",\"Pour enregistrer et sauvegarder vos données, quelques outils utilisez-vous\\xa0?\",\"Jamais\\xa0rarement parfois souvent\\xa0toujours\\n\",\"AX\",\\n\"Outils_sauvegarde_carnets_numeriques\",\"Pour enregistrer et sauvegarder vos données, quelques outils utilisez-vous\\xa0?\",\"Jamais\\xa0rarement parfois souvent\\xa0toujours\\n\",\"AY\",\\n\"Outils_sauvegarde_base_donnees_labo\",\"Pour enregistrer et sauvegarder vos données, quelques outils utilisez-vous\\xa0?\",\"Jamais\\xa0rarement parfois souvent\\xa0toujours\\n\",\"AZ\",\\n\"Outils_sauvegarde_supports_amovibles\",\"Pour enregistrer et sauvegarder vos données, quelques outils utilisez-vous\\xa0?\",\"Jamais\\xa0rarement parfois souvent\\xa0toujours\\n\",\"BA\",\\n\"Outils_sauvegarde_reseau_informatique_local\",\"Pour enregistrer et sauvegarder vos données, quelques outils utilisez-vous\\xa0?\",\"Jamais\\xa0rarement parfois souvent\\xa0toujours\\n\",\"BB\",\\n\"Outils_sauvegarde_disque_dur\",\"Pour enregistrer et sauvegarder vos données, quelques outils utilisez-vous\\xa0?\",\"Jamais\\xa0rarement parfois souvent\\xa0toujours\\n\",\"BC\",\\n\"Outils_sauvegarde_cloud_institutionnel\",\"Pour enregistrer et sauvegarder vos données, quelques outils utilisez-vous\\xa0?\",\"Jamais\\xa0rarement parfois souvent\\xa0toujours\\n\",\"BD\",\\n\"Outils_sauvegarde_cloud_non-institutionnel\",\"Pour enregistrer et sauvegarder vos données, quelques outils utilisez-vous\\xa0?\",\"Jamais\\xa0rarement parfois souvent\\xa0toujours\\n\",\"BE\",\\n\"logiciel_production_donnees\",\"Quels logiciels utilisez-vous pour produire des données\",\"Question ouverte\",\"BF\",\\n\"types_logiciels_production_donnees\",\"Ces logiciels sont-ils\\xa0?\",\"des logiciels payants\\xa0; des logiciels partiellement ou complètement gratuits mais propriétaires\\xa0; des logiciels libres et gratuits\\ndes logiciels gratuits avec des fonctionnalités premium\\xa0; des logiciels version d\\'essai ou démo\\ndes logiciels créés à cette fin (seul ou avec des collègues)\\xa0; des logiciels internes à mon organisation\\xa0; des logiciels issus d\\'un projet de recherche\\xa0; des logiciels payants \"\"crackés\"\"\",\"BG\",\"5 réponses maximum possibles\"\\n\"Usage_outils_nettoyage\",\"Utilisez-vous des outils pour nettoyer vos données\\xa0?\",\"Jamais\\xa0rarement parfois souvent\\xa0toujours\\n\",\"BH\",\\n\"outils_nettoyage\",\"Pouvez-vous précisez lesquels\\xa0?\",\"Question ouverte\",\"BI\",\\n\"Usage_outils_analyse\",\"Utilisez-vous des outils pour analyser vos données\",\"Jamais\\xa0rarement parfois souvent\\xa0toujours\\n\",\"BJ\",\\n\"Outils_analyses\",\"Pouvez-vous précisez lesquels\\xa0?\",\"Question ouverte\",\"BK\",\\n\"Usage_outils_visualisation\",\"Utilisez-vous un ou des outils pour visualiser vos données\\xa0?\",\"Jamais\\xa0rarement parfois souvent\\xa0toujours\\n\",\"BL\",\\n\"Outils_visualisation\",\"Pouvez-vous précisez lesquels\\xa0?\",\"Question ouverte\",\"BM\",\\n\"usage_outils_systemes_qualif_donnees\",\"Utilisez-vous des outils pour qualifier ou décrire vos données\\xa0?\",\"Jamais\\xa0rarement parfois souvent\\xa0toujours\\n\",\"BN\",\\n\"Outils_redaction_documents_traitement_texte\",\"Pour rédiger vos documents de recherche et publications, quels outils utilisez-vous\\xa0?\",\"Jamais\\xa0rarement parfois souvent\\xa0toujours\\n\",\"BO\",\\n\"Outils_redaction_documents_traitement_texte_ligne\",\"Pour rédiger vos documents de recherche et publications, quels outils utilisez-vous\\xa0?\",\"Jamais\\xa0rarement parfois souvent\\xa0toujours\\n\",\"BP\",\\n\"Outils_redaction_documents_editeur_Latex\",\"Pour rédiger vos documents de recherche et publications, quels outils utilisez-vous\\xa0?\",\"Jamais\\xa0rarement parfois souvent\\xa0toujours\\n\",\"BQ\",\\n\"Outils_redaction_documents_balisage\",\"Pour rédiger vos documents de recherche et publications, quels outils utilisez-vous\\xa0?\",\"Jamais\\xa0rarement parfois souvent\\xa0toujours\\n\",\"BR\",\\n\"Outils_redaction_documents_aide_redaction\",\"Pour rédiger vos documents de recherche et publications, quels outils utilisez-vous\\xa0?\",\"Jamais\\xa0rarement parfois souvent\\xa0toujours\\n\",\"BS\",\\n\"Outils_redaction_documents_formats_specifiques\",\"Pour rédiger vos documents de recherche et publications, quels outils utilisez-vous\\xa0?\",\"Jamais\\xa0rarement parfois souvent\\xa0toujours\\n\",\"BT\",\\n\"Outils_redaction_documents_gestionnaire_references\",\"Pour rédiger vos documents de recherche et publications, quels outils utilisez-vous\\xa0?\",\"Jamais\\xa0rarement parfois souvent\\xa0toujours\\n\",\"BU\",\\n\"Outils_redaction_documents_traduction\",\"Pour rédiger vos documents de recherche et publications, quels outils utilisez-vous\\xa0?\",\"Jamais\\xa0rarement parfois souvent\\xa0toujours\\n\",\"BV\",\\n\"Outils_redaction_documents_PAO\",\"Pour rédiger vos documents de recherche et publications, quels outils utilisez-vous\\xa0?\",\"Jamais\\xa0rarement parfois souvent\\xa0toujours\\n\",\"BW\",\\n\"outils_production_figure\",\"Quels outils utilisez-vous pour générer des figures (schémas, images, carte, …)\\xa0?\",\"Question ouverte\",\"BX\",\\n\"Formats_presentation_resultats_recherche_communication\",\"Sous quelle(s) forme(s) présentez-vous les résultats de vos recherches\\xa0?\",\"Jamais\\xa0rarement parfois souvent\\xa0toujours\\n\",\"BY\",\\n\"Formats_presentation_resultats_recherche_articles_evaluation_pairs\",\"Sous quelle(s) forme(s) présentez-vous les résultats de vos recherches\\xa0?\",\"Jamais\\xa0rarement parfois souvent\\xa0toujours\\n\",\"BZ\",\\n\"Formats_presentation_resultats_recherche_articles_sans_evaluation_pairs\",\"Sous quelle(s) forme(s) présentez-vous les résultats de vos recherches\\xa0?\",\"Jamais\\xa0rarement parfois souvent\\xa0toujours\\n\",\"CA\",\\n\"Formats_presentation_resultats_recherche_chapitre_ouvrage\",\"Sous quelle(s) forme(s) présentez-vous les résultats de vos recherches\\xa0?\",\"Jamais\\xa0rarement parfois souvent\\xa0toujours\\n\",\"CB\",\\n\"Formats_presentation_resultats_recherche_presse\",\"Sous quelle(s) forme(s) présentez-vous les résultats de vos recherches\\xa0?\",\"Jamais\\xa0rarement parfois souvent\\xa0toujours\\n\",\"CC\",\\n\"Formats_presentation_resultats_recherche_document_interne\",\"Sous quelle(s) forme(s) présentez-vous les résultats de vos recherches\\xa0?\",\"Jamais\\xa0rarement parfois souvent\\xa0toujours\\n\",\"CD\",\\n\"Formats_presentation_resultats_recherche_reseaux_sociaux\",\"Sous quelle(s) forme(s) présentez-vous les résultats de vos recherches\\xa0?\",\"Jamais\\xa0rarement parfois souvent\\xa0toujours\\n\",\"CE\",\\n\"Formats_presentation_resultats_recherche_livre\",\"Sous quelle(s) forme(s) présentez-vous les résultats de vos recherches\\xa0?\",\"Jamais\\xa0rarement parfois souvent\\xa0toujours\\n\",\"CF\",\\n\"Formats_presentation_resultats_recherche_billet_web\",\"Sous quelle(s) forme(s) présentez-vous les résultats de vos recherches\\xa0?\",\"Jamais\\xa0rarement parfois souvent\\xa0toujours\\n\",\"CG\",\\n\"Formats_presentation_resultats_recherche_billet_blog_personnel\",\"Sous quelle(s) forme(s) présentez-vous les résultats de vos recherches\\xa0?\",\"Jamais\\xa0rarement parfois souvent\\xa0toujours\\n\",\"CH\",\\n\"Formats_presentation_resultats_recherche_autre\",\"Sous quelle(s) forme(s) présentez-vous les résultats de vos recherches\\xa0?\",\"Jamais\\xa0rarement parfois souvent\\xa0toujours\\n\",\"CI\",\\n\"criteres_soumission_publi\",\"Quels sont vos critères de choix pour soumettre une publication ou une communication\\xa0?\",\"notoriété de la revue, de l\\'éditeur, du congrès dans ma discipline\\xa0; indicateurs chiffrés de la revue\\xa0; critères HCERES, FNGE, CNRS, CNU\\xa0; frais de publications\\xa0; transparence du processus d\\'évaluation\\xa0; diffusion en accès libre (choix personnel)\\xa0; refus des revues prédatrices\\xa0; diffusion en accès libre (imposé par mon institution, financeur)\",\"CJ\",\"4 réponses maximum possibles\"\\n\"Pre-print_non_evalues_platerforme_not_for_profit\",\"Diffusez-vous des prépublications (préprint) non évaluées de vos travaux\\xa0?\",\"Jamais\\xa0rarement parfois souvent\\xa0toujours\\n\",\"CK\",\\n\"Pre-print_non_evalues_reseaux-sociaux-num_academiques\",\"Diffusez-vous des prépublications (préprint) non évaluées de vos travaux\\xa0?\",\"Jamais\\xa0rarement parfois souvent\\xa0toujours\\n\",\"CL\",\\n\"Pre-print_non_evalues_site_web_personnel\",\"Diffusez-vous des prépublications (préprint) non évaluées de vos travaux\\xa0?\",\"Jamais\\xa0rarement parfois souvent\\xa0toujours\\n\",\"CM\",\\n\"Diffusion_donnees_produites_complement_plateforme_editeur\",\"Diffusez-vous des données produites lors de vos recherches\\xa0?\",\"Jamais\\xa0rarement parfois souvent\\xa0toujours\\n\",\"CN\",\\n\"Diffusion_donnees_produites_article_donnees\",\"Diffusez-vous des données produites lors de vos recherches\\xa0?\",\"Jamais\\xa0rarement parfois souvent\\xa0toujours\\n\",\"CO\",\\n\"Diffusion_donnees_produites_entrepots_generalistes\",\"Diffusez-vous des données produites lors de vos recherches\\xa0?\",\"Jamais\\xa0rarement parfois souvent\\xa0toujours\\n\",\"CP\",\\n\"Diffusion_donnees_produites_entrepot_disciplinaire\",\"Diffusez-vous des données produites lors de vos recherches\\xa0?\",\"Jamais\\xa0rarement parfois souvent\\xa0toujours\\n\",\"CQ\",\\n\"Diffusion_donnees_produites_résultats_négatifs\",\"Diffusez-vous des données produites lors de vos recherches\\xa0?\",\"Jamais\\xa0rarement parfois souvent\\xa0toujours\\n\",\"CR\",\\n\"Diffusion_autres_types_production_projet_recherche\",\"Diffusez-vous d’autres types de productions scientifiques\\xa0?\",\"Oui\\xa0Non\",\"CS\",\\n\"Diffusion_autres_types_production_grant_proposals\",\"Diffusez-vous d’autres types de productions scientifiques\\xa0?\",\"Oui\\xa0Non\",\"CT\",\\n\"Diffusion_autres_types_production_protocoles\",\"Diffusez-vous d’autres types de productions scientifiques\\xa0?\",\"Oui\\xa0Non\",\"CU\",\\n\"Diffusion_autres_types_production_notebook\",\"Diffusez-vous d’autres types de productions scientifiques\\xa0?\",\"Oui\\xa0Non\",\"CV\",\\n\"Diffusion_autres_types_production_codes\",\"Diffusez-vous d’autres types de productions scientifiques\\xa0?\",\"Oui\\xa0Non\",\"CW\",\\n\"Diffusion_autres_types_production_prorotypes\",\"Diffusez-vous d’autres types de productions scientifiques\\xa0?\",\"Oui\\xa0Non\",\"CX\",\\n\"Diffusion_autres_types_production_rapports\",\"Diffusez-vous d’autres types de productions scientifiques\\xa0?\",\"Oui\\xa0Non\",\"CY\",\\n\"Diffusion_autres_types_production_materiels_accompagnement\",\"Diffusez-vous d’autres types de productions scientifiques\\xa0?\",\"Oui\\xa0Non\",\"CZ\",\\n\"Diffusion_autres_types_production_posters\",\"Diffusez-vous d’autres types de productions scientifiques\\xa0?\",\"Oui\\xa0Non\",\"DA\",\\n\"Diffusion_publications_evaluees_pairs_archives_ouvertes\",\"Diffusez-vous vos publications scientifiques évaluées par les pairs dans\\xa0? \",\"Jamais\\xa0rarement parfois souvent\\xa0toujours\\n\",\"DB\",\\n\"Diffusion_publications_evaluees_pairs_entrepots_generalistes\",\"Diffusez-vous vos publications scientifiques évaluées par les pairs dans\\xa0?\",\"Jamais\\xa0rarement parfois souvent\\xa0toujours\\n\",\"DC\",\\n\"Diffusion_publications_evaluees_pairs_reseaux_sociaux_num_academiques\",\"Diffusez-vous vos publications scientifiques évaluées par les pairs dans\\xa0?\",\"Jamais\\xa0rarement parfois souvent\\xa0toujours\\n\",\"DD\",\\n\"Valorisation_recherche_referencement\",\"Comment valorisez-vous vos résultats de recherche\\xa0?\",\"Jamais\\xa0rarement parfois souvent\\xa0toujours\\n\",\"DE\",\\n\"Valorisation_recherche_reseaux_sociaux_num_generalistes\",\"Comment valorisez-vous vos résultats de recherche\\xa0?\",\"Jamais\\xa0rarement parfois souvent\\xa0toujours\\n\",\"DF\",\\n\"Valorisation_recherche_reseaux_sociaux_num_academiques\",\"Comment valorisez-vous vos résultats de recherche\\xa0?\",\"Jamais\\xa0rarement parfois souvent\\xa0toujours\\n\",\"DG\",\\n\"Valorisation_recherche_presence_num\",\"Comment valorisez-vous vos résultats de recherche\\xa0?\",\"Jamais\\xa0rarement parfois souvent\\xa0toujours\\n\",\"DH\",\\n\"Valorisation_recherche_multimédia\",\"Comment valorisez-vous vos résultats de recherche\\xa0?\",\"Jamais\\xa0rarement parfois souvent\\xa0toujours\\n\",\"DI\",\\n\"Valorisation_recherche_media_ligne\",\"Comment valorisez-vous vos résultats de recherche\\xa0?\",\"Jamais\\xa0rarement parfois souvent\\xa0toujours\\n\",\"DJ\",\\n\"Valorisation_recherche_sciences_citoyennes\",\"Comment valorisez-vous vos résultats de recherche\\xa0?\",\"Jamais\\xa0rarement parfois souvent\\xa0toujours\\n\",\"DK\",\\n\"Valorisation_recherche_transfert_technologie\",\"Comment valorisez-vous vos résultats de recherche\\xa0?\",\"Jamais\\xa0rarement parfois souvent\\xa0toujours\\n\",\"DL\",\\n\"Valorisation_recherche_conferences\",\"Comment valorisez-vous vos résultats de recherche\\xa0?\",\"Jamais\\xa0rarement parfois souvent\\xa0toujours\\n\",\"DM\",\\n\"Valorisation_recherche_hackatons\",\"Comment valorisez-vous vos résultats de recherche\\xa0?\",\"Jamais\\xa0rarement parfois souvent\\xa0toujours\\n\",\"DN\",\\n\"Platefromes_evaluation_ouverte\",\"Connaissez-vous des plateformes d’évaluation ouverte par les pairs\\xa0?\",\"Oui, parfaitement\\xa0 Oui, j’en ai entendu parler Non, je ne sais pas ce que c’est\",\"DO\",\\n\"Quelles_plateforme_ouverte\",\"Si oui, lesquelles\\xa0?\",\"pre-registering\\xa0 journaux open peer review  / évaluation ouverte  (pré-publication)\\xa0 journaux open peer review / évaluation ouverte (post-publication)\\xa0 outils de peer review\",\"DP\",\\n\"Souhait_partage_donnees_produites-partenariat\",\"Selon vous, est-il souhaitable que les données de recherches que vous avez produites ou contribuées à produire soient partagées\\xa0?\",\"Oui\\xa0Non\",\"DQ\",\\n\"Souhait_partage_donnees_produites_discipline\",\"Selon vous, est-il souhaitable que les données de recherches que vous avez produites ou contribuées à produire soient partagées\\xa0?\",\"Oui\\xa0Non\",\"DR\",\\n\"Souhait_partage_donnees_produites_pays_continent\",\"Selon vous, est-il souhaitable que les données de recherches que vous avez produites ou contribuées à produire soient partagées\\xa0?\",\"Oui\\xa0Non\",\"DS\",\\n\"Souhait_partage_donnees_produites_domaine_economique\",\"Selon vous, est-il souhaitable que les données de recherches que vous avez produites ou contribuées à produire soient partagées\\xa0?\",\"Oui\\xa0Non\",\"DT\",\\n\"Souhait_partage_donnees_produites_secteur_associatif\",\"Selon vous, est-il souhaitable que les données de recherches que vous avez produites ou contribuées à produire soient partagées\\xa0?\",\"Oui\\xa0Non\",\"DU\",\\n\"Souhait_partage_donnees_produites_sans_restriction\",\"Selon vous, est-il souhaitable que les données de recherches que vous avez produites ou contribuées à produire soient partagées\\xa0?\",\"Oui\\xa0Non\",\"DV\",\\n\"compatibilite_diffusion_partage\\n\",\"34 - Le partage et la diffusion des données vous paraissent-ils compatibles avec les\\nactivités de valorisation ?\",\"Question ouverte\",\"DW\",\"mots anonymisés sous forme de XXXXX\"\\n\"evolutions_pratiques_numeriques\",\"35 - Selon vous, vos pratiques numériques vont-elles évoluer à l\\'avenir et de quelles\\nmanières ?\",\"Question ouverte\",\"DX\",\"mots anonymisés sous forme de XXXXX\"\\n\"sexe\",\"Quel est votre genre\\xa0?\",\"Une femme\\xa0Un homme\\xa0Je ne souhaite pas répondre\",\"DY\",\\n\"Disciplines_9niv\",\"Quelle est votre discipline principale de recherche\\xa0?\",\"Sciences de l\\'ingénieur\\xa0 Sciences humaines\\nSciences sociales\\xa0 Lettres et Arts\\xa0 Médecine\\nSciences du vivant\\xa0Chimie, Matériaux\\xa0 Mathématiques, Informatiques\\xa0Physique, Sciences de la terre et de l\\'Univers\",\"DZ\",\"recodage en 9 disciplines\"\\n\"annee_naissance_recod10niv\",\"Quelle est votre année de naissance\\xa0?\",\"Moins de 25 ans\\xa0 25 à 30 ans 31 à 35 ans\\n36 à 40 ans\\xa041 à 45 ans 46 à 50 ans\\xa0 51 à 55 ans\\xa056 à 60 ans 61 à 65 ans 66 ans et plus\",\"EA\",\\n'"
      ]
     },
     "execution_count": 119,
     "metadata": {},
     "output_type": "execute_result"
    }
   ],
   "source": [
    "contenu"
   ]
  },
  {
   "cell_type": "code",
   "execution_count": 128,
   "id": "6e53537c",
   "metadata": {},
   "outputs": [
    {
     "name": "stdout",
     "output_type": "stream",
     "text": [
      "/home/emilien/Dropbox/Python pour les SHS/Formations/2022-03-23 URFIST Marseille/Data\n"
     ]
    }
   ],
   "source": [
    "cd Data/"
   ]
  }
 ],
 "metadata": {
  "kernelspec": {
   "display_name": "Python 3 (ipykernel)",
   "language": "python",
   "name": "python3"
  },
  "language_info": {
   "codemirror_mode": {
    "name": "ipython",
    "version": 3
   },
   "file_extension": ".py",
   "mimetype": "text/x-python",
   "name": "python",
   "nbconvert_exporter": "python",
   "pygments_lexer": "ipython3",
   "version": "3.9.7"
  }
 },
 "nbformat": 4,
 "nbformat_minor": 5
}
