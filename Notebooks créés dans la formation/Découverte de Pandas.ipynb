{
 "cells": [
  {
   "cell_type": "markdown",
   "id": "f7551299",
   "metadata": {},
   "source": [
    "# Découverte de Pandas"
   ]
  },
  {
   "cell_type": "code",
   "execution_count": 2,
   "id": "8f8b09d9",
   "metadata": {},
   "outputs": [],
   "source": [
    "import pandas as pd"
   ]
  },
  {
   "cell_type": "markdown",
   "id": "7f1b414e",
   "metadata": {},
   "source": [
    "## Un objet central : le DataFrame"
   ]
  },
  {
   "cell_type": "code",
   "execution_count": 6,
   "id": "135d040c",
   "metadata": {},
   "outputs": [
    {
     "data": {
      "text/html": [
       "<div>\n",
       "<style scoped>\n",
       "    .dataframe tbody tr th:only-of-type {\n",
       "        vertical-align: middle;\n",
       "    }\n",
       "\n",
       "    .dataframe tbody tr th {\n",
       "        vertical-align: top;\n",
       "    }\n",
       "\n",
       "    .dataframe thead th {\n",
       "        text-align: right;\n",
       "    }\n",
       "</style>\n",
       "<table border=\"1\" class=\"dataframe\">\n",
       "  <thead>\n",
       "    <tr style=\"text-align: right;\">\n",
       "      <th></th>\n",
       "      <th>c1</th>\n",
       "      <th>c2</th>\n",
       "      <th>c3</th>\n",
       "    </tr>\n",
       "  </thead>\n",
       "  <tbody>\n",
       "    <tr>\n",
       "      <th>0</th>\n",
       "      <td>1</td>\n",
       "      <td>2</td>\n",
       "      <td>3</td>\n",
       "    </tr>\n",
       "    <tr>\n",
       "      <th>1</th>\n",
       "      <td>4</td>\n",
       "      <td>5</td>\n",
       "      <td>6</td>\n",
       "    </tr>\n",
       "  </tbody>\n",
       "</table>\n",
       "</div>"
      ],
      "text/plain": [
       "   c1  c2  c3\n",
       "0   1   2   3\n",
       "1   4   5   6"
      ]
     },
     "execution_count": 6,
     "metadata": {},
     "output_type": "execute_result"
    }
   ],
   "source": [
    "pd.DataFrame([[1,2,3],[4,5,6]],columns=[\"c1\",\"c2\",\"c3\"])"
   ]
  },
  {
   "cell_type": "code",
   "execution_count": 8,
   "id": "380533df",
   "metadata": {},
   "outputs": [],
   "source": [
    "mon_tableau = pd.DataFrame([[1,2,3],[4,5,6]],columns=[\"c1\",\"c2\",\"c3\"])"
   ]
  },
  {
   "cell_type": "code",
   "execution_count": 9,
   "id": "d00cc0f1",
   "metadata": {},
   "outputs": [
    {
     "data": {
      "text/plain": [
       "pandas.core.frame.DataFrame"
      ]
     },
     "execution_count": 9,
     "metadata": {},
     "output_type": "execute_result"
    }
   ],
   "source": [
    "type(mon_tableau)"
   ]
  },
  {
   "cell_type": "markdown",
   "id": "dfe0d90c",
   "metadata": {},
   "source": [
    "## Charger des données tabulaires"
   ]
  },
  {
   "cell_type": "code",
   "execution_count": 24,
   "id": "20711dcd",
   "metadata": {},
   "outputs": [
    {
     "data": {
      "text/html": [
       "<div>\n",
       "<style scoped>\n",
       "    .dataframe tbody tr th:only-of-type {\n",
       "        vertical-align: middle;\n",
       "    }\n",
       "\n",
       "    .dataframe tbody tr th {\n",
       "        vertical-align: top;\n",
       "    }\n",
       "\n",
       "    .dataframe thead th {\n",
       "        text-align: right;\n",
       "    }\n",
       "</style>\n",
       "<table border=\"1\" class=\"dataframe\">\n",
       "  <thead>\n",
       "    <tr style=\"text-align: right;\">\n",
       "      <th></th>\n",
       "      <th>Date_reco</th>\n",
       "      <th>Date</th>\n",
       "      <th>Titre</th>\n",
       "      <th>Journal</th>\n",
       "      <th>Contenu</th>\n",
       "      <th>Auteur</th>\n",
       "    </tr>\n",
       "  </thead>\n",
       "  <tbody>\n",
       "    <tr>\n",
       "      <th>0</th>\n",
       "      <td>2021-07-15</td>\n",
       "      <td>Science &amp; Médecine,  jeudi 15 juillet 2021 72...</td>\n",
       "      <td>Des résultats scientifiques plus accessibles ...</td>\n",
       "      <td>Le Monde</td>\n",
       "      <td>Les budgets qui augmentent dans le monde de ...</td>\n",
       "      <td>David Larousserie</td>\n",
       "    </tr>\n",
       "    <tr>\n",
       "      <th>1</th>\n",
       "      <td>2021-12-11</td>\n",
       "      <td>Régions,  samedi 11 décembre 2021 597 mots</td>\n",
       "      <td>In&amp;Sight, la plateforme bordelaise résolue à ...</td>\n",
       "      <td>La Tribune (France), no. 7287</td>\n",
       "      <td>LA TRIBUNE - Vous avez co-fondé In&amp;Sight (1)...</td>\n",
       "      <td>Propos recueillis par Anne Farthouat</td>\n",
       "    </tr>\n",
       "    <tr>\n",
       "      <th>2</th>\n",
       "      <td>2020-06-16</td>\n",
       "      <td>mardi 16 juin 2020 1026 mots, p. 8,9</td>\n",
       "      <td>Coronavirus : les grandes revues scientifique...</td>\n",
       "      <td>Libération</td>\n",
       "      <td>Al'image du Lancet, les revues scientifiques...</td>\n",
       "      <td>Olivier Monod</td>\n",
       "    </tr>\n",
       "    <tr>\n",
       "      <th>3</th>\n",
       "      <td>2020-01-10</td>\n",
       "      <td>Horizons,  vendredi 10 janvier 2020 1873 mots...</td>\n",
       "      <td>Paul Allen, bienfaiteur de Seattle La philant...</td>\n",
       "      <td>Le Monde</td>\n",
       "      <td>Seattle (États-Unis) envoyé spécial - Le cél...</td>\n",
       "      <td>Arnaud Leparmentier</td>\n",
       "    </tr>\n",
       "    <tr>\n",
       "      <th>4</th>\n",
       "      <td>2017-09-20</td>\n",
       "      <td>Science &amp; Médecine,  mercredi 20 septembre 20...</td>\n",
       "      <td>La recherche académique a tout à gagner à se ...</td>\n",
       "      <td>Le Monde</td>\n",
       "      <td>Progressivement, le concept d'Open Science t...</td>\n",
       "      <td>NaN</td>\n",
       "    </tr>\n",
       "    <tr>\n",
       "      <th>...</th>\n",
       "      <td>...</td>\n",
       "      <td>...</td>\n",
       "      <td>...</td>\n",
       "      <td>...</td>\n",
       "      <td>...</td>\n",
       "      <td>...</td>\n",
       "    </tr>\n",
       "    <tr>\n",
       "      <th>191</th>\n",
       "      <td>2019-07-08</td>\n",
       "      <td>Idées &amp; Débats,  lundi 8 juillet 2019 212 mot...</td>\n",
       "      <td>L'imagerie cérébrale au service des grottes p...</td>\n",
       "      <td>Les Echos, no. 22984</td>\n",
       "      <td>Les peintures ornant la grotte de Lascaux da...</td>\n",
       "      <td>YANN VERDO</td>\n",
       "    </tr>\n",
       "    <tr>\n",
       "      <th>192</th>\n",
       "      <td>2019-09-12</td>\n",
       "      <td>Débats&amp;Controverses,  jeudi 12 septembre 2019...</td>\n",
       "      <td>Les usages du numérique Nos données personnel...</td>\n",
       "      <td>l'Humanité</td>\n",
       "      <td>rappel des faits Face à la marche imposée pa...</td>\n",
       "      <td>NaN</td>\n",
       "    </tr>\n",
       "    <tr>\n",
       "      <th>193</th>\n",
       "      <td>2017-07-08</td>\n",
       "      <td>Territoires,  samedi 8 juillet 2017 944 mots,...</td>\n",
       "      <td>Sécurité, économie et écologie : les atouts d...</td>\n",
       "      <td>La Tribune (France), no. 6251</td>\n",
       "      <td>Acteurs de l'économie - La Tribune. Qu'est-c...</td>\n",
       "      <td>Elsa Ferreira</td>\n",
       "    </tr>\n",
       "    <tr>\n",
       "      <th>194</th>\n",
       "      <td>2017-04-08</td>\n",
       "      <td>Le Figaro,  samedi 8 avril 2017 680 mots, p. 11</td>\n",
       "      <td>La prudence des oiseaux réside dans leur tête...</td>\n",
       "      <td>Le Figaro, no. 22601</td>\n",
       "      <td>ORNITHOLOGIE  Il avait 13 ans en 1947 quand ...</td>\n",
       "      <td>Nothias, Jean-Luc</td>\n",
       "    </tr>\n",
       "    <tr>\n",
       "      <th>195</th>\n",
       "      <td>2017-06-13</td>\n",
       "      <td>Le Figaro,  mardi 13 juin 2017 596 mots, p. 19</td>\n",
       "      <td>Des coraux résistants pour les mers trop chau...</td>\n",
       "      <td>Le Figaro, no. 22656</td>\n",
       "      <td>OCÉANS  La fragilité des récifs coralliens s...</td>\n",
       "      <td>Court, Marielle</td>\n",
       "    </tr>\n",
       "  </tbody>\n",
       "</table>\n",
       "<p>196 rows × 6 columns</p>\n",
       "</div>"
      ],
      "text/plain": [
       "      Date_reco                                               Date  \\\n",
       "0    2021-07-15   Science & Médecine,  jeudi 15 juillet 2021 72...   \n",
       "1    2021-12-11        Régions,  samedi 11 décembre 2021 597 mots    \n",
       "2    2020-06-16              mardi 16 juin 2020 1026 mots, p. 8,9    \n",
       "3    2020-01-10   Horizons,  vendredi 10 janvier 2020 1873 mots...   \n",
       "4    2017-09-20   Science & Médecine,  mercredi 20 septembre 20...   \n",
       "..          ...                                                ...   \n",
       "191  2019-07-08   Idées & Débats,  lundi 8 juillet 2019 212 mot...   \n",
       "192  2019-09-12   Débats&Controverses,  jeudi 12 septembre 2019...   \n",
       "193  2017-07-08   Territoires,  samedi 8 juillet 2017 944 mots,...   \n",
       "194  2017-04-08   Le Figaro,  samedi 8 avril 2017 680 mots, p. 11    \n",
       "195  2017-06-13    Le Figaro,  mardi 13 juin 2017 596 mots, p. 19    \n",
       "\n",
       "                                                 Titre  \\\n",
       "0     Des résultats scientifiques plus accessibles ...   \n",
       "1     In&Sight, la plateforme bordelaise résolue à ...   \n",
       "2     Coronavirus : les grandes revues scientifique...   \n",
       "3     Paul Allen, bienfaiteur de Seattle La philant...   \n",
       "4     La recherche académique a tout à gagner à se ...   \n",
       "..                                                 ...   \n",
       "191   L'imagerie cérébrale au service des grottes p...   \n",
       "192   Les usages du numérique Nos données personnel...   \n",
       "193   Sécurité, économie et écologie : les atouts d...   \n",
       "194   La prudence des oiseaux réside dans leur tête...   \n",
       "195   Des coraux résistants pour les mers trop chau...   \n",
       "\n",
       "                               Journal  \\\n",
       "0                          Le Monde      \n",
       "1     La Tribune (France), no. 7287      \n",
       "2                        Libération      \n",
       "3                          Le Monde      \n",
       "4                          Le Monde      \n",
       "..                                 ...   \n",
       "191            Les Echos, no. 22984      \n",
       "192                      l'Humanité      \n",
       "193   La Tribune (France), no. 6251      \n",
       "194            Le Figaro, no. 22601      \n",
       "195            Le Figaro, no. 22656      \n",
       "\n",
       "                                               Contenu  \\\n",
       "0      Les budgets qui augmentent dans le monde de ...   \n",
       "1      LA TRIBUNE - Vous avez co-fondé In&Sight (1)...   \n",
       "2      Al'image du Lancet, les revues scientifiques...   \n",
       "3      Seattle (États-Unis) envoyé spécial - Le cél...   \n",
       "4      Progressivement, le concept d'Open Science t...   \n",
       "..                                                 ...   \n",
       "191    Les peintures ornant la grotte de Lascaux da...   \n",
       "192    rappel des faits Face à la marche imposée pa...   \n",
       "193    Acteurs de l'économie - La Tribune. Qu'est-c...   \n",
       "194    ORNITHOLOGIE  Il avait 13 ans en 1947 quand ...   \n",
       "195    OCÉANS  La fragilité des récifs coralliens s...   \n",
       "\n",
       "                                   Auteur  \n",
       "0                       David Larousserie  \n",
       "1    Propos recueillis par Anne Farthouat  \n",
       "2                           Olivier Monod  \n",
       "3                     Arnaud Leparmentier  \n",
       "4                                     NaN  \n",
       "..                                    ...  \n",
       "191                            YANN VERDO  \n",
       "192                                   NaN  \n",
       "193                         Elsa Ferreira  \n",
       "194                     Nothias, Jean-Luc  \n",
       "195                       Court, Marielle  \n",
       "\n",
       "[196 rows x 6 columns]"
      ]
     },
     "execution_count": 24,
     "metadata": {},
     "output_type": "execute_result"
    }
   ],
   "source": [
    "tableau = pd.read_csv(\"https://raw.githubusercontent.com/pyshs/Formation-2022-URFIST-Marseille/main/Data/europresse_science_ouverte_presse_nationale.csv\")\n",
    "tableau"
   ]
  },
  {
   "cell_type": "code",
   "execution_count": 15,
   "id": "bfa5284b",
   "metadata": {},
   "outputs": [
    {
     "data": {
      "text/plain": [
       "(196, 6)"
      ]
     },
     "execution_count": 15,
     "metadata": {},
     "output_type": "execute_result"
    }
   ],
   "source": [
    "tableau.shape"
   ]
  },
  {
   "cell_type": "code",
   "execution_count": 16,
   "id": "a3235f0d",
   "metadata": {},
   "outputs": [
    {
     "data": {
      "text/plain": [
       "Index(['Date_reco', 'Date', 'Titre', 'Journal', 'Contenu', 'Auteur'], dtype='object')"
      ]
     },
     "execution_count": 16,
     "metadata": {},
     "output_type": "execute_result"
    }
   ],
   "source": [
    "tableau.columns"
   ]
  },
  {
   "cell_type": "code",
   "execution_count": 17,
   "id": "de26bd3a",
   "metadata": {},
   "outputs": [
    {
     "data": {
      "text/plain": [
       "RangeIndex(start=0, stop=196, step=1)"
      ]
     },
     "execution_count": 17,
     "metadata": {},
     "output_type": "execute_result"
    }
   ],
   "source": [
    "tableau.index"
   ]
  },
  {
   "cell_type": "code",
   "execution_count": null,
   "id": "c0bdc074",
   "metadata": {},
   "outputs": [],
   "source": [
    "tableau = tableau.set_index(\"Date_reco\")"
   ]
  },
  {
   "cell_type": "code",
   "execution_count": 30,
   "id": "e5aa7129",
   "metadata": {},
   "outputs": [
    {
     "data": {
      "text/html": [
       "<div>\n",
       "<style scoped>\n",
       "    .dataframe tbody tr th:only-of-type {\n",
       "        vertical-align: middle;\n",
       "    }\n",
       "\n",
       "    .dataframe tbody tr th {\n",
       "        vertical-align: top;\n",
       "    }\n",
       "\n",
       "    .dataframe thead th {\n",
       "        text-align: right;\n",
       "    }\n",
       "</style>\n",
       "<table border=\"1\" class=\"dataframe\">\n",
       "  <thead>\n",
       "    <tr style=\"text-align: right;\">\n",
       "      <th></th>\n",
       "      <th>Date</th>\n",
       "      <th>Titre</th>\n",
       "      <th>Journal</th>\n",
       "      <th>Contenu</th>\n",
       "      <th>Auteur</th>\n",
       "    </tr>\n",
       "    <tr>\n",
       "      <th>Date_reco</th>\n",
       "      <th></th>\n",
       "      <th></th>\n",
       "      <th></th>\n",
       "      <th></th>\n",
       "      <th></th>\n",
       "    </tr>\n",
       "  </thead>\n",
       "  <tbody>\n",
       "    <tr>\n",
       "      <th>1996-02-05</th>\n",
       "      <td>CULTURE-MEDIAS,  lundi 5 février 1996 680 mot...</td>\n",
       "      <td>Dossier Théorie de l'évolution.Darwin Les pal...</td>\n",
       "      <td>La Croix</td>\n",
       "      <td>Au mois d'août 1856, des ouvriers découvrire...</td>\n",
       "      <td>LAURANT Sophie</td>\n",
       "    </tr>\n",
       "    <tr>\n",
       "      <th>1996-03-12</th>\n",
       "      <td>EUREKA,  mardi 12 mars 1996 874 mots, p. 30</td>\n",
       "      <td>\"L'homme de Neandertal, l'un des plus fascina...</td>\n",
       "      <td>Libération</td>\n",
       "      <td>Après Jurassic Park, un Neandertal Park? Ste...</td>\n",
       "      <td>MALLAVAL Catherine</td>\n",
       "    </tr>\n",
       "    <tr>\n",
       "      <th>1996-07-11</th>\n",
       "      <td>LIVRES,  jeudi 11 juillet 1996 388 mots, p. 7</td>\n",
       "      <td>Archimède sans principe. Tout est relatif: Ei...</td>\n",
       "      <td>Libération</td>\n",
       "      <td>Pour le vulgum pecus, c'est-à-dire le Nous m...</td>\n",
       "      <td>SMITH Stephen</td>\n",
       "    </tr>\n",
       "    <tr>\n",
       "      <th>1996-09-13</th>\n",
       "      <td>REBONDS,  vendredi 13 septembre 1996 821 mots...</td>\n",
       "      <td>Mais que font les géographes ?</td>\n",
       "      <td>Libération</td>\n",
       "      <td>Où sont passés les géographes? La question s...</td>\n",
       "      <td>ALLIX Jean-Pierre</td>\n",
       "    </tr>\n",
       "    <tr>\n",
       "      <th>1996-11-26</th>\n",
       "      <td>EUREKA,  mardi 26 novembre 1996 470 mots, p. 28</td>\n",
       "      <td>PLUME. Les mots de l'Evolution. Comme les hui...</td>\n",
       "      <td>Libération</td>\n",
       "      <td>L'homme est fondamentalement   - \"naturellem...</td>\n",
       "      <td>LEGLU Dominique</td>\n",
       "    </tr>\n",
       "    <tr>\n",
       "      <th>...</th>\n",
       "      <td>...</td>\n",
       "      <td>...</td>\n",
       "      <td>...</td>\n",
       "      <td>...</td>\n",
       "      <td>...</td>\n",
       "    </tr>\n",
       "    <tr>\n",
       "      <th>2021-11-10</th>\n",
       "      <td>Science &amp; Médecine,  mercredi 10 novembre 202...</td>\n",
       "      <td>Rendez-vous « La biologie moléculaire, une ar...</td>\n",
       "      <td>Le Monde</td>\n",
       "      <td>La pandémie de Covid-19 a montré comment une...</td>\n",
       "      <td>NaN</td>\n",
       "    </tr>\n",
       "    <tr>\n",
       "      <th>2021-11-24</th>\n",
       "      <td>Science &amp; Médecine,  mercredi 24 novembre 202...</td>\n",
       "      <td>Actualité Chambardements dans l'évaluation de...</td>\n",
       "      <td>Le Monde</td>\n",
       "      <td>Si ce n'est pas une révolution, c'est au moi...</td>\n",
       "      <td>David Larousserie</td>\n",
       "    </tr>\n",
       "    <tr>\n",
       "      <th>2021-12-11</th>\n",
       "      <td>Régions,  samedi 11 décembre 2021 597 mots</td>\n",
       "      <td>In&amp;Sight, la plateforme bordelaise résolue à ...</td>\n",
       "      <td>La Tribune (France), no. 7287</td>\n",
       "      <td>LA TRIBUNE - Vous avez co-fondé In&amp;Sight (1)...</td>\n",
       "      <td>Propos recueillis par Anne Farthouat</td>\n",
       "    </tr>\n",
       "    <tr>\n",
       "      <th>2022-02-09</th>\n",
       "      <td>Science &amp; Médecine,  mercredi 9 février 2022 ...</td>\n",
       "      <td>Télescope Bibliométrie Des publications franç...</td>\n",
       "      <td>Le Monde</td>\n",
       "      <td>Le dernier baromètre de la science ouverte  ...</td>\n",
       "      <td>NaN</td>\n",
       "    </tr>\n",
       "    <tr>\n",
       "      <th>2022-02-16</th>\n",
       "      <td>Science &amp; Médecine,  mercredi 16 février 2022...</td>\n",
       "      <td>entretien « Il faut assumer le fait que la re...</td>\n",
       "      <td>Le Monde</td>\n",
       "      <td>Antoine Petit, 61 ans, a été reconduit à la ...</td>\n",
       "      <td>propos recueillis parDavid Larousserie propos ...</td>\n",
       "    </tr>\n",
       "  </tbody>\n",
       "</table>\n",
       "<p>196 rows × 5 columns</p>\n",
       "</div>"
      ],
      "text/plain": [
       "                                                         Date  \\\n",
       "Date_reco                                                       \n",
       "1996-02-05   CULTURE-MEDIAS,  lundi 5 février 1996 680 mot...   \n",
       "1996-03-12       EUREKA,  mardi 12 mars 1996 874 mots, p. 30    \n",
       "1996-07-11     LIVRES,  jeudi 11 juillet 1996 388 mots, p. 7    \n",
       "1996-09-13   REBONDS,  vendredi 13 septembre 1996 821 mots...   \n",
       "1996-11-26   EUREKA,  mardi 26 novembre 1996 470 mots, p. 28    \n",
       "...                                                       ...   \n",
       "2021-11-10   Science & Médecine,  mercredi 10 novembre 202...   \n",
       "2021-11-24   Science & Médecine,  mercredi 24 novembre 202...   \n",
       "2021-12-11        Régions,  samedi 11 décembre 2021 597 mots    \n",
       "2022-02-09   Science & Médecine,  mercredi 9 février 2022 ...   \n",
       "2022-02-16   Science & Médecine,  mercredi 16 février 2022...   \n",
       "\n",
       "                                                        Titre  \\\n",
       "Date_reco                                                       \n",
       "1996-02-05   Dossier Théorie de l'évolution.Darwin Les pal...   \n",
       "1996-03-12   \"L'homme de Neandertal, l'un des plus fascina...   \n",
       "1996-07-11   Archimède sans principe. Tout est relatif: Ei...   \n",
       "1996-09-13                    Mais que font les géographes ?    \n",
       "1996-11-26   PLUME. Les mots de l'Evolution. Comme les hui...   \n",
       "...                                                       ...   \n",
       "2021-11-10   Rendez-vous « La biologie moléculaire, une ar...   \n",
       "2021-11-24   Actualité Chambardements dans l'évaluation de...   \n",
       "2021-12-11   In&Sight, la plateforme bordelaise résolue à ...   \n",
       "2022-02-09   Télescope Bibliométrie Des publications franç...   \n",
       "2022-02-16   entretien « Il faut assumer le fait que la re...   \n",
       "\n",
       "                                      Journal  \\\n",
       "Date_reco                                       \n",
       "1996-02-05                        La Croix      \n",
       "1996-03-12                      Libération      \n",
       "1996-07-11                      Libération      \n",
       "1996-09-13                      Libération      \n",
       "1996-11-26                      Libération      \n",
       "...                                       ...   \n",
       "2021-11-10                        Le Monde      \n",
       "2021-11-24                        Le Monde      \n",
       "2021-12-11   La Tribune (France), no. 7287      \n",
       "2022-02-09                        Le Monde      \n",
       "2022-02-16                        Le Monde      \n",
       "\n",
       "                                                      Contenu  \\\n",
       "Date_reco                                                       \n",
       "1996-02-05    Au mois d'août 1856, des ouvriers découvrire...   \n",
       "1996-03-12    Après Jurassic Park, un Neandertal Park? Ste...   \n",
       "1996-07-11    Pour le vulgum pecus, c'est-à-dire le Nous m...   \n",
       "1996-09-13    Où sont passés les géographes? La question s...   \n",
       "1996-11-26    L'homme est fondamentalement   - \"naturellem...   \n",
       "...                                                       ...   \n",
       "2021-11-10    La pandémie de Covid-19 a montré comment une...   \n",
       "2021-11-24    Si ce n'est pas une révolution, c'est au moi...   \n",
       "2021-12-11    LA TRIBUNE - Vous avez co-fondé In&Sight (1)...   \n",
       "2022-02-09    Le dernier baromètre de la science ouverte  ...   \n",
       "2022-02-16    Antoine Petit, 61 ans, a été reconduit à la ...   \n",
       "\n",
       "                                                       Auteur  \n",
       "Date_reco                                                      \n",
       "1996-02-05                                     LAURANT Sophie  \n",
       "1996-03-12                                 MALLAVAL Catherine  \n",
       "1996-07-11                                      SMITH Stephen  \n",
       "1996-09-13                                  ALLIX Jean-Pierre  \n",
       "1996-11-26                                    LEGLU Dominique  \n",
       "...                                                       ...  \n",
       "2021-11-10                                                NaN  \n",
       "2021-11-24                                  David Larousserie  \n",
       "2021-12-11               Propos recueillis par Anne Farthouat  \n",
       "2022-02-09                                                NaN  \n",
       "2022-02-16  propos recueillis parDavid Larousserie propos ...  \n",
       "\n",
       "[196 rows x 5 columns]"
      ]
     },
     "execution_count": 30,
     "metadata": {},
     "output_type": "execute_result"
    }
   ],
   "source": [
    "tableau.sort_index()"
   ]
  },
  {
   "cell_type": "markdown",
   "id": "8f988bd3",
   "metadata": {},
   "source": [
    "## Accéder au tableau"
   ]
  },
  {
   "cell_type": "code",
   "execution_count": 31,
   "id": "7157acde",
   "metadata": {},
   "outputs": [
    {
     "data": {
      "text/plain": [
       "Date_reco\n",
       "2021-07-15     Des résultats scientifiques plus accessibles ...\n",
       "2021-12-11     In&Sight, la plateforme bordelaise résolue à ...\n",
       "2020-06-16     Coronavirus : les grandes revues scientifique...\n",
       "2020-01-10     Paul Allen, bienfaiteur de Seattle La philant...\n",
       "2017-09-20     La recherche académique a tout à gagner à se ...\n",
       "                                    ...                        \n",
       "2019-07-08     L'imagerie cérébrale au service des grottes p...\n",
       "2019-09-12     Les usages du numérique Nos données personnel...\n",
       "2017-07-08     Sécurité, économie et écologie : les atouts d...\n",
       "2017-04-08     La prudence des oiseaux réside dans leur tête...\n",
       "2017-06-13     Des coraux résistants pour les mers trop chau...\n",
       "Name: Titre, Length: 196, dtype: object"
      ]
     },
     "execution_count": 31,
     "metadata": {},
     "output_type": "execute_result"
    }
   ],
   "source": [
    "tableau[\"Titre\"]"
   ]
  },
  {
   "cell_type": "code",
   "execution_count": 34,
   "id": "cd82f575",
   "metadata": {},
   "outputs": [
    {
     "data": {
      "text/plain": [
       "Date        Territoires,  samedi 8 juillet 2017 944 mots,...\n",
       "Titre       Sécurité, économie et écologie : les atouts d...\n",
       "Journal                     La Tribune (France), no. 6251   \n",
       "Contenu      Acteurs de l'économie - La Tribune. Qu'est-c...\n",
       "Auteur                                         Elsa Ferreira\n",
       "Name: 2017-07-08, dtype: object"
      ]
     },
     "execution_count": 34,
     "metadata": {},
     "output_type": "execute_result"
    }
   ],
   "source": [
    "tableau.loc[\"2017-07-08\"]"
   ]
  },
  {
   "cell_type": "code",
   "execution_count": 35,
   "id": "402a42d9",
   "metadata": {},
   "outputs": [
    {
     "data": {
      "text/plain": [
       "' Sécurité, économie et écologie : les atouts du logiciel libre '"
      ]
     },
     "execution_count": 35,
     "metadata": {},
     "output_type": "execute_result"
    }
   ],
   "source": [
    "tableau.loc[\"2017-07-08\",\"Titre\"]"
   ]
  },
  {
   "cell_type": "markdown",
   "id": "1ab13376",
   "metadata": {},
   "source": [
    "## Mission : créer une colonne avec la présence d'un mot\n",
    "\n",
    "Est-ce que le mot clé est présent ?"
   ]
  },
  {
   "cell_type": "code",
   "execution_count": 55,
   "id": "3377c207",
   "metadata": {},
   "outputs": [],
   "source": [
    "motcle = \"programmation\""
   ]
  },
  {
   "cell_type": "code",
   "execution_count": 56,
   "id": "a1250da9",
   "metadata": {},
   "outputs": [],
   "source": [
    "tableau[\"Contenu_min\"] = tableau[\"Contenu\"].str.lower()"
   ]
  },
  {
   "cell_type": "code",
   "execution_count": 57,
   "id": "b2571ae7",
   "metadata": {},
   "outputs": [],
   "source": [
    "tableau[\"presence_programmation\"] = tableau[\"Contenu_min\"].str.count(motcle)"
   ]
  },
  {
   "cell_type": "code",
   "execution_count": null,
   "id": "7a0470ab",
   "metadata": {},
   "outputs": [],
   "source": [
    "# Même chose avec apply\n",
    "def compter_mot_dp(cellule):\n",
    "    kw = \"data paper\"\n",
    "    return cellule.lower().count(kw)\n",
    "\n",
    "tableau[\"Contenu\"].apply(compter_mot_dp)"
   ]
  },
  {
   "cell_type": "code",
   "execution_count": 58,
   "id": "77faa66b",
   "metadata": {},
   "outputs": [
    {
     "data": {
      "text/plain": [
       "8"
      ]
     },
     "execution_count": 58,
     "metadata": {},
     "output_type": "execute_result"
    }
   ],
   "source": [
    "tableau[\"presence_programmation\"].sum()"
   ]
  },
  {
   "cell_type": "markdown",
   "id": "1b9db396",
   "metadata": {},
   "source": [
    "## Sélection d'éléments"
   ]
  },
  {
   "cell_type": "code",
   "execution_count": 68,
   "id": "418967da",
   "metadata": {
    "scrolled": true
   },
   "outputs": [
    {
     "data": {
      "text/html": [
       "<div>\n",
       "<style scoped>\n",
       "    .dataframe tbody tr th:only-of-type {\n",
       "        vertical-align: middle;\n",
       "    }\n",
       "\n",
       "    .dataframe tbody tr th {\n",
       "        vertical-align: top;\n",
       "    }\n",
       "\n",
       "    .dataframe thead th {\n",
       "        text-align: right;\n",
       "    }\n",
       "</style>\n",
       "<table border=\"1\" class=\"dataframe\">\n",
       "  <thead>\n",
       "    <tr style=\"text-align: right;\">\n",
       "      <th></th>\n",
       "      <th>Date</th>\n",
       "      <th>Titre</th>\n",
       "      <th>Journal</th>\n",
       "      <th>Contenu</th>\n",
       "      <th>Auteur</th>\n",
       "      <th>Contenu_min</th>\n",
       "      <th>presence_datapaper</th>\n",
       "      <th>presence_programmation</th>\n",
       "    </tr>\n",
       "    <tr>\n",
       "      <th>Date_reco</th>\n",
       "      <th></th>\n",
       "      <th></th>\n",
       "      <th></th>\n",
       "      <th></th>\n",
       "      <th></th>\n",
       "      <th></th>\n",
       "      <th></th>\n",
       "      <th></th>\n",
       "    </tr>\n",
       "  </thead>\n",
       "  <tbody>\n",
       "    <tr>\n",
       "      <th>2021-10-12</th>\n",
       "      <td>Dialogues,  mardi 12 octobre 2021 1117 mots, ...</td>\n",
       "      <td>Patrick Lemaire N'oublions pas que la recherc...</td>\n",
       "      <td>Le Monde</td>\n",
       "      <td>Sans doute avez-vous entendu parler des prot...</td>\n",
       "      <td>Patrick Lemaire</td>\n",
       "      <td>sans doute avez-vous entendu parler des prot...</td>\n",
       "      <td>0</td>\n",
       "      <td>1</td>\n",
       "    </tr>\n",
       "    <tr>\n",
       "      <th>2022-02-16</th>\n",
       "      <td>Science &amp; Médecine,  mercredi 16 février 2022...</td>\n",
       "      <td>entretien « Il faut assumer le fait que la re...</td>\n",
       "      <td>Le Monde</td>\n",
       "      <td>Antoine Petit, 61 ans, a été reconduit à la ...</td>\n",
       "      <td>propos recueillis parDavid Larousserie propos ...</td>\n",
       "      <td>antoine petit, 61 ans, a été reconduit à la ...</td>\n",
       "      <td>0</td>\n",
       "      <td>1</td>\n",
       "    </tr>\n",
       "    <tr>\n",
       "      <th>2020-09-22</th>\n",
       "      <td>Analyses,  mardi 22 septembre 2020 717 mots, ...</td>\n",
       "      <td>La Loi de programmation pluriannuelle permett...</td>\n",
       "      <td>Le Monde</td>\n",
       "      <td>La loi de programmation pluriannuelle de la ...</td>\n",
       "      <td>cinq professeurs au Collège de France,</td>\n",
       "      <td>la loi de programmation pluriannuelle de la ...</td>\n",
       "      <td>0</td>\n",
       "      <td>2</td>\n",
       "    </tr>\n",
       "    <tr>\n",
       "      <th>2018-12-05</th>\n",
       "      <td>Science &amp; Médecine,  mercredi 5 décembre 2018...</td>\n",
       "      <td>Marin Dacos, héraut de la  science  ouverte p...</td>\n",
       "      <td>Le Monde</td>\n",
       "      <td>Les évidences mettent parfois du temps à s'i...</td>\n",
       "      <td>NaN</td>\n",
       "      <td>les évidences mettent parfois du temps à s'i...</td>\n",
       "      <td>0</td>\n",
       "      <td>1</td>\n",
       "    </tr>\n",
       "    <tr>\n",
       "      <th>2020-03-05</th>\n",
       "      <td>Analyses,  jeudi 5 mars 2020 920 mots, p. 31</td>\n",
       "      <td>Nous démissionnerons de nos fonctions adminis...</td>\n",
       "      <td>Le Monde</td>\n",
       "      <td>Nous, titulaires de l'enseignement supérieur...</td>\n",
       "      <td>Un collectif de 800 universitaires et chercheurs</td>\n",
       "      <td>nous, titulaires de l'enseignement supérieur...</td>\n",
       "      <td>0</td>\n",
       "      <td>1</td>\n",
       "    </tr>\n",
       "    <tr>\n",
       "      <th>2014-04-04</th>\n",
       "      <td>Sciences,  vendredi 4 avril 2014 909 mots, p....</td>\n",
       "      <td>Un chromosome artificiel dans la levure Avec ...</td>\n",
       "      <td>Libération</td>\n",
       "      <td>Un «super OGM» ? Une levure de synthèse ? Un...</td>\n",
       "      <td>Sylvestre Huet</td>\n",
       "      <td>un «super ogm» ? une levure de synthèse ? un...</td>\n",
       "      <td>0</td>\n",
       "      <td>1</td>\n",
       "    </tr>\n",
       "    <tr>\n",
       "      <th>2017-02-28</th>\n",
       "      <td>Horizons,  mardi 28 février 2017 1310 mots, p...</td>\n",
       "      <td>O 21 L'Ile-de-France à l'heure des FabLab Fac...</td>\n",
       "      <td>Le Monde</td>\n",
       "      <td>Alors que les écosystèmes innovants fédérant...</td>\n",
       "      <td>Séverin Graveleau, Marine Miller et Adrien de ...</td>\n",
       "      <td>alors que les écosystèmes innovants fédérant...</td>\n",
       "      <td>0</td>\n",
       "      <td>1</td>\n",
       "    </tr>\n",
       "  </tbody>\n",
       "</table>\n",
       "</div>"
      ],
      "text/plain": [
       "                                                         Date  \\\n",
       "Date_reco                                                       \n",
       "2021-10-12   Dialogues,  mardi 12 octobre 2021 1117 mots, ...   \n",
       "2022-02-16   Science & Médecine,  mercredi 16 février 2022...   \n",
       "2020-09-22   Analyses,  mardi 22 septembre 2020 717 mots, ...   \n",
       "2018-12-05   Science & Médecine,  mercredi 5 décembre 2018...   \n",
       "2020-03-05      Analyses,  jeudi 5 mars 2020 920 mots, p. 31    \n",
       "2014-04-04   Sciences,  vendredi 4 avril 2014 909 mots, p....   \n",
       "2017-02-28   Horizons,  mardi 28 février 2017 1310 mots, p...   \n",
       "\n",
       "                                                        Titre         Journal  \\\n",
       "Date_reco                                                                       \n",
       "2021-10-12   Patrick Lemaire N'oublions pas que la recherc...     Le Monde      \n",
       "2022-02-16   entretien « Il faut assumer le fait que la re...     Le Monde      \n",
       "2020-09-22   La Loi de programmation pluriannuelle permett...     Le Monde      \n",
       "2018-12-05   Marin Dacos, héraut de la  science  ouverte p...     Le Monde      \n",
       "2020-03-05   Nous démissionnerons de nos fonctions adminis...     Le Monde      \n",
       "2014-04-04   Un chromosome artificiel dans la levure Avec ...   Libération      \n",
       "2017-02-28   O 21 L'Ile-de-France à l'heure des FabLab Fac...     Le Monde      \n",
       "\n",
       "                                                      Contenu  \\\n",
       "Date_reco                                                       \n",
       "2021-10-12    Sans doute avez-vous entendu parler des prot...   \n",
       "2022-02-16    Antoine Petit, 61 ans, a été reconduit à la ...   \n",
       "2020-09-22    La loi de programmation pluriannuelle de la ...   \n",
       "2018-12-05    Les évidences mettent parfois du temps à s'i...   \n",
       "2020-03-05    Nous, titulaires de l'enseignement supérieur...   \n",
       "2014-04-04    Un «super OGM» ? Une levure de synthèse ? Un...   \n",
       "2017-02-28    Alors que les écosystèmes innovants fédérant...   \n",
       "\n",
       "                                                       Auteur  \\\n",
       "Date_reco                                                       \n",
       "2021-10-12                                    Patrick Lemaire   \n",
       "2022-02-16  propos recueillis parDavid Larousserie propos ...   \n",
       "2020-09-22             cinq professeurs au Collège de France,   \n",
       "2018-12-05                                                NaN   \n",
       "2020-03-05   Un collectif de 800 universitaires et chercheurs   \n",
       "2014-04-04                                     Sylvestre Huet   \n",
       "2017-02-28  Séverin Graveleau, Marine Miller et Adrien de ...   \n",
       "\n",
       "                                                  Contenu_min  \\\n",
       "Date_reco                                                       \n",
       "2021-10-12    sans doute avez-vous entendu parler des prot...   \n",
       "2022-02-16    antoine petit, 61 ans, a été reconduit à la ...   \n",
       "2020-09-22    la loi de programmation pluriannuelle de la ...   \n",
       "2018-12-05    les évidences mettent parfois du temps à s'i...   \n",
       "2020-03-05    nous, titulaires de l'enseignement supérieur...   \n",
       "2014-04-04    un «super ogm» ? une levure de synthèse ? un...   \n",
       "2017-02-28    alors que les écosystèmes innovants fédérant...   \n",
       "\n",
       "            presence_datapaper  presence_programmation  \n",
       "Date_reco                                               \n",
       "2021-10-12                   0                       1  \n",
       "2022-02-16                   0                       1  \n",
       "2020-09-22                   0                       2  \n",
       "2018-12-05                   0                       1  \n",
       "2020-03-05                   0                       1  \n",
       "2014-04-04                   0                       1  \n",
       "2017-02-28                   0                       1  "
      ]
     },
     "execution_count": 68,
     "metadata": {},
     "output_type": "execute_result"
    }
   ],
   "source": [
    "tableau[tableau[\"presence_programmation\"]>0]"
   ]
  },
  {
   "cell_type": "code",
   "execution_count": 75,
   "id": "bd7cfbe1",
   "metadata": {},
   "outputs": [
    {
     "data": {
      "text/plain": [
       "Date_reco\n",
       "2021-07-15     True\n",
       "2021-12-11    False\n",
       "2020-06-16    False\n",
       "2020-01-10     True\n",
       "2017-09-20     True\n",
       "              ...  \n",
       "2019-07-08    False\n",
       "2019-09-12    False\n",
       "2017-07-08    False\n",
       "2017-04-08    False\n",
       "2017-06-13    False\n",
       "Name: Journal, Length: 196, dtype: bool"
      ]
     },
     "execution_count": 75,
     "metadata": {},
     "output_type": "execute_result"
    }
   ],
   "source": [
    "tableau[\"Journal\"].str.contains(\"Le Monde\")"
   ]
  },
  {
   "cell_type": "code",
   "execution_count": 76,
   "id": "c01371fa",
   "metadata": {},
   "outputs": [
    {
     "data": {
      "text/html": [
       "<div>\n",
       "<style scoped>\n",
       "    .dataframe tbody tr th:only-of-type {\n",
       "        vertical-align: middle;\n",
       "    }\n",
       "\n",
       "    .dataframe tbody tr th {\n",
       "        vertical-align: top;\n",
       "    }\n",
       "\n",
       "    .dataframe thead th {\n",
       "        text-align: right;\n",
       "    }\n",
       "</style>\n",
       "<table border=\"1\" class=\"dataframe\">\n",
       "  <thead>\n",
       "    <tr style=\"text-align: right;\">\n",
       "      <th></th>\n",
       "      <th>Date</th>\n",
       "      <th>Titre</th>\n",
       "      <th>Journal</th>\n",
       "      <th>Contenu</th>\n",
       "      <th>Auteur</th>\n",
       "      <th>Contenu_min</th>\n",
       "      <th>presence_datapaper</th>\n",
       "      <th>presence_programmation</th>\n",
       "    </tr>\n",
       "    <tr>\n",
       "      <th>Date_reco</th>\n",
       "      <th></th>\n",
       "      <th></th>\n",
       "      <th></th>\n",
       "      <th></th>\n",
       "      <th></th>\n",
       "      <th></th>\n",
       "      <th></th>\n",
       "      <th></th>\n",
       "    </tr>\n",
       "  </thead>\n",
       "  <tbody>\n",
       "    <tr>\n",
       "      <th>2021-07-15</th>\n",
       "      <td>Science &amp; Médecine,  jeudi 15 juillet 2021 72...</td>\n",
       "      <td>Des résultats scientifiques plus accessibles ...</td>\n",
       "      <td>Le Monde</td>\n",
       "      <td>Les budgets qui augmentent dans le monde de ...</td>\n",
       "      <td>David Larousserie</td>\n",
       "      <td>les budgets qui augmentent dans le monde de ...</td>\n",
       "      <td>0</td>\n",
       "      <td>0</td>\n",
       "    </tr>\n",
       "    <tr>\n",
       "      <th>2020-01-10</th>\n",
       "      <td>Horizons,  vendredi 10 janvier 2020 1873 mots...</td>\n",
       "      <td>Paul Allen, bienfaiteur de Seattle La philant...</td>\n",
       "      <td>Le Monde</td>\n",
       "      <td>Seattle (États-Unis) envoyé spécial - Le cél...</td>\n",
       "      <td>Arnaud Leparmentier</td>\n",
       "      <td>seattle (états-unis) envoyé spécial - le cél...</td>\n",
       "      <td>0</td>\n",
       "      <td>0</td>\n",
       "    </tr>\n",
       "    <tr>\n",
       "      <th>2017-09-20</th>\n",
       "      <td>Science &amp; Médecine,  mercredi 20 septembre 20...</td>\n",
       "      <td>La recherche académique a tout à gagner à se ...</td>\n",
       "      <td>Le Monde</td>\n",
       "      <td>Progressivement, le concept d'Open Science t...</td>\n",
       "      <td>NaN</td>\n",
       "      <td>progressivement, le concept d'open science t...</td>\n",
       "      <td>0</td>\n",
       "      <td>0</td>\n",
       "    </tr>\n",
       "    <tr>\n",
       "      <th>2021-01-27</th>\n",
       "      <td>mercredi 27 janvier 2021 130 mots, p. 27</td>\n",
       "      <td>Télescope ÉDITION SCIENTIFIQUE Progression de...</td>\n",
       "      <td>Le Monde</td>\n",
       "      <td>Plus de la moitié (56 %) des 56 000 articles...</td>\n",
       "      <td>NaN</td>\n",
       "      <td>plus de la moitié (56 %) des 56 000 articles...</td>\n",
       "      <td>0</td>\n",
       "      <td>0</td>\n",
       "    </tr>\n",
       "    <tr>\n",
       "      <th>2016-03-09</th>\n",
       "      <td>Science &amp; techno,  mercredi 9 mars 2016 1164 ...</td>\n",
       "      <td>Des chercheurs de nombreuses disciplines appe...</td>\n",
       "      <td>Le Monde</td>\n",
       "      <td>En tant que chercheurs, nous considérons que...</td>\n",
       "      <td>NaN</td>\n",
       "      <td>en tant que chercheurs, nous considérons que...</td>\n",
       "      <td>0</td>\n",
       "      <td>0</td>\n",
       "    </tr>\n",
       "    <tr>\n",
       "      <th>...</th>\n",
       "      <td>...</td>\n",
       "      <td>...</td>\n",
       "      <td>...</td>\n",
       "      <td>...</td>\n",
       "      <td>...</td>\n",
       "      <td>...</td>\n",
       "      <td>...</td>\n",
       "      <td>...</td>\n",
       "    </tr>\n",
       "    <tr>\n",
       "      <th>2018-10-03</th>\n",
       "      <td>Éco &amp; Entreprise,  mercredi 3 octobre 2018 69...</td>\n",
       "      <td>\" Les doctorants ne veulent plus être vus com...</td>\n",
       "      <td>Le Monde</td>\n",
       "      <td>Alexandre Matic, représentant de la Confédér...</td>\n",
       "      <td>NaN</td>\n",
       "      <td>alexandre matic, représentant de la confédér...</td>\n",
       "      <td>0</td>\n",
       "      <td>0</td>\n",
       "    </tr>\n",
       "    <tr>\n",
       "      <th>2016-10-12</th>\n",
       "      <td>Science &amp; techno,  mercredi 12 octobre 2016 6...</td>\n",
       "      <td>Improbablogie La fiction, ça fait du bien</td>\n",
       "      <td>Le Monde</td>\n",
       "      <td>Que ce soit au cinéma, au théâtre, dans les ...</td>\n",
       "      <td>Pierre Barthélémy</td>\n",
       "      <td>que ce soit au cinéma, au théâtre, dans les ...</td>\n",
       "      <td>0</td>\n",
       "      <td>0</td>\n",
       "    </tr>\n",
       "    <tr>\n",
       "      <th>2016-04-06</th>\n",
       "      <td>Science &amp; Médecine,  mercredi 6 avril 2016 66...</td>\n",
       "      <td>Vie des labos La psychologie est-elle en crise?</td>\n",
       "      <td>Le Monde</td>\n",
       "      <td>Dans les laboratoires de psychologie, on ne ...</td>\n",
       "      <td>NaN</td>\n",
       "      <td>dans les laboratoires de psychologie, on ne ...</td>\n",
       "      <td>0</td>\n",
       "      <td>0</td>\n",
       "    </tr>\n",
       "    <tr>\n",
       "      <th>2016-07-08</th>\n",
       "      <td>Économie et Entreprise,  vendredi 8 juillet 2...</td>\n",
       "      <td>Idées recherches L'Internet caché des cachalots</td>\n",
       "      <td>Le Monde</td>\n",
       "      <td>Vous reconnaissez votre ami par le langage q...</td>\n",
       "      <td>par Paul Seabright</td>\n",
       "      <td>vous reconnaissez votre ami par le langage q...</td>\n",
       "      <td>0</td>\n",
       "      <td>0</td>\n",
       "    </tr>\n",
       "    <tr>\n",
       "      <th>2019-06-05</th>\n",
       "      <td>Science &amp; Médecine,  mercredi 5 juin 2019 123...</td>\n",
       "      <td>Actualité « Les usagers ont un droit sur leur...</td>\n",
       "      <td>Le Monde</td>\n",
       "      <td>Montre connectée pour mesurer l'activité phy...</td>\n",
       "      <td>Propos recueillis par Laure Belot Propos recue...</td>\n",
       "      <td>montre connectée pour mesurer l'activité phy...</td>\n",
       "      <td>0</td>\n",
       "      <td>0</td>\n",
       "    </tr>\n",
       "  </tbody>\n",
       "</table>\n",
       "<p>93 rows × 8 columns</p>\n",
       "</div>"
      ],
      "text/plain": [
       "                                                         Date  \\\n",
       "Date_reco                                                       \n",
       "2021-07-15   Science & Médecine,  jeudi 15 juillet 2021 72...   \n",
       "2020-01-10   Horizons,  vendredi 10 janvier 2020 1873 mots...   \n",
       "2017-09-20   Science & Médecine,  mercredi 20 septembre 20...   \n",
       "2021-01-27          mercredi 27 janvier 2021 130 mots, p. 27    \n",
       "2016-03-09   Science & techno,  mercredi 9 mars 2016 1164 ...   \n",
       "...                                                       ...   \n",
       "2018-10-03   Éco & Entreprise,  mercredi 3 octobre 2018 69...   \n",
       "2016-10-12   Science & techno,  mercredi 12 octobre 2016 6...   \n",
       "2016-04-06   Science & Médecine,  mercredi 6 avril 2016 66...   \n",
       "2016-07-08   Économie et Entreprise,  vendredi 8 juillet 2...   \n",
       "2019-06-05   Science & Médecine,  mercredi 5 juin 2019 123...   \n",
       "\n",
       "                                                        Titre       Journal  \\\n",
       "Date_reco                                                                     \n",
       "2021-07-15   Des résultats scientifiques plus accessibles ...   Le Monde      \n",
       "2020-01-10   Paul Allen, bienfaiteur de Seattle La philant...   Le Monde      \n",
       "2017-09-20   La recherche académique a tout à gagner à se ...   Le Monde      \n",
       "2021-01-27   Télescope ÉDITION SCIENTIFIQUE Progression de...   Le Monde      \n",
       "2016-03-09   Des chercheurs de nombreuses disciplines appe...   Le Monde      \n",
       "...                                                       ...           ...   \n",
       "2018-10-03   \" Les doctorants ne veulent plus être vus com...   Le Monde      \n",
       "2016-10-12         Improbablogie La fiction, ça fait du bien    Le Monde      \n",
       "2016-04-06   Vie des labos La psychologie est-elle en crise?    Le Monde      \n",
       "2016-07-08   Idées recherches L'Internet caché des cachalots    Le Monde      \n",
       "2019-06-05   Actualité « Les usagers ont un droit sur leur...   Le Monde      \n",
       "\n",
       "                                                      Contenu  \\\n",
       "Date_reco                                                       \n",
       "2021-07-15    Les budgets qui augmentent dans le monde de ...   \n",
       "2020-01-10    Seattle (États-Unis) envoyé spécial - Le cél...   \n",
       "2017-09-20    Progressivement, le concept d'Open Science t...   \n",
       "2021-01-27    Plus de la moitié (56 %) des 56 000 articles...   \n",
       "2016-03-09    En tant que chercheurs, nous considérons que...   \n",
       "...                                                       ...   \n",
       "2018-10-03    Alexandre Matic, représentant de la Confédér...   \n",
       "2016-10-12    Que ce soit au cinéma, au théâtre, dans les ...   \n",
       "2016-04-06    Dans les laboratoires de psychologie, on ne ...   \n",
       "2016-07-08    Vous reconnaissez votre ami par le langage q...   \n",
       "2019-06-05    Montre connectée pour mesurer l'activité phy...   \n",
       "\n",
       "                                                       Auteur  \\\n",
       "Date_reco                                                       \n",
       "2021-07-15                                  David Larousserie   \n",
       "2020-01-10                                Arnaud Leparmentier   \n",
       "2017-09-20                                                NaN   \n",
       "2021-01-27                                                NaN   \n",
       "2016-03-09                                                NaN   \n",
       "...                                                       ...   \n",
       "2018-10-03                                                NaN   \n",
       "2016-10-12                                  Pierre Barthélémy   \n",
       "2016-04-06                                                NaN   \n",
       "2016-07-08                                 par Paul Seabright   \n",
       "2019-06-05  Propos recueillis par Laure Belot Propos recue...   \n",
       "\n",
       "                                                  Contenu_min  \\\n",
       "Date_reco                                                       \n",
       "2021-07-15    les budgets qui augmentent dans le monde de ...   \n",
       "2020-01-10    seattle (états-unis) envoyé spécial - le cél...   \n",
       "2017-09-20    progressivement, le concept d'open science t...   \n",
       "2021-01-27    plus de la moitié (56 %) des 56 000 articles...   \n",
       "2016-03-09    en tant que chercheurs, nous considérons que...   \n",
       "...                                                       ...   \n",
       "2018-10-03    alexandre matic, représentant de la confédér...   \n",
       "2016-10-12    que ce soit au cinéma, au théâtre, dans les ...   \n",
       "2016-04-06    dans les laboratoires de psychologie, on ne ...   \n",
       "2016-07-08    vous reconnaissez votre ami par le langage q...   \n",
       "2019-06-05    montre connectée pour mesurer l'activité phy...   \n",
       "\n",
       "            presence_datapaper  presence_programmation  \n",
       "Date_reco                                               \n",
       "2021-07-15                   0                       0  \n",
       "2020-01-10                   0                       0  \n",
       "2017-09-20                   0                       0  \n",
       "2021-01-27                   0                       0  \n",
       "2016-03-09                   0                       0  \n",
       "...                        ...                     ...  \n",
       "2018-10-03                   0                       0  \n",
       "2016-10-12                   0                       0  \n",
       "2016-04-06                   0                       0  \n",
       "2016-07-08                   0                       0  \n",
       "2019-06-05                   0                       0  \n",
       "\n",
       "[93 rows x 8 columns]"
      ]
     },
     "execution_count": 76,
     "metadata": {},
     "output_type": "execute_result"
    }
   ],
   "source": [
    "tableau[tableau[\"Journal\"].str.contains(\"Le Monde\")]"
   ]
  },
  {
   "cell_type": "markdown",
   "id": "8a5095b0",
   "metadata": {},
   "source": [
    "Compter le nombre de mots"
   ]
  },
  {
   "cell_type": "code",
   "execution_count": 77,
   "id": "0fbe65fd",
   "metadata": {},
   "outputs": [],
   "source": [
    "def compter_nb_mots(texte):\n",
    "    \"\"\"\n",
    "    Compter le nombre de mots en espace\n",
    "    \"\"\"\n",
    "    return len(texte.split(\" \"))"
   ]
  },
  {
   "cell_type": "code",
   "execution_count": 79,
   "id": "9691bd6e",
   "metadata": {},
   "outputs": [],
   "source": [
    "tableau[\"Nb_mots\"] = tableau[\"Contenu\"].apply(compter_nb_mots)"
   ]
  },
  {
   "cell_type": "code",
   "execution_count": 82,
   "id": "8d793baa",
   "metadata": {},
   "outputs": [
    {
     "data": {
      "text/plain": [
       "752.3112244897959"
      ]
     },
     "execution_count": 82,
     "metadata": {},
     "output_type": "execute_result"
    }
   ],
   "source": [
    "tableau[\"Nb_mots\"].mean()"
   ]
  },
  {
   "cell_type": "code",
   "execution_count": 88,
   "id": "77fa3535",
   "metadata": {},
   "outputs": [
    {
     "data": {
      "text/plain": [
       "<AxesSubplot:title={'center':'Distribution de mots'}, ylabel='Frequency'>"
      ]
     },
     "execution_count": 88,
     "metadata": {},
     "output_type": "execute_result"
    },
    {
     "data": {
      "image/png": "[encoded data removed]",
      "text/plain": [
       "<Figure size 432x288 with 1 Axes>"
      ]
     },
     "metadata": {
      "needs_background": "light"
     },
     "output_type": "display_data"
    }
   ],
   "source": [
    "tableau[\"Nb_mots\"].plot(kind=\"hist\",title=\"Distribution de mots\")"
   ]
  }
 ],
 "metadata": {
  "kernelspec": {
   "display_name": "Python 3 (ipykernel)",
   "language": "python",
   "name": "python3"
  },
  "language_info": {
   "codemirror_mode": {
    "name": "ipython",
    "version": 3
   },
   "file_extension": ".py",
   "mimetype": "text/x-python",
   "name": "python",
   "nbconvert_exporter": "python",
   "pygments_lexer": "ipython3",
   "version": "3.9.7"
  }
 },
 "nbformat": 4,
 "nbformat_minor": 5
}
